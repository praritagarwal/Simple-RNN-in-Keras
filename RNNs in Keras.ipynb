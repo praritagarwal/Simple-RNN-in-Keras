{
 "cells": [
  {
   "cell_type": "markdown",
   "metadata": {},
   "source": [
    "## Introduction "
   ]
  },
  {
   "cell_type": "markdown",
   "metadata": {},
   "source": [
    "In this project we will try to learn how to work with RNNs in Keras. We will mostly follow Chapter 15 of Aurelion Geron's book on Machine Leraning (2nd Ed.). Note that we had already learnt how to use RNNs in pytorch through Udacity's course on  Introduction to Deep Learning with PyTorch. Our aim here will be to do the same in Keras. "
   ]
  },
  {
   "cell_type": "markdown",
   "metadata": {},
   "source": [
    "## Generating train and test sequences "
   ]
  },
  {
   "cell_type": "markdown",
   "metadata": {},
   "source": [
    "We will use a simple sine wave to produce our sequences"
   ]
  },
  {
   "cell_type": "code",
   "execution_count": 1,
   "metadata": {},
   "outputs": [],
   "source": [
    "import numpy as np"
   ]
  },
  {
   "cell_type": "code",
   "execution_count": 2,
   "metadata": {},
   "outputs": [],
   "source": [
    "import matplotlib.pyplot as plt"
   ]
  },
  {
   "cell_type": "code",
   "execution_count": 3,
   "metadata": {},
   "outputs": [
    {
     "data": {
      "text/plain": [
       "array([0.00000000e+00, 3.14159265e-02, 6.28318531e-02, ...,\n",
       "       1.57141522e+04, 1.57141836e+04, 1.57142150e+04])"
      ]
     },
     "execution_count": 3,
     "metadata": {},
     "output_type": "execute_result"
    }
   ],
   "source": [
    "time_steps=np.arange(0, 5002*np.pi, np.pi/100 )\n",
    "time_steps"
   ]
  },
  {
   "cell_type": "code",
   "execution_count": 4,
   "metadata": {},
   "outputs": [
    {
     "data": {
      "text/plain": [
       "array([[ 0.        ],\n",
       "       [ 0.03141076],\n",
       "       [ 0.06279052],\n",
       "       ...,\n",
       "       [-0.09410831],\n",
       "       [-0.06279052],\n",
       "       [-0.03141076]])"
      ]
     },
     "execution_count": 4,
     "metadata": {},
     "output_type": "execute_result"
    }
   ],
   "source": [
    "series = np.sin(time_steps).reshape(-1,1)\n",
    "series"
   ]
  },
  {
   "cell_type": "code",
   "execution_count": 5,
   "metadata": {},
   "outputs": [
    {
     "data": {
      "text/plain": [
       "(500200, 1)"
      ]
     },
     "execution_count": 5,
     "metadata": {},
     "output_type": "execute_result"
    }
   ],
   "source": [
    "series.shape"
   ]
  },
  {
   "cell_type": "code",
   "execution_count": 6,
   "metadata": {},
   "outputs": [
    {
     "data": {
      "image/png": "[encoded data removed]",
      "text/plain": [
       "<Figure size 432x288 with 1 Axes>"
      ]
     },
     "metadata": {
      "needs_background": "light"
     },
     "output_type": "display_data"
    }
   ],
   "source": [
    "plt.plot(series[:80])\n",
    "plt.show()"
   ]
  },
  {
   "cell_type": "markdown",
   "metadata": {},
   "source": [
    "We now wish to convert this into 50 batches. Each consisting of 20 sequences with each sequence consisting of 50 time steps. For this we will first reshape our data to be a 2d array with 20 rows, then we will use a sliding window of size 50 to divide the sequence into batches"
   ]
  },
  {
   "cell_type": "code",
   "execution_count": 7,
   "metadata": {},
   "outputs": [
    {
     "data": {
      "text/plain": [
       "500200"
      ]
     },
     "execution_count": 7,
     "metadata": {},
     "output_type": "execute_result"
    }
   ],
   "source": [
    "series.size"
   ]
  },
  {
   "cell_type": "code",
   "execution_count": 8,
   "metadata": {},
   "outputs": [
    {
     "data": {
      "text/plain": [
       "(20, 25010, 1)"
      ]
     },
     "execution_count": 8,
     "metadata": {},
     "output_type": "execute_result"
    }
   ],
   "source": [
    "series=series.reshape(20,-1,1)\n",
    "series.shape"
   ]
  },
  {
   "cell_type": "code",
   "execution_count": 9,
   "metadata": {},
   "outputs": [
    {
     "data": {
      "text/plain": [
       "array([   0,   50,  100,  150,  200,  250,  300,  350,  400,  450,  500,\n",
       "        550,  600,  650,  700,  750,  800,  850,  900,  950, 1000, 1050,\n",
       "       1100, 1150, 1200, 1250, 1300, 1350, 1400, 1450, 1500, 1550, 1600,\n",
       "       1650, 1700, 1750, 1800, 1850, 1900, 1950, 2000, 2050, 2100, 2150,\n",
       "       2200, 2250, 2300, 2350, 2400, 2450])"
      ]
     },
     "execution_count": 9,
     "metadata": {},
     "output_type": "execute_result"
    }
   ],
   "source": [
    "# the column index at which each new batch starts\n",
    "start_idx=np.arange(0,2500,50)\n",
    "start_idx"
   ]
  },
  {
   "cell_type": "code",
   "execution_count": 10,
   "metadata": {},
   "outputs": [
    {
     "data": {
      "text/plain": [
       "50"
      ]
     },
     "execution_count": 10,
     "metadata": {},
     "output_type": "execute_result"
    }
   ],
   "source": [
    "start_idx.size"
   ]
  },
  {
   "cell_type": "code",
   "execution_count": 11,
   "metadata": {},
   "outputs": [],
   "source": [
    "# extracting the input sequences\n",
    "x_batches=[]\n",
    "for idx in start_idx:\n",
    "    batch=series[:, idx: idx+50, :]\n",
    "    x_batches.append(batch)"
   ]
  },
  {
   "cell_type": "code",
   "execution_count": 12,
   "metadata": {},
   "outputs": [
    {
     "name": "stdout",
     "output_type": "stream",
     "text": [
      "batch: 1 shape: (20, 50, 1)\n",
      "batch: 2 shape: (20, 50, 1)\n",
      "batch: 3 shape: (20, 50, 1)\n",
      "batch: 4 shape: (20, 50, 1)\n",
      "batch: 5 shape: (20, 50, 1)\n",
      "batch: 6 shape: (20, 50, 1)\n",
      "batch: 7 shape: (20, 50, 1)\n",
      "batch: 8 shape: (20, 50, 1)\n",
      "batch: 9 shape: (20, 50, 1)\n",
      "batch: 10 shape: (20, 50, 1)\n",
      "batch: 11 shape: (20, 50, 1)\n",
      "batch: 12 shape: (20, 50, 1)\n",
      "batch: 13 shape: (20, 50, 1)\n",
      "batch: 14 shape: (20, 50, 1)\n",
      "batch: 15 shape: (20, 50, 1)\n",
      "batch: 16 shape: (20, 50, 1)\n",
      "batch: 17 shape: (20, 50, 1)\n",
      "batch: 18 shape: (20, 50, 1)\n",
      "batch: 19 shape: (20, 50, 1)\n",
      "batch: 20 shape: (20, 50, 1)\n",
      "batch: 21 shape: (20, 50, 1)\n",
      "batch: 22 shape: (20, 50, 1)\n",
      "batch: 23 shape: (20, 50, 1)\n",
      "batch: 24 shape: (20, 50, 1)\n",
      "batch: 25 shape: (20, 50, 1)\n",
      "batch: 26 shape: (20, 50, 1)\n",
      "batch: 27 shape: (20, 50, 1)\n",
      "batch: 28 shape: (20, 50, 1)\n",
      "batch: 29 shape: (20, 50, 1)\n",
      "batch: 30 shape: (20, 50, 1)\n",
      "batch: 31 shape: (20, 50, 1)\n",
      "batch: 32 shape: (20, 50, 1)\n",
      "batch: 33 shape: (20, 50, 1)\n",
      "batch: 34 shape: (20, 50, 1)\n",
      "batch: 35 shape: (20, 50, 1)\n",
      "batch: 36 shape: (20, 50, 1)\n",
      "batch: 37 shape: (20, 50, 1)\n",
      "batch: 38 shape: (20, 50, 1)\n",
      "batch: 39 shape: (20, 50, 1)\n",
      "batch: 40 shape: (20, 50, 1)\n",
      "batch: 41 shape: (20, 50, 1)\n",
      "batch: 42 shape: (20, 50, 1)\n",
      "batch: 43 shape: (20, 50, 1)\n",
      "batch: 44 shape: (20, 50, 1)\n",
      "batch: 45 shape: (20, 50, 1)\n",
      "batch: 46 shape: (20, 50, 1)\n",
      "batch: 47 shape: (20, 50, 1)\n",
      "batch: 48 shape: (20, 50, 1)\n",
      "batch: 49 shape: (20, 50, 1)\n",
      "batch: 50 shape: (20, 50, 1)\n"
     ]
    }
   ],
   "source": [
    "# checking that all the batches have the correct shape\n",
    "ctr=1\n",
    "for batch in x_batches:\n",
    "    print(\"batch: {} shape: {}\".format(ctr, batch.shape))\n",
    "    ctr+=1  "
   ]
  },
  {
   "cell_type": "code",
   "execution_count": 13,
   "metadata": {},
   "outputs": [],
   "source": [
    "# extracting the output sequences\n",
    "# these are same as input sequences shifted by 1 time_step\n",
    "y_batches=[]\n",
    "for idx in start_idx:\n",
    "    batch=series[:,idx+1:idx+51,:]\n",
    "    y_batches.append(batch)"
   ]
  },
  {
   "cell_type": "code",
   "execution_count": 14,
   "metadata": {},
   "outputs": [
    {
     "name": "stdout",
     "output_type": "stream",
     "text": [
      "batch: 1 shape: (20, 50, 1)\n",
      "batch: 2 shape: (20, 50, 1)\n",
      "batch: 3 shape: (20, 50, 1)\n",
      "batch: 4 shape: (20, 50, 1)\n",
      "batch: 5 shape: (20, 50, 1)\n",
      "batch: 6 shape: (20, 50, 1)\n",
      "batch: 7 shape: (20, 50, 1)\n",
      "batch: 8 shape: (20, 50, 1)\n",
      "batch: 9 shape: (20, 50, 1)\n",
      "batch: 10 shape: (20, 50, 1)\n",
      "batch: 11 shape: (20, 50, 1)\n",
      "batch: 12 shape: (20, 50, 1)\n",
      "batch: 13 shape: (20, 50, 1)\n",
      "batch: 14 shape: (20, 50, 1)\n",
      "batch: 15 shape: (20, 50, 1)\n",
      "batch: 16 shape: (20, 50, 1)\n",
      "batch: 17 shape: (20, 50, 1)\n",
      "batch: 18 shape: (20, 50, 1)\n",
      "batch: 19 shape: (20, 50, 1)\n",
      "batch: 20 shape: (20, 50, 1)\n",
      "batch: 21 shape: (20, 50, 1)\n",
      "batch: 22 shape: (20, 50, 1)\n",
      "batch: 23 shape: (20, 50, 1)\n",
      "batch: 24 shape: (20, 50, 1)\n",
      "batch: 25 shape: (20, 50, 1)\n",
      "batch: 26 shape: (20, 50, 1)\n",
      "batch: 27 shape: (20, 50, 1)\n",
      "batch: 28 shape: (20, 50, 1)\n",
      "batch: 29 shape: (20, 50, 1)\n",
      "batch: 30 shape: (20, 50, 1)\n",
      "batch: 31 shape: (20, 50, 1)\n",
      "batch: 32 shape: (20, 50, 1)\n",
      "batch: 33 shape: (20, 50, 1)\n",
      "batch: 34 shape: (20, 50, 1)\n",
      "batch: 35 shape: (20, 50, 1)\n",
      "batch: 36 shape: (20, 50, 1)\n",
      "batch: 37 shape: (20, 50, 1)\n",
      "batch: 38 shape: (20, 50, 1)\n",
      "batch: 39 shape: (20, 50, 1)\n",
      "batch: 40 shape: (20, 50, 1)\n",
      "batch: 41 shape: (20, 50, 1)\n",
      "batch: 42 shape: (20, 50, 1)\n",
      "batch: 43 shape: (20, 50, 1)\n",
      "batch: 44 shape: (20, 50, 1)\n",
      "batch: 45 shape: (20, 50, 1)\n",
      "batch: 46 shape: (20, 50, 1)\n",
      "batch: 47 shape: (20, 50, 1)\n",
      "batch: 48 shape: (20, 50, 1)\n",
      "batch: 49 shape: (20, 50, 1)\n",
      "batch: 50 shape: (20, 50, 1)\n"
     ]
    }
   ],
   "source": [
    "# making sure all the y_batches have the correct shape\n",
    "ctr=1\n",
    "for batch in y_batches:\n",
    "    print('batch: {} shape: {}'.format(ctr, batch.shape))\n",
    "    ctr+=1"
   ]
  },
  {
   "cell_type": "markdown",
   "metadata": {},
   "source": [
    "Next, we will compare the input and the output of a random sequence"
   ]
  },
  {
   "cell_type": "code",
   "execution_count": 15,
   "metadata": {},
   "outputs": [
    {
     "data": {
      "text/plain": [
       "array([[2.64669788e-13],\n",
       "       [3.14107591e-02],\n",
       "       [6.27905195e-02],\n",
       "       [9.41083133e-02],\n",
       "       [1.25333234e-01],\n",
       "       [1.56434465e-01]])"
      ]
     },
     "execution_count": 15,
     "metadata": {},
     "output_type": "execute_result"
    }
   ],
   "source": [
    "x=x_batches[23][5]\n",
    "x[:6]"
   ]
  },
  {
   "cell_type": "code",
   "execution_count": 16,
   "metadata": {},
   "outputs": [
    {
     "data": {
      "text/plain": [
       "array([[0.03141076],\n",
       "       [0.06279052],\n",
       "       [0.09410831],\n",
       "       [0.12533323],\n",
       "       [0.15643447]])"
      ]
     },
     "execution_count": 16,
     "metadata": {},
     "output_type": "execute_result"
    }
   ],
   "source": [
    "y=y_batches[23][5]\n",
    "y[:5]"
   ]
  },
  {
   "cell_type": "code",
   "execution_count": 17,
   "metadata": {
    "scrolled": true
   },
   "outputs": [
    {
     "data": {
      "image/png": "[encoded data removed]",
      "text/plain": [
       "<Figure size 432x288 with 1 Axes>"
      ]
     },
     "metadata": {
      "needs_background": "light"
     },
     "output_type": "display_data"
    }
   ],
   "source": [
    "plt.plot(x, 'r', label='input x')\n",
    "plt.plot(y, 'b', label='output y')\n",
    "plt.legend()\n",
    "plt.show()"
   ]
  },
  {
   "cell_type": "markdown",
   "metadata": {},
   "source": [
    "We see that indeed the sequence in y is shifted from that in x by a single time step. "
   ]
  },
  {
   "cell_type": "markdown",
   "metadata": {},
   "source": [
    "## Split into training and validation sets"
   ]
  },
  {
   "cell_type": "code",
   "execution_count": 18,
   "metadata": {},
   "outputs": [],
   "source": [
    "from sklearn.model_selection import train_test_split"
   ]
  },
  {
   "cell_type": "code",
   "execution_count": 19,
   "metadata": {},
   "outputs": [
    {
     "name": "stderr",
     "output_type": "stream",
     "text": [
      "C:\\Users\\agarw\\Anaconda3\\envs\\tensorflow-gpu\\lib\\site-packages\\sklearn\\model_selection\\_split.py:2179: FutureWarning: From version 0.21, test_size will always complement train_size unless both are specified.\n",
      "  FutureWarning)\n"
     ]
    }
   ],
   "source": [
    "# train_size = 70%\n",
    "seed = 42\n",
    "train_size = 0.7\n",
    "X_train, X_val, y_train, y_val = train_test_split(x_batches, y_batches, train_size=train_size, random_state=True )"
   ]
  },
  {
   "cell_type": "code",
   "execution_count": 20,
   "metadata": {},
   "outputs": [],
   "source": [
    "# validation size = 15% of the total data\n",
    "# this is equivalent to 50% of the remaining sequences after extracting the training data\n",
    "val_size = 0.5\n",
    "X_val, X_test, y_val, y_test = train_test_split(X_val, y_val, train_size=val_size, random_state=True )"
   ]
  },
  {
   "cell_type": "code",
   "execution_count": 21,
   "metadata": {},
   "outputs": [
    {
     "name": "stdout",
     "output_type": "stream",
     "text": [
      "num x_batches_train: 35\n",
      "num y_batches_train: 35\n",
      "num x_batches_val: 7\n",
      "num y_batches_val: 7\n",
      "num x_batches_test: 8\n",
      "num y_batches_test: 8\n"
     ]
    }
   ],
   "source": [
    "# number of batches in training and test sequences\n",
    "print('num x_batches_train: {}'.format(len(X_train)))\n",
    "print('num y_batches_train: {}'.format(len(y_train)))\n",
    "print('num x_batches_val: {}'.format(len(X_val)))\n",
    "print('num y_batches_val: {}'.format(len(y_val)))\n",
    "print('num x_batches_test: {}'.format(len(X_test)))\n",
    "print('num y_batches_test: {}'.format(len(y_test)))"
   ]
  },
  {
   "cell_type": "code",
   "execution_count": 22,
   "metadata": {},
   "outputs": [
    {
     "data": {
      "image/png": "[encoded data removed]",
      "text/plain": [
       "<Figure size 432x288 with 1 Axes>"
      ]
     },
     "metadata": {
      "needs_background": "light"
     },
     "output_type": "display_data"
    }
   ],
   "source": [
    "# compare the input and the output sequences of a random sequence in training batches\n",
    "x = X_train[17][14]\n",
    "y = y_train[17][14]\n",
    "plt.plot(x, 'r', label = 'input x')\n",
    "plt.plot(y, 'b', label = 'output y')\n",
    "plt.legend()\n",
    "plt.show()"
   ]
  },
  {
   "cell_type": "code",
   "execution_count": 23,
   "metadata": {},
   "outputs": [
    {
     "data": {
      "image/png": "[encoded data removed]",
      "text/plain": [
       "<Figure size 432x288 with 1 Axes>"
      ]
     },
     "metadata": {
      "needs_background": "light"
     },
     "output_type": "display_data"
    }
   ],
   "source": [
    "# compare the input and the output sequences of a random sequence in validation batches\n",
    "x = X_val[6][14]\n",
    "y = y_val[6][14]\n",
    "plt.plot(x, 'r', label = 'input x')\n",
    "plt.plot(y, 'b', label = 'output y')\n",
    "plt.legend()\n",
    "plt.show()"
   ]
  },
  {
   "cell_type": "code",
   "execution_count": 24,
   "metadata": {},
   "outputs": [
    {
     "data": {
      "image/png": "[encoded data removed]",
      "text/plain": [
       "<Figure size 432x288 with 1 Axes>"
      ]
     },
     "metadata": {
      "needs_background": "light"
     },
     "output_type": "display_data"
    }
   ],
   "source": [
    "# compare the input and the output sequences of a random sequence in test batches\n",
    "x = X_val[6][14]\n",
    "y = y_val[6][14]\n",
    "plt.plot(x, 'r', label = 'input x')\n",
    "plt.plot(y, 'b', label = 'output y')\n",
    "plt.legend()\n",
    "plt.show()"
   ]
  },
  {
   "cell_type": "markdown",
   "metadata": {},
   "source": [
    "## Building a single neuron simple RNN"
   ]
  },
  {
   "cell_type": "markdown",
   "metadata": {},
   "source": [
    "Having prepared our data, let us now import and train the Simple RNN provided by keras on these sequences. The relevant documentation for SimpleRNN can be found [here](https://keras.io/layers/recurrent/)."
   ]
  },
  {
   "cell_type": "code",
   "execution_count": 25,
   "metadata": {},
   "outputs": [
    {
     "name": "stderr",
     "output_type": "stream",
     "text": [
      "Using TensorFlow backend.\n"
     ]
    }
   ],
   "source": [
    "from keras.models import Sequential\n",
    "from keras.layers import SimpleRNN"
   ]
  },
  {
   "cell_type": "code",
   "execution_count": 26,
   "metadata": {},
   "outputs": [
    {
     "name": "stdout",
     "output_type": "stream",
     "text": [
      "WARNING:tensorflow:From C:\\Users\\agarw\\Anaconda3\\envs\\tensorflow-gpu\\lib\\site-packages\\tensorflow\\python\\framework\\op_def_library.py:263: colocate_with (from tensorflow.python.framework.ops) is deprecated and will be removed in a future version.\n",
      "Instructions for updating:\n",
      "Colocations handled automatically by placer.\n"
     ]
    }
   ],
   "source": [
    "# A 1 layer RNN with a single neuron\n",
    "# if we wish to get the output of each time_step, we must set\n",
    "# return_sequences=True \n",
    "# the sequence can be of any length => input shape is [None, 1]\n",
    "# since this is a simple RNN with just 1 neuron, it will be unfair to be able to learn to correctly predict the output for each time_step\n",
    "# therefore for now will only predict the expected value at the end of the sequence\n",
    "simpleRNN = Sequential([SimpleRNN(units = 1, input_shape= [None, 1], \n",
    "                                  return_sequences = False)] )"
   ]
  },
  {
   "cell_type": "markdown",
   "metadata": {},
   "source": [
    "### compile, fit and evaluate the model"
   ]
  },
  {
   "cell_type": "code",
   "execution_count": 27,
   "metadata": {},
   "outputs": [],
   "source": [
    "optimizer='adam'\n",
    "simpleRNN.compile(optimizer = optimizer, loss = 'mse')"
   ]
  },
  {
   "cell_type": "code",
   "execution_count": 28,
   "metadata": {},
   "outputs": [],
   "source": [
    "# let's check the output of the simpleRNN on a single sequence before training\n",
    "y_pred=simpleRNN.predict(X_train[17][14].reshape(1,50,1))"
   ]
  },
  {
   "cell_type": "code",
   "execution_count": 29,
   "metadata": {},
   "outputs": [
    {
     "data": {
      "text/plain": [
       "(1, 1)"
      ]
     },
     "execution_count": 29,
     "metadata": {},
     "output_type": "execute_result"
    }
   ],
   "source": [
    "y_pred.shape"
   ]
  },
  {
   "cell_type": "markdown",
   "metadata": {},
   "source": [
    "I just realized that I did not need to split my data into batches and can just pass the batch_size to model.fit() in keras"
   ]
  },
  {
   "cell_type": "code",
   "execution_count": 30,
   "metadata": {},
   "outputs": [
    {
     "data": {
      "text/plain": [
       "(700, 50, 1)"
      ]
     },
     "execution_count": 30,
     "metadata": {},
     "output_type": "execute_result"
    }
   ],
   "source": [
    "# joining all the batches in X_train\n",
    "X_train=np.array(X_train).reshape(-1,50,1)\n",
    "X_train.shape"
   ]
  },
  {
   "cell_type": "code",
   "execution_count": 31,
   "metadata": {},
   "outputs": [
    {
     "data": {
      "text/plain": [
       "(700, 50, 1)"
      ]
     },
     "execution_count": 31,
     "metadata": {},
     "output_type": "execute_result"
    }
   ],
   "source": [
    "# joining all the batches in y_train\n",
    "y_train = np.array(y_train).reshape(-1,50,1)\n",
    "y_train.shape"
   ]
  },
  {
   "cell_type": "code",
   "execution_count": 32,
   "metadata": {},
   "outputs": [
    {
     "data": {
      "text/plain": [
       "(700, 1)"
      ]
     },
     "execution_count": 32,
     "metadata": {},
     "output_type": "execute_result"
    }
   ],
   "source": [
    "# extracting the last value in the prediction sequence\n",
    "y_true_train=y_train[:,-1]\n",
    "y_true_train.shape"
   ]
  },
  {
   "cell_type": "code",
   "execution_count": 33,
   "metadata": {},
   "outputs": [
    {
     "name": "stdout",
     "output_type": "stream",
     "text": [
      "X_val shape: (140, 50, 1), y_val_shape: (140, 50, 1)\n"
     ]
    }
   ],
   "source": [
    "# joining all the validation batches\n",
    "X_val = np.array(X_val).reshape(-1,50,1)\n",
    "y_val = np.array(y_val).reshape(-1,50,1)\n",
    "print('X_val shape: {}, y_val_shape: {}'.format(X_val.shape, y_val.shape))"
   ]
  },
  {
   "cell_type": "code",
   "execution_count": 34,
   "metadata": {},
   "outputs": [
    {
     "data": {
      "text/plain": [
       "(140, 1)"
      ]
     },
     "execution_count": 34,
     "metadata": {},
     "output_type": "execute_result"
    }
   ],
   "source": [
    "# extracting the expected value at the end of each validation sequence\n",
    "y_true_val=y_val[:,-1]\n",
    "y_true_val.shape"
   ]
  },
  {
   "cell_type": "code",
   "execution_count": 35,
   "metadata": {},
   "outputs": [
    {
     "name": "stdout",
     "output_type": "stream",
     "text": [
      "X_test shape: (160, 50, 1), y_test shape: (160, 50, 1)\n"
     ]
    }
   ],
   "source": [
    "# joining all the test sequences\n",
    "X_test=np.array(X_test).reshape(-1, 50,1)\n",
    "y_test=np.array(y_test).reshape(-1,50,1)\n",
    "print('X_test shape: {}, y_test shape: {}'.format(X_test.shape, y_test.shape))"
   ]
  },
  {
   "cell_type": "code",
   "execution_count": 36,
   "metadata": {},
   "outputs": [
    {
     "data": {
      "text/plain": [
       "(160, 1)"
      ]
     },
     "execution_count": 36,
     "metadata": {},
     "output_type": "execute_result"
    }
   ],
   "source": [
    "# extracting the expected value at the end of each test sequence\n",
    "y_true_test=y_test[:,-1]\n",
    "y_true_test.shape"
   ]
  },
  {
   "cell_type": "code",
   "execution_count": 37,
   "metadata": {},
   "outputs": [],
   "source": [
    "from keras.callbacks import EarlyStopping"
   ]
  },
  {
   "cell_type": "code",
   "execution_count": 38,
   "metadata": {},
   "outputs": [],
   "source": [
    "# early stopper to stop training if val_loss does not improve over a certain period of training\n",
    "\n",
    "patience = 20 # training should stop if val_loss does not improve for this many epochs\n",
    "min_delta = 0.01 # val_loss should improve by atleast this much for training to not stop \n",
    "stopper = EarlyStopping(monitor = 'val_loss', min_delta = min_delta, patience = patience, restore_best_weights = True)\n"
   ]
  },
  {
   "cell_type": "code",
   "execution_count": 39,
   "metadata": {},
   "outputs": [
    {
     "name": "stdout",
     "output_type": "stream",
     "text": [
      "WARNING:tensorflow:From C:\\Users\\agarw\\Anaconda3\\envs\\tensorflow-gpu\\lib\\site-packages\\tensorflow\\python\\ops\\math_ops.py:3066: to_int32 (from tensorflow.python.ops.math_ops) is deprecated and will be removed in a future version.\n",
      "Instructions for updating:\n",
      "Use tf.cast instead.\n",
      "Train on 700 samples, validate on 140 samples\n",
      "Epoch 1/200\n",
      "700/700 [==============================] - 1s 1ms/step - loss: 0.7453 - val_loss: 0.7281\n",
      "Epoch 2/200\n",
      "700/700 [==============================] - 1s 1ms/step - loss: 0.7166 - val_loss: 0.7052\n",
      "Epoch 3/200\n",
      "700/700 [==============================] - 1s 1ms/step - loss: 0.6950 - val_loss: 0.6844\n",
      "Epoch 4/200\n",
      "700/700 [==============================] - 1s 1ms/step - loss: 0.6744 - val_loss: 0.6640\n",
      "Epoch 5/200\n",
      "700/700 [==============================] - 1s 1ms/step - loss: 0.6543 - val_loss: 0.6440\n",
      "Epoch 6/200\n",
      "700/700 [==============================] - 1s 1ms/step - loss: 0.6346 - val_loss: 0.6243\n",
      "Epoch 7/200\n",
      "700/700 [==============================] - 1s 1ms/step - loss: 0.6152 - val_loss: 0.6054\n",
      "Epoch 8/200\n",
      "700/700 [==============================] - 1s 1ms/step - loss: 0.5964 - val_loss: 0.5868\n",
      "Epoch 9/200\n",
      "700/700 [==============================] - 1s 1ms/step - loss: 0.5780 - val_loss: 0.5687\n",
      "Epoch 10/200\n",
      "700/700 [==============================] - 1s 1ms/step - loss: 0.5601 - val_loss: 0.5509\n",
      "Epoch 11/200\n",
      "700/700 [==============================] - 1s 1ms/step - loss: 0.5427 - val_loss: 0.5339\n",
      "Epoch 12/200\n",
      "700/700 [==============================] - 1s 1ms/step - loss: 0.5258 - val_loss: 0.5173\n",
      "Epoch 13/200\n",
      "700/700 [==============================] - 1s 1ms/step - loss: 0.5094 - val_loss: 0.5012\n",
      "Epoch 14/200\n",
      "700/700 [==============================] - 1s 1ms/step - loss: 0.4935 - val_loss: 0.4851\n",
      "Epoch 15/200\n",
      "700/700 [==============================] - 1s 1ms/step - loss: 0.4777 - val_loss: 0.4697\n",
      "Epoch 16/200\n",
      "700/700 [==============================] - 1s 1ms/step - loss: 0.4624 - val_loss: 0.4546\n",
      "Epoch 17/200\n",
      "700/700 [==============================] - 1s 1ms/step - loss: 0.4474 - val_loss: 0.4396\n",
      "Epoch 18/200\n",
      "700/700 [==============================] - 1s 1ms/step - loss: 0.4325 - val_loss: 0.4250\n",
      "Epoch 19/200\n",
      "700/700 [==============================] - 1s 1ms/step - loss: 0.4180 - val_loss: 0.4107\n",
      "Epoch 20/200\n",
      "700/700 [==============================] - 1s 1ms/step - loss: 0.4038 - val_loss: 0.3964\n",
      "Epoch 21/200\n",
      "700/700 [==============================] - 1s 1ms/step - loss: 0.3898 - val_loss: 0.3827\n",
      "Epoch 22/200\n",
      "700/700 [==============================] - 1s 1ms/step - loss: 0.3761 - val_loss: 0.3692\n",
      "Epoch 23/200\n",
      "700/700 [==============================] - 1s 1ms/step - loss: 0.3626 - val_loss: 0.3555\n",
      "Epoch 24/200\n",
      "700/700 [==============================] - 1s 1ms/step - loss: 0.3491 - val_loss: 0.3420\n",
      "Epoch 25/200\n",
      "700/700 [==============================] - 1s 1ms/step - loss: 0.3355 - val_loss: 0.3283\n",
      "Epoch 26/200\n",
      "700/700 [==============================] - 1s 1ms/step - loss: 0.3219 - val_loss: 0.3146\n",
      "Epoch 27/200\n",
      "700/700 [==============================] - 1s 1ms/step - loss: 0.3079 - val_loss: 0.3008\n",
      "Epoch 28/200\n",
      "700/700 [==============================] - 1s 1ms/step - loss: 0.2941 - val_loss: 0.2866\n",
      "Epoch 29/200\n",
      "700/700 [==============================] - 1s 1ms/step - loss: 0.2799 - val_loss: 0.2725\n",
      "Epoch 30/200\n",
      "700/700 [==============================] - 1s 1ms/step - loss: 0.2656 - val_loss: 0.2583\n",
      "Epoch 31/200\n",
      "700/700 [==============================] - 1s 1ms/step - loss: 0.2513 - val_loss: 0.2438\n",
      "Epoch 32/200\n",
      "700/700 [==============================] - 1s 1ms/step - loss: 0.2368 - val_loss: 0.2294\n",
      "Epoch 33/200\n",
      "700/700 [==============================] - 1s 1ms/step - loss: 0.2222 - val_loss: 0.2148\n",
      "Epoch 34/200\n",
      "700/700 [==============================] - 1s 1ms/step - loss: 0.2076 - val_loss: 0.2001\n",
      "Epoch 35/200\n",
      "700/700 [==============================] - 1s 1ms/step - loss: 0.1930 - val_loss: 0.1855\n",
      "Epoch 36/200\n",
      "700/700 [==============================] - 1s 1ms/step - loss: 0.1784 - val_loss: 0.1708\n",
      "Epoch 37/200\n",
      "700/700 [==============================] - 1s 1ms/step - loss: 0.1639 - val_loss: 0.1567\n",
      "Epoch 38/200\n",
      "700/700 [==============================] - 1s 1ms/step - loss: 0.1497 - val_loss: 0.1425\n",
      "Epoch 39/200\n",
      "700/700 [==============================] - 1s 1ms/step - loss: 0.1358 - val_loss: 0.1288\n",
      "Epoch 40/200\n",
      "700/700 [==============================] - 1s 1ms/step - loss: 0.1224 - val_loss: 0.1156\n",
      "Epoch 41/200\n",
      "700/700 [==============================] - 1s 1ms/step - loss: 0.1096 - val_loss: 0.1029\n",
      "Epoch 42/200\n",
      "700/700 [==============================] - 1s 1ms/step - loss: 0.0973 - val_loss: 0.0914\n",
      "Epoch 43/200\n",
      "700/700 [==============================] - 1s 1ms/step - loss: 0.0860 - val_loss: 0.0805\n",
      "Epoch 44/200\n",
      "700/700 [==============================] - 1s 1ms/step - loss: 0.0755 - val_loss: 0.0704\n",
      "Epoch 45/200\n",
      "700/700 [==============================] - 1s 1ms/step - loss: 0.0659 - val_loss: 0.0613\n",
      "Epoch 46/200\n",
      "700/700 [==============================] - 1s 1ms/step - loss: 0.0574 - val_loss: 0.0531\n",
      "Epoch 47/200\n",
      "700/700 [==============================] - 1s 1ms/step - loss: 0.0496 - val_loss: 0.0461\n",
      "Epoch 48/200\n",
      "700/700 [==============================] - 1s 1ms/step - loss: 0.0430 - val_loss: 0.0398\n",
      "Epoch 49/200\n",
      "700/700 [==============================] - 1s 1ms/step - loss: 0.0371 - val_loss: 0.0344\n",
      "Epoch 50/200\n",
      "700/700 [==============================] - 1s 1ms/step - loss: 0.0321 - val_loss: 0.0299\n",
      "Epoch 51/200\n",
      "700/700 [==============================] - 1s 1ms/step - loss: 0.0279 - val_loss: 0.0259\n",
      "Epoch 52/200\n",
      "700/700 [==============================] - 1s 1ms/step - loss: 0.0243 - val_loss: 0.0227\n",
      "Epoch 53/200\n",
      "700/700 [==============================] - 1s 1ms/step - loss: 0.0213 - val_loss: 0.0199\n",
      "Epoch 54/200\n",
      "700/700 [==============================] - 1s 1ms/step - loss: 0.0188 - val_loss: 0.0177\n",
      "Epoch 55/200\n",
      "700/700 [==============================] - 1s 1ms/step - loss: 0.0168 - val_loss: 0.0158\n",
      "Epoch 56/200\n",
      "700/700 [==============================] - 1s 1ms/step - loss: 0.0150 - val_loss: 0.0143\n",
      "Epoch 57/200\n",
      "700/700 [==============================] - 1s 1ms/step - loss: 0.0137 - val_loss: 0.0131\n",
      "Epoch 58/200\n",
      "700/700 [==============================] - 1s 1ms/step - loss: 0.0125 - val_loss: 0.0120\n",
      "Epoch 59/200\n",
      "700/700 [==============================] - 1s 1ms/step - loss: 0.0116 - val_loss: 0.0112\n",
      "Epoch 60/200\n",
      "700/700 [==============================] - 1s 1ms/step - loss: 0.0109 - val_loss: 0.0106\n",
      "Epoch 61/200\n",
      "700/700 [==============================] - 1s 1ms/step - loss: 0.0103 - val_loss: 0.0100\n",
      "Epoch 62/200\n",
      "700/700 [==============================] - 1s 1ms/step - loss: 0.0098 - val_loss: 0.0096\n",
      "Epoch 63/200\n",
      "700/700 [==============================] - 1s 1ms/step - loss: 0.0094 - val_loss: 0.0093\n",
      "Epoch 64/200\n",
      "700/700 [==============================] - 1s 1ms/step - loss: 0.0091 - val_loss: 0.0090\n",
      "Epoch 65/200\n",
      "700/700 [==============================] - 1s 1ms/step - loss: 0.0089 - val_loss: 0.0088\n",
      "Epoch 66/200\n",
      "700/700 [==============================] - 1s 1ms/step - loss: 0.0087 - val_loss: 0.0086\n",
      "Epoch 67/200\n",
      "700/700 [==============================] - 1s 1ms/step - loss: 0.0086 - val_loss: 0.0085\n",
      "Epoch 68/200\n",
      "700/700 [==============================] - 1s 1ms/step - loss: 0.0084 - val_loss: 0.0084\n",
      "Epoch 69/200\n",
      "700/700 [==============================] - 1s 1ms/step - loss: 0.0084 - val_loss: 0.0083\n",
      "Epoch 70/200\n",
      "700/700 [==============================] - 1s 1ms/step - loss: 0.0083 - val_loss: 0.0082\n",
      "Epoch 71/200\n",
      "700/700 [==============================] - 1s 1ms/step - loss: 0.0082 - val_loss: 0.0082\n",
      "Epoch 72/200\n",
      "700/700 [==============================] - 1s 1ms/step - loss: 0.0082 - val_loss: 0.0082\n",
      "Epoch 73/200\n",
      "700/700 [==============================] - 1s 1ms/step - loss: 0.0081 - val_loss: 0.0081\n",
      "Epoch 74/200\n",
      "700/700 [==============================] - 1s 1ms/step - loss: 0.0081 - val_loss: 0.0081\n",
      "Epoch 75/200\n",
      "700/700 [==============================] - 1s 1ms/step - loss: 0.0081 - val_loss: 0.0081\n"
     ]
    },
    {
     "data": {
      "text/plain": [
       "<keras.callbacks.History at 0x20380fe9518>"
      ]
     },
     "execution_count": 39,
     "metadata": {},
     "output_type": "execute_result"
    }
   ],
   "source": [
    "# training the model\n",
    "epochs=200\n",
    "verbose = 1\n",
    "\n",
    "simpleRNN.fit(X_train, y_true_train, epochs=epochs, batch_size=20, verbose = verbose,\n",
    "              callbacks = [stopper], validation_data = (X_val, y_true_val))"
   ]
  },
  {
   "cell_type": "code",
   "execution_count": 40,
   "metadata": {},
   "outputs": [
    {
     "data": {
      "text/plain": [
       "(160, 1)"
      ]
     },
     "execution_count": 40,
     "metadata": {},
     "output_type": "execute_result"
    }
   ],
   "source": [
    "# predictions on the test set\n",
    "y_test_pred = simpleRNN.predict(X_test)\n",
    "y_test_pred.shape"
   ]
  },
  {
   "cell_type": "code",
   "execution_count": 41,
   "metadata": {},
   "outputs": [
    {
     "data": {
      "image/png": "[encoded data removed]",
      "text/plain": [
       "<Figure size 432x288 with 1 Axes>"
      ]
     },
     "metadata": {
      "needs_background": "light"
     },
     "output_type": "display_data"
    }
   ],
   "source": [
    "# compare y_true_test and y_test_pred\n",
    "plt.plot(y_true_test, 'r', label = 'true value')\n",
    "plt.plot(y_test_pred, 'b', label = 'predicted value')\n",
    "plt.legend()\n",
    "plt.show()"
   ]
  },
  {
   "cell_type": "code",
   "execution_count": 42,
   "metadata": {},
   "outputs": [],
   "source": [
    "from sklearn.metrics import mean_squared_error as mse"
   ]
  },
  {
   "cell_type": "code",
   "execution_count": 43,
   "metadata": {},
   "outputs": [
    {
     "name": "stdout",
     "output_type": "stream",
     "text": [
      "test loss: 0.01580986562754157\n"
     ]
    }
   ],
   "source": [
    "# mse of the test prediction\n",
    "test_loss = mse(y_true_test, y_test_pred)\n",
    "print('test loss: {}'.format(test_loss))"
   ]
  },
  {
   "cell_type": "markdown",
   "metadata": {},
   "source": [
    "This was pretty good! "
   ]
  },
  {
   "cell_type": "markdown",
   "metadata": {},
   "source": [
    "### let's try predicting all the timesteps in a sequence"
   ]
  },
  {
   "cell_type": "code",
   "execution_count": 55,
   "metadata": {},
   "outputs": [],
   "source": [
    "simpleRNN2 = Sequential([SimpleRNN(units=1 ,input_shape=[None, 1], return_sequences=True)])"
   ]
  },
  {
   "cell_type": "code",
   "execution_count": 56,
   "metadata": {},
   "outputs": [],
   "source": [
    "optimizer = 'adam'\n",
    "simpleRNN2.compile(optimizer = optimizer, loss = 'mse' )"
   ]
  },
  {
   "cell_type": "code",
   "execution_count": 57,
   "metadata": {},
   "outputs": [],
   "source": [
    "patience = 30\n",
    "min_delta = 0.01\n",
    "\n",
    "stopper = EarlyStopping(monitor = 'val_loss', min_delta = min_delta, patience = patience, restore_best_weights = True )"
   ]
  },
  {
   "cell_type": "code",
   "execution_count": 58,
   "metadata": {},
   "outputs": [
    {
     "name": "stdout",
     "output_type": "stream",
     "text": [
      "Train on 700 samples, validate on 140 samples\n",
      "Epoch 1/300\n",
      "700/700 [==============================] - 1s 1ms/step - loss: 1.2599 - val_loss: 1.2524\n",
      "Epoch 2/300\n",
      "700/700 [==============================] - 0s 493us/step - loss: 1.2464 - val_loss: 1.2395\n",
      "Epoch 3/300\n",
      "700/700 [==============================] - 0s 413us/step - loss: 1.2341 - val_loss: 1.2277\n",
      "Epoch 4/300\n",
      "700/700 [==============================] - 0s 429us/step - loss: 1.2228 - val_loss: 1.2173\n",
      "Epoch 5/300\n",
      "700/700 [==============================] - 0s 429us/step - loss: 1.2129 - val_loss: 1.2078\n",
      "Epoch 6/300\n",
      "700/700 [==============================] - 0s 454us/step - loss: 1.2037 - val_loss: 1.1989\n",
      "Epoch 7/300\n",
      "700/700 [==============================] - 0s 433us/step - loss: 1.1949 - val_loss: 1.1903\n",
      "Epoch 8/300\n",
      "700/700 [==============================] - 0s 422us/step - loss: 1.1863 - val_loss: 1.1817\n",
      "Epoch 9/300\n",
      "700/700 [==============================] - 0s 417us/step - loss: 1.1776 - val_loss: 1.1730\n",
      "Epoch 10/300\n",
      "700/700 [==============================] - 0s 436us/step - loss: 1.1690 - val_loss: 1.1643\n",
      "Epoch 11/300\n",
      "700/700 [==============================] - 0s 430us/step - loss: 1.1602 - val_loss: 1.1555\n",
      "Epoch 12/300\n",
      "700/700 [==============================] - 0s 439us/step - loss: 1.1515 - val_loss: 1.1467\n",
      "Epoch 13/300\n",
      "700/700 [==============================] - 0s 445us/step - loss: 1.1427 - val_loss: 1.1379\n",
      "Epoch 14/300\n",
      "700/700 [==============================] - 0s 452us/step - loss: 1.1339 - val_loss: 1.1291\n",
      "Epoch 15/300\n",
      "700/700 [==============================] - 0s 440us/step - loss: 1.1250 - val_loss: 1.1203\n",
      "Epoch 16/300\n",
      "700/700 [==============================] - 0s 453us/step - loss: 1.1162 - val_loss: 1.1114\n",
      "Epoch 17/300\n",
      "700/700 [==============================] - 0s 435us/step - loss: 1.1073 - val_loss: 1.1025\n",
      "Epoch 18/300\n",
      "700/700 [==============================] - 0s 432us/step - loss: 1.0983 - val_loss: 1.0936\n",
      "Epoch 19/300\n",
      "700/700 [==============================] - 0s 514us/step - loss: 1.0894 - val_loss: 1.0847\n",
      "Epoch 20/300\n",
      "700/700 [==============================] - 0s 470us/step - loss: 1.0806 - val_loss: 1.0757\n",
      "Epoch 21/300\n",
      "700/700 [==============================] - 0s 427us/step - loss: 1.0716 - val_loss: 1.0668\n",
      "Epoch 22/300\n",
      "700/700 [==============================] - 0s 433us/step - loss: 1.0626 - val_loss: 1.0579\n",
      "Epoch 23/300\n",
      "700/700 [==============================] - 0s 439us/step - loss: 1.0538 - val_loss: 1.0489\n",
      "Epoch 24/300\n",
      "700/700 [==============================] - 0s 430us/step - loss: 1.0448 - val_loss: 1.0400\n",
      "Epoch 25/300\n",
      "700/700 [==============================] - 0s 425us/step - loss: 1.0359 - val_loss: 1.0310\n",
      "Epoch 26/300\n",
      "700/700 [==============================] - 0s 460us/step - loss: 1.0269 - val_loss: 1.0221\n",
      "Epoch 27/300\n",
      "700/700 [==============================] - 0s 417us/step - loss: 1.0180 - val_loss: 1.0132\n",
      "Epoch 28/300\n",
      "700/700 [==============================] - 0s 426us/step - loss: 1.0091 - val_loss: 1.0043\n",
      "Epoch 29/300\n",
      "700/700 [==============================] - 0s 511us/step - loss: 1.0002 - val_loss: 0.9953\n",
      "Epoch 30/300\n",
      "700/700 [==============================] - 0s 442us/step - loss: 0.9913 - val_loss: 0.9865\n",
      "Epoch 31/300\n",
      "700/700 [==============================] - 0s 474us/step - loss: 0.9824 - val_loss: 0.9776\n",
      "Epoch 32/300\n",
      "700/700 [==============================] - 0s 427us/step - loss: 0.9735 - val_loss: 0.9687\n",
      "Epoch 33/300\n",
      "700/700 [==============================] - 0s 446us/step - loss: 0.9646 - val_loss: 0.9599\n",
      "Epoch 34/300\n",
      "700/700 [==============================] - 0s 433us/step - loss: 0.9558 - val_loss: 0.9510\n",
      "Epoch 35/300\n",
      "700/700 [==============================] - 0s 455us/step - loss: 0.9469 - val_loss: 0.9422\n",
      "Epoch 36/300\n",
      "700/700 [==============================] - 0s 437us/step - loss: 0.9381 - val_loss: 0.9333\n",
      "Epoch 37/300\n",
      "700/700 [==============================] - 0s 430us/step - loss: 0.9292 - val_loss: 0.9245\n",
      "Epoch 38/300\n",
      "700/700 [==============================] - 0s 435us/step - loss: 0.9205 - val_loss: 0.9157\n",
      "Epoch 39/300\n",
      "700/700 [==============================] - 0s 436us/step - loss: 0.9116 - val_loss: 0.9070\n",
      "Epoch 40/300\n",
      "700/700 [==============================] - 0s 432us/step - loss: 0.9029 - val_loss: 0.8982\n",
      "Epoch 41/300\n",
      "700/700 [==============================] - 0s 415us/step - loss: 0.8942 - val_loss: 0.8894\n",
      "Epoch 42/300\n",
      "700/700 [==============================] - 0s 429us/step - loss: 0.8854 - val_loss: 0.8807\n",
      "Epoch 43/300\n",
      "700/700 [==============================] - 0s 423us/step - loss: 0.8767 - val_loss: 0.8721\n",
      "Epoch 44/300\n",
      "700/700 [==============================] - 0s 426us/step - loss: 0.8681 - val_loss: 0.8634\n",
      "Epoch 45/300\n",
      "700/700 [==============================] - 0s 470us/step - loss: 0.8594 - val_loss: 0.8548\n",
      "Epoch 46/300\n",
      "700/700 [==============================] - 0s 492us/step - loss: 0.8508 - val_loss: 0.8462\n",
      "Epoch 47/300\n",
      "700/700 [==============================] - 0s 467us/step - loss: 0.8422 - val_loss: 0.8376\n",
      "Epoch 48/300\n",
      "700/700 [==============================] - 0s 433us/step - loss: 0.8337 - val_loss: 0.8290\n",
      "Epoch 49/300\n",
      "700/700 [==============================] - 0s 447us/step - loss: 0.8250 - val_loss: 0.8205\n",
      "Epoch 50/300\n",
      "700/700 [==============================] - 0s 426us/step - loss: 0.8166 - val_loss: 0.8119\n",
      "Epoch 51/300\n",
      "700/700 [==============================] - 0s 499us/step - loss: 0.8080 - val_loss: 0.8035\n",
      "Epoch 52/300\n",
      "700/700 [==============================] - 0s 577us/step - loss: 0.7996 - val_loss: 0.7951\n",
      "Epoch 53/300\n",
      "700/700 [==============================] - 0s 459us/step - loss: 0.7912 - val_loss: 0.7867\n",
      "Epoch 54/300\n",
      "700/700 [==============================] - 0s 464us/step - loss: 0.7828 - val_loss: 0.7783\n",
      "Epoch 55/300\n",
      "700/700 [==============================] - 0s 502us/step - loss: 0.7744 - val_loss: 0.7700\n",
      "Epoch 56/300\n",
      "700/700 [==============================] - 0s 422us/step - loss: 0.7661 - val_loss: 0.7617\n",
      "Epoch 57/300\n",
      "700/700 [==============================] - 0s 452us/step - loss: 0.7578 - val_loss: 0.7534\n",
      "Epoch 58/300\n",
      "700/700 [==============================] - 0s 445us/step - loss: 0.7496 - val_loss: 0.7451\n",
      "Epoch 59/300\n",
      "700/700 [==============================] - 0s 442us/step - loss: 0.7413 - val_loss: 0.7370\n",
      "Epoch 60/300\n",
      "700/700 [==============================] - 0s 440us/step - loss: 0.7332 - val_loss: 0.7288\n",
      "Epoch 61/300\n",
      "700/700 [==============================] - 0s 456us/step - loss: 0.7250 - val_loss: 0.7207\n",
      "Epoch 62/300\n",
      "700/700 [==============================] - 0s 527us/step - loss: 0.7169 - val_loss: 0.7126\n",
      "Epoch 63/300\n",
      "700/700 [==============================] - 0s 447us/step - loss: 0.7088 - val_loss: 0.7045\n",
      "Epoch 64/300\n",
      "700/700 [==============================] - 0s 474us/step - loss: 0.7008 - val_loss: 0.6965\n",
      "Epoch 65/300\n",
      "700/700 [==============================] - 0s 510us/step - loss: 0.6928 - val_loss: 0.6885\n",
      "Epoch 66/300\n",
      "700/700 [==============================] - 0s 439us/step - loss: 0.6849 - val_loss: 0.6806\n",
      "Epoch 67/300\n",
      "700/700 [==============================] - 0s 437us/step - loss: 0.6770 - val_loss: 0.6727\n",
      "Epoch 68/300\n",
      "700/700 [==============================] - 0s 443us/step - loss: 0.6691 - val_loss: 0.6649\n",
      "Epoch 69/300\n",
      "700/700 [==============================] - 0s 487us/step - loss: 0.6613 - val_loss: 0.6571\n",
      "Epoch 70/300\n",
      "700/700 [==============================] - 0s 459us/step - loss: 0.6536 - val_loss: 0.6494\n",
      "Epoch 71/300\n",
      "700/700 [==============================] - 0s 484us/step - loss: 0.6458 - val_loss: 0.6417\n",
      "Epoch 72/300\n",
      "700/700 [==============================] - 0s 415us/step - loss: 0.6382 - val_loss: 0.6341\n",
      "Epoch 73/300\n",
      "700/700 [==============================] - 0s 422us/step - loss: 0.6306 - val_loss: 0.6265\n",
      "Epoch 74/300\n",
      "700/700 [==============================] - 0s 459us/step - loss: 0.6230 - val_loss: 0.6191\n",
      "Epoch 75/300\n",
      "700/700 [==============================] - 0s 439us/step - loss: 0.6156 - val_loss: 0.6116\n",
      "Epoch 76/300\n",
      "700/700 [==============================] - 0s 453us/step - loss: 0.6082 - val_loss: 0.6042\n",
      "Epoch 77/300\n",
      "700/700 [==============================] - 0s 429us/step - loss: 0.6008 - val_loss: 0.5970\n",
      "Epoch 78/300\n",
      "700/700 [==============================] - ETA: 0s - loss: 0.594 - 0s 449us/step - loss: 0.5936 - val_loss: 0.5896\n",
      "Epoch 79/300\n"
     ]
    },
    {
     "name": "stdout",
     "output_type": "stream",
     "text": [
      "700/700 [==============================] - 0s 486us/step - loss: 0.5863 - val_loss: 0.5824\n",
      "Epoch 80/300\n",
      "700/700 [==============================] - 1s 742us/step - loss: 0.5791 - val_loss: 0.5753\n",
      "Epoch 81/300\n",
      "700/700 [==============================] - 0s 600us/step - loss: 0.5721 - val_loss: 0.5682\n",
      "Epoch 82/300\n",
      "700/700 [==============================] - 0s 507us/step - loss: 0.5650 - val_loss: 0.5613\n",
      "Epoch 83/300\n",
      "700/700 [==============================] - 0s 489us/step - loss: 0.5581 - val_loss: 0.5544\n",
      "Epoch 84/300\n",
      "700/700 [==============================] - 0s 436us/step - loss: 0.5512 - val_loss: 0.5476\n",
      "Epoch 85/300\n",
      "700/700 [==============================] - 0s 440us/step - loss: 0.5445 - val_loss: 0.5408\n",
      "Epoch 86/300\n",
      "700/700 [==============================] - 0s 507us/step - loss: 0.5378 - val_loss: 0.5342\n",
      "Epoch 87/300\n",
      "700/700 [==============================] - 0s 422us/step - loss: 0.5312 - val_loss: 0.5276\n",
      "Epoch 88/300\n",
      "700/700 [==============================] - 0s 432us/step - loss: 0.5246 - val_loss: 0.5212\n",
      "Epoch 89/300\n",
      "700/700 [==============================] - 0s 504us/step - loss: 0.5182 - val_loss: 0.5148\n",
      "Epoch 90/300\n",
      "700/700 [==============================] - 0s 463us/step - loss: 0.5119 - val_loss: 0.5086\n",
      "Epoch 91/300\n",
      "700/700 [==============================] - 0s 484us/step - loss: 0.5058 - val_loss: 0.5024\n",
      "Epoch 92/300\n",
      "700/700 [==============================] - 0s 462us/step - loss: 0.4997 - val_loss: 0.4964\n",
      "Epoch 93/300\n",
      "700/700 [==============================] - 0s 446us/step - loss: 0.4937 - val_loss: 0.4905\n",
      "Epoch 94/300\n",
      "700/700 [==============================] - 0s 436us/step - loss: 0.4878 - val_loss: 0.4846\n",
      "Epoch 95/300\n",
      "700/700 [==============================] - 0s 446us/step - loss: 0.4820 - val_loss: 0.4789\n",
      "Epoch 96/300\n",
      "700/700 [==============================] - 0s 449us/step - loss: 0.4762 - val_loss: 0.4732\n",
      "Epoch 97/300\n",
      "700/700 [==============================] - 0s 473us/step - loss: 0.4705 - val_loss: 0.4674\n",
      "Epoch 98/300\n",
      "700/700 [==============================] - 0s 482us/step - loss: 0.4647 - val_loss: 0.4617\n",
      "Epoch 99/300\n",
      "700/700 [==============================] - 0s 457us/step - loss: 0.4590 - val_loss: 0.4558\n",
      "Epoch 100/300\n",
      "700/700 [==============================] - 0s 464us/step - loss: 0.4532 - val_loss: 0.4500\n",
      "Epoch 101/300\n",
      "700/700 [==============================] - 0s 540us/step - loss: 0.4473 - val_loss: 0.4441\n",
      "Epoch 102/300\n",
      "700/700 [==============================] - 0s 430us/step - loss: 0.4414 - val_loss: 0.4383\n",
      "Epoch 103/300\n",
      "700/700 [==============================] - 0s 510us/step - loss: 0.4356 - val_loss: 0.4323\n",
      "Epoch 104/300\n",
      "700/700 [==============================] - 0s 435us/step - loss: 0.4296 - val_loss: 0.4264\n",
      "Epoch 105/300\n",
      "700/700 [==============================] - 0s 494us/step - loss: 0.4236 - val_loss: 0.4204\n",
      "Epoch 106/300\n",
      "700/700 [==============================] - 0s 442us/step - loss: 0.4175 - val_loss: 0.4143\n",
      "Epoch 107/300\n",
      "700/700 [==============================] - 0s 482us/step - loss: 0.4115 - val_loss: 0.4081\n",
      "Epoch 108/300\n",
      "700/700 [==============================] - 0s 477us/step - loss: 0.4052 - val_loss: 0.4019\n",
      "Epoch 109/300\n",
      "700/700 [==============================] - 0s 474us/step - loss: 0.3989 - val_loss: 0.3955\n",
      "Epoch 110/300\n",
      "700/700 [==============================] - 0s 551us/step - loss: 0.3925 - val_loss: 0.3891\n",
      "Epoch 111/300\n",
      "700/700 [==============================] - 0s 445us/step - loss: 0.3861 - val_loss: 0.3826\n",
      "Epoch 112/300\n",
      "700/700 [==============================] - 0s 460us/step - loss: 0.3795 - val_loss: 0.3760\n",
      "Epoch 113/300\n",
      "700/700 [==============================] - 0s 464us/step - loss: 0.3729 - val_loss: 0.3692\n",
      "Epoch 114/300\n",
      "700/700 [==============================] - 0s 457us/step - loss: 0.3660 - val_loss: 0.3623\n",
      "Epoch 115/300\n",
      "700/700 [==============================] - 0s 439us/step - loss: 0.3590 - val_loss: 0.3553\n",
      "Epoch 116/300\n",
      "700/700 [==============================] - 0s 492us/step - loss: 0.3520 - val_loss: 0.3481\n",
      "Epoch 117/300\n",
      "700/700 [==============================] - 0s 452us/step - loss: 0.3447 - val_loss: 0.3408\n",
      "Epoch 118/300\n",
      "700/700 [==============================] - 0s 496us/step - loss: 0.3374 - val_loss: 0.3333\n",
      "Epoch 119/300\n",
      "700/700 [==============================] - 0s 422us/step - loss: 0.3298 - val_loss: 0.3256\n",
      "Epoch 120/300\n",
      "700/700 [==============================] - 0s 521us/step - loss: 0.3220 - val_loss: 0.3179\n",
      "Epoch 121/300\n",
      "700/700 [==============================] - 0s 420us/step - loss: 0.3142 - val_loss: 0.3098\n",
      "Epoch 122/300\n",
      "700/700 [==============================] - 0s 423us/step - loss: 0.3060 - val_loss: 0.3016\n",
      "Epoch 123/300\n",
      "700/700 [==============================] - 0s 439us/step - loss: 0.2977 - val_loss: 0.2932\n",
      "Epoch 124/300\n",
      "700/700 [==============================] - 0s 490us/step - loss: 0.2893 - val_loss: 0.2847\n",
      "Epoch 125/300\n",
      "700/700 [==============================] - 0s 420us/step - loss: 0.2807 - val_loss: 0.2760\n",
      "Epoch 126/300\n",
      "700/700 [==============================] - 0s 432us/step - loss: 0.2718 - val_loss: 0.2670\n",
      "Epoch 127/300\n",
      "700/700 [==============================] - 0s 436us/step - loss: 0.2628 - val_loss: 0.2579\n",
      "Epoch 128/300\n",
      "700/700 [==============================] - 0s 447us/step - loss: 0.2536 - val_loss: 0.2487\n",
      "Epoch 129/300\n",
      "700/700 [==============================] - 0s 420us/step - loss: 0.2443 - val_loss: 0.2392\n",
      "Epoch 130/300\n",
      "700/700 [==============================] - 0s 503us/step - loss: 0.2348 - val_loss: 0.2296\n",
      "Epoch 131/300\n",
      "700/700 [==============================] - 0s 452us/step - loss: 0.2251 - val_loss: 0.2199\n",
      "Epoch 132/300\n",
      "700/700 [==============================] - 0s 440us/step - loss: 0.2154 - val_loss: 0.2101\n",
      "Epoch 133/300\n",
      "700/700 [==============================] - 0s 476us/step - loss: 0.2056 - val_loss: 0.2002\n",
      "Epoch 134/300\n",
      "700/700 [==============================] - 0s 433us/step - loss: 0.1956 - val_loss: 0.1904\n",
      "Epoch 135/300\n",
      "700/700 [==============================] - 0s 470us/step - loss: 0.1858 - val_loss: 0.1804\n",
      "Epoch 136/300\n",
      "700/700 [==============================] - 0s 464us/step - loss: 0.1758 - val_loss: 0.1705\n",
      "Epoch 137/300\n",
      "700/700 [==============================] - 0s 467us/step - loss: 0.1659 - val_loss: 0.1607\n",
      "Epoch 138/300\n",
      "700/700 [==============================] - 0s 472us/step - loss: 0.1562 - val_loss: 0.1509\n",
      "Epoch 139/300\n",
      "700/700 [==============================] - 0s 507us/step - loss: 0.1465 - val_loss: 0.1414\n",
      "Epoch 140/300\n",
      "700/700 [==============================] - 0s 583us/step - loss: 0.1370 - val_loss: 0.1320\n",
      "Epoch 141/300\n",
      "700/700 [==============================] - 0s 511us/step - loss: 0.1278 - val_loss: 0.1229\n",
      "Epoch 142/300\n",
      "700/700 [==============================] - 0s 506us/step - loss: 0.1187 - val_loss: 0.1141\n",
      "Epoch 143/300\n",
      "700/700 [==============================] - 0s 462us/step - loss: 0.1102 - val_loss: 0.1056\n",
      "Epoch 144/300\n",
      "700/700 [==============================] - 0s 493us/step - loss: 0.1018 - val_loss: 0.0975\n",
      "Epoch 145/300\n",
      "700/700 [==============================] - 0s 493us/step - loss: 0.0939 - val_loss: 0.0898\n",
      "Epoch 146/300\n",
      "700/700 [==============================] - 0s 504us/step - loss: 0.0864 - val_loss: 0.0825\n",
      "Epoch 147/300\n",
      "700/700 [==============================] - 0s 529us/step - loss: 0.0794 - val_loss: 0.0757\n",
      "Epoch 148/300\n",
      "700/700 [==============================] - 0s 490us/step - loss: 0.0727 - val_loss: 0.0694\n",
      "Epoch 149/300\n",
      "700/700 [==============================] - 0s 457us/step - loss: 0.0666 - val_loss: 0.0635\n",
      "Epoch 150/300\n",
      "700/700 [==============================] - 0s 454us/step - loss: 0.0610 - val_loss: 0.0581\n",
      "Epoch 151/300\n",
      "700/700 [==============================] - 0s 443us/step - loss: 0.0558 - val_loss: 0.0531\n",
      "Epoch 152/300\n",
      "700/700 [==============================] - 0s 497us/step - loss: 0.0510 - val_loss: 0.0486\n",
      "Epoch 153/300\n",
      "700/700 [==============================] - 0s 435us/step - loss: 0.0467 - val_loss: 0.0445\n",
      "Epoch 154/300\n",
      "700/700 [==============================] - 0s 469us/step - loss: 0.0428 - val_loss: 0.0408\n",
      "Epoch 155/300\n",
      "700/700 [==============================] - 0s 549us/step - loss: 0.0392 - val_loss: 0.0375\n",
      "Epoch 156/300\n",
      "700/700 [==============================] - 0s 514us/step - loss: 0.0361 - val_loss: 0.0345\n",
      "Epoch 157/300\n"
     ]
    },
    {
     "name": "stdout",
     "output_type": "stream",
     "text": [
      "700/700 [==============================] - 0s 563us/step - loss: 0.0332 - val_loss: 0.0318\n",
      "Epoch 158/300\n",
      "700/700 [==============================] - 0s 513us/step - loss: 0.0307 - val_loss: 0.0295\n",
      "Epoch 159/300\n",
      "700/700 [==============================] - 0s 499us/step - loss: 0.0285 - val_loss: 0.0274\n",
      "Epoch 160/300\n",
      "700/700 [==============================] - 0s 486us/step - loss: 0.0265 - val_loss: 0.0255\n",
      "Epoch 161/300\n",
      "700/700 [==============================] - 0s 500us/step - loss: 0.0247 - val_loss: 0.0238\n",
      "Epoch 162/300\n",
      "700/700 [==============================] - 0s 489us/step - loss: 0.0231 - val_loss: 0.0224\n",
      "Epoch 163/300\n",
      "700/700 [==============================] - 0s 492us/step - loss: 0.0218 - val_loss: 0.0211\n",
      "Epoch 164/300\n",
      "700/700 [==============================] - 0s 456us/step - loss: 0.0206 - val_loss: 0.0200\n",
      "Epoch 165/300\n",
      "700/700 [==============================] - 0s 463us/step - loss: 0.0195 - val_loss: 0.0190\n",
      "Epoch 166/300\n",
      "700/700 [==============================] - 0s 484us/step - loss: 0.0186 - val_loss: 0.0181\n",
      "Epoch 167/300\n",
      "700/700 [==============================] - 0s 443us/step - loss: 0.0178 - val_loss: 0.0174\n",
      "Epoch 168/300\n",
      "700/700 [==============================] - 0s 494us/step - loss: 0.0171 - val_loss: 0.0167\n",
      "Epoch 169/300\n",
      "700/700 [==============================] - 0s 435us/step - loss: 0.0164 - val_loss: 0.0161\n",
      "Epoch 170/300\n",
      "700/700 [==============================] - 0s 500us/step - loss: 0.0159 - val_loss: 0.0156\n",
      "Epoch 171/300\n",
      "700/700 [==============================] - 0s 459us/step - loss: 0.0154 - val_loss: 0.0152\n",
      "Epoch 172/300\n",
      "700/700 [==============================] - 0s 520us/step - loss: 0.0150 - val_loss: 0.0148\n",
      "Epoch 173/300\n",
      "700/700 [==============================] - 0s 447us/step - loss: 0.0146 - val_loss: 0.0144\n",
      "Epoch 174/300\n",
      "700/700 [==============================] - 0s 509us/step - loss: 0.0143 - val_loss: 0.0142\n",
      "Epoch 175/300\n",
      "700/700 [==============================] - 0s 484us/step - loss: 0.0140 - val_loss: 0.0139\n",
      "Epoch 176/300\n",
      "700/700 [==============================] - 0s 489us/step - loss: 0.0138 - val_loss: 0.0137\n",
      "Epoch 177/300\n",
      "700/700 [==============================] - 0s 460us/step - loss: 0.0136 - val_loss: 0.0135\n",
      "Epoch 178/300\n",
      "700/700 [==============================] - 0s 519us/step - loss: 0.0134 - val_loss: 0.0133\n",
      "Epoch 179/300\n",
      "700/700 [==============================] - 0s 462us/step - loss: 0.0132 - val_loss: 0.0132\n",
      "Epoch 180/300\n",
      "700/700 [==============================] - 0s 509us/step - loss: 0.0131 - val_loss: 0.0130\n",
      "Epoch 181/300\n",
      "700/700 [==============================] - 0s 449us/step - loss: 0.0130 - val_loss: 0.0129\n",
      "Epoch 182/300\n",
      "700/700 [==============================] - 0s 486us/step - loss: 0.0129 - val_loss: 0.0128\n",
      "Epoch 183/300\n",
      "700/700 [==============================] - 0s 439us/step - loss: 0.0128 - val_loss: 0.0127\n",
      "Epoch 184/300\n",
      "700/700 [==============================] - 0s 519us/step - loss: 0.0127 - val_loss: 0.0127\n",
      "Epoch 185/300\n",
      "700/700 [==============================] - 0s 489us/step - loss: 0.0126 - val_loss: 0.0126\n",
      "Epoch 186/300\n",
      "700/700 [==============================] - 0s 496us/step - loss: 0.0126 - val_loss: 0.0125\n",
      "Epoch 187/300\n",
      "700/700 [==============================] - 0s 445us/step - loss: 0.0125 - val_loss: 0.0125\n",
      "Epoch 188/300\n",
      "700/700 [==============================] - 0s 523us/step - loss: 0.0125 - val_loss: 0.0124\n",
      "Epoch 189/300\n",
      "700/700 [==============================] - 0s 436us/step - loss: 0.0124 - val_loss: 0.0124\n",
      "Epoch 190/300\n",
      "700/700 [==============================] - 0s 489us/step - loss: 0.0124 - val_loss: 0.0124\n",
      "Epoch 191/300\n",
      "700/700 [==============================] - 0s 437us/step - loss: 0.0123 - val_loss: 0.0123\n",
      "Epoch 192/300\n",
      "700/700 [==============================] - 0s 454us/step - loss: 0.0123 - val_loss: 0.0123\n",
      "Epoch 193/300\n",
      "700/700 [==============================] - 0s 460us/step - loss: 0.0123 - val_loss: 0.0123\n",
      "Epoch 194/300\n",
      "700/700 [==============================] - 0s 520us/step - loss: 0.0123 - val_loss: 0.0122\n",
      "Epoch 195/300\n",
      "700/700 [==============================] - 0s 457us/step - loss: 0.0122 - val_loss: 0.0122\n",
      "Epoch 196/300\n",
      "700/700 [==============================] - 0s 494us/step - loss: 0.0122 - val_loss: 0.0122\n",
      "Epoch 197/300\n",
      "700/700 [==============================] - 0s 450us/step - loss: 0.0122 - val_loss: 0.0122\n",
      "Epoch 198/300\n",
      "700/700 [==============================] - 0s 473us/step - loss: 0.0122 - val_loss: 0.0122\n",
      "Epoch 199/300\n",
      "700/700 [==============================] - 0s 450us/step - loss: 0.0122 - val_loss: 0.0121\n",
      "Epoch 200/300\n",
      "700/700 [==============================] - 0s 516us/step - loss: 0.0121 - val_loss: 0.0121\n",
      "Epoch 201/300\n",
      "700/700 [==============================] - 0s 442us/step - loss: 0.0121 - val_loss: 0.0121\n",
      "Epoch 202/300\n",
      "700/700 [==============================] - 0s 496us/step - loss: 0.0121 - val_loss: 0.0121\n",
      "Epoch 203/300\n",
      "700/700 [==============================] - 0s 446us/step - loss: 0.0121 - val_loss: 0.0121\n",
      "Epoch 204/300\n",
      "700/700 [==============================] - 0s 482us/step - loss: 0.0121 - val_loss: 0.0121\n",
      "Epoch 205/300\n",
      "700/700 [==============================] - 0s 474us/step - loss: 0.0121 - val_loss: 0.0120\n",
      "Epoch 206/300\n",
      "700/700 [==============================] - 0s 464us/step - loss: 0.0120 - val_loss: 0.0120\n"
     ]
    },
    {
     "data": {
      "text/plain": [
       "<keras.callbacks.History at 0x203b08800f0>"
      ]
     },
     "execution_count": 58,
     "metadata": {},
     "output_type": "execute_result"
    }
   ],
   "source": [
    "verbose = 1\n",
    "epochs = 300\n",
    "simpleRNN2.fit(X_train, y_train, batch_size = 50,  epochs = epochs, callbacks = [stopper], \n",
    "               verbose = verbose, validation_data = (X_val, y_val))"
   ]
  },
  {
   "cell_type": "code",
   "execution_count": 60,
   "metadata": {},
   "outputs": [
    {
     "data": {
      "text/plain": [
       "(160, 50, 1)"
      ]
     },
     "execution_count": 60,
     "metadata": {},
     "output_type": "execute_result"
    }
   ],
   "source": [
    "# test predictions \n",
    "y_test_pred = simpleRNN2.predict(X_test)\n",
    "y_test_pred.shape"
   ]
  },
  {
   "cell_type": "code",
   "execution_count": 61,
   "metadata": {},
   "outputs": [
    {
     "name": "stdout",
     "output_type": "stream",
     "text": [
      "prediction shape: (8000, 1), true shape: (8000, 1)\n"
     ]
    }
   ],
   "source": [
    "s_pred = y_test_pred.reshape(-1,1)\n",
    "s_true = y_test.reshape(-1,1)\n",
    "print('prediction shape: {}, true shape: {}'.format(s_pred.shape, s_true.shape))"
   ]
  },
  {
   "cell_type": "code",
   "execution_count": 63,
   "metadata": {},
   "outputs": [
    {
     "data": {
      "image/png": "[encoded data removed]",
      "text/plain": [
       "<Figure size 432x288 with 1 Axes>"
      ]
     },
     "metadata": {
      "needs_background": "light"
     },
     "output_type": "display_data"
    }
   ],
   "source": [
    "plt.plot(s_true, 'r', label = 'true value of test sequence')\n",
    "plt.plot(s_pred, 'b', label = 'predictions of test sequence')\n",
    "plt.legend()\n",
    "plt.show()"
   ]
  },
  {
   "cell_type": "code",
   "execution_count": 64,
   "metadata": {},
   "outputs": [
    {
     "name": "stdout",
     "output_type": "stream",
     "text": [
      "test error is: 0.013673788525691009\n"
     ]
    }
   ],
   "source": [
    "error = mse(s_true, s_pred)\n",
    "print('test error is: {}'.format(error))"
   ]
  },
  {
   "cell_type": "markdown",
   "metadata": {},
   "source": [
    "Not bad! "
   ]
  },
  {
   "cell_type": "markdown",
   "metadata": {},
   "source": [
    "## Simple RNN with multiple units "
   ]
  },
  {
   "cell_type": "code",
   "execution_count": 92,
   "metadata": {},
   "outputs": [],
   "source": [
    "# The final output has to be a single number per time-step \n",
    "# Just creating a single layer of simpleRNN with n units will produce an n-dimensional vector per time step\n",
    "# we need to change this into a single number\n",
    "# one way to do this is pass it through a Dense layer consisting of a single neuron \n",
    "# another way is that instead we pass it through another layer of SimpleRNN with just a single neuron\n",
    "# let's try the latter first\n",
    "# also, note that our sequence contains negative values but relu only allows postive values to pass through\n",
    "# thus relu is not a good activation function for the output neuron\n",
    "simpleRNN3 = Sequential([SimpleRNN(units = 20, activation = 'relu', input_shape= [None, 1] , return_sequences = True), \n",
    "                         SimpleRNN(units = 1 , activation = 'tanh', return_sequences = True)])"
   ]
  },
  {
   "cell_type": "code",
   "execution_count": 93,
   "metadata": {},
   "outputs": [],
   "source": [
    "optimizer = 'adam'\n",
    "simpleRNN3.compile(optimizer = optimizer, loss = 'mae')"
   ]
  },
  {
   "cell_type": "code",
   "execution_count": 94,
   "metadata": {},
   "outputs": [],
   "source": [
    "# early stopping \n",
    "patience = 30\n",
    "min_delta = 0.001\n",
    "stopper = EarlyStopping(monitor = 'val_loss', min_delta = min_delta, patience = patience, restore_best_weights = True )"
   ]
  },
  {
   "cell_type": "code",
   "execution_count": 95,
   "metadata": {
    "scrolled": true
   },
   "outputs": [
    {
     "name": "stdout",
     "output_type": "stream",
     "text": [
      "Train on 700 samples, validate on 140 samples\n",
      "Epoch 1/500\n",
      "700/700 [==============================] - 2s 2ms/step - loss: 0.4548 - val_loss: 0.2516\n",
      "Epoch 2/500\n",
      "700/700 [==============================] - 0s 422us/step - loss: 0.2364 - val_loss: 0.2258\n",
      "Epoch 3/500\n",
      "700/700 [==============================] - 0s 416us/step - loss: 0.2210 - val_loss: 0.2151\n",
      "Epoch 4/500\n",
      "700/700 [==============================] - 0s 410us/step - loss: 0.2109 - val_loss: 0.2058\n",
      "Epoch 5/500\n",
      "700/700 [==============================] - 0s 445us/step - loss: 0.2030 - val_loss: 0.1995\n",
      "Epoch 6/500\n",
      "700/700 [==============================] - 0s 413us/step - loss: 0.1971 - val_loss: 0.1942\n",
      "Epoch 7/500\n",
      "700/700 [==============================] - 0s 423us/step - loss: 0.1921 - val_loss: 0.1893\n",
      "Epoch 8/500\n",
      "700/700 [==============================] - 0s 432us/step - loss: 0.1874 - val_loss: 0.1847\n",
      "Epoch 9/500\n",
      "700/700 [==============================] - 0s 427us/step - loss: 0.1827 - val_loss: 0.1800\n",
      "Epoch 10/500\n",
      "700/700 [==============================] - 0s 433us/step - loss: 0.1781 - val_loss: 0.1755\n",
      "Epoch 11/500\n",
      "700/700 [==============================] - 0s 445us/step - loss: 0.1736 - val_loss: 0.1709\n",
      "Epoch 12/500\n",
      "700/700 [==============================] - 0s 417us/step - loss: 0.1690 - val_loss: 0.1660\n",
      "Epoch 13/500\n",
      "700/700 [==============================] - 0s 427us/step - loss: 0.1637 - val_loss: 0.1607\n",
      "Epoch 14/500\n",
      "700/700 [==============================] - 0s 412us/step - loss: 0.1582 - val_loss: 0.1552\n",
      "Epoch 15/500\n",
      "700/700 [==============================] - 0s 453us/step - loss: 0.1530 - val_loss: 0.1497\n",
      "Epoch 16/500\n",
      "700/700 [==============================] - 0s 422us/step - loss: 0.1472 - val_loss: 0.1436\n",
      "Epoch 17/500\n",
      "700/700 [==============================] - 0s 459us/step - loss: 0.1413 - val_loss: 0.1378\n",
      "Epoch 18/500\n",
      "700/700 [==============================] - 0s 392us/step - loss: 0.1358 - val_loss: 0.1328\n",
      "Epoch 19/500\n",
      "700/700 [==============================] - 0s 445us/step - loss: 0.1309 - val_loss: 0.1283\n",
      "Epoch 20/500\n",
      "700/700 [==============================] - 0s 415us/step - loss: 0.1265 - val_loss: 0.1241\n",
      "Epoch 21/500\n",
      "700/700 [==============================] - 0s 403us/step - loss: 0.1224 - val_loss: 0.1198\n",
      "Epoch 22/500\n",
      "700/700 [==============================] - 0s 402us/step - loss: 0.1174 - val_loss: 0.1137\n",
      "Epoch 23/500\n",
      "700/700 [==============================] - 0s 407us/step - loss: 0.1113 - val_loss: 0.1088\n",
      "Epoch 24/500\n",
      "700/700 [==============================] - 0s 422us/step - loss: 0.1070 - val_loss: 0.1044\n",
      "Epoch 25/500\n",
      "700/700 [==============================] - 0s 497us/step - loss: 0.1027 - val_loss: 0.1003\n",
      "Epoch 26/500\n",
      "700/700 [==============================] - 0s 406us/step - loss: 0.0983 - val_loss: 0.0952\n",
      "Epoch 27/500\n",
      "700/700 [==============================] - 0s 492us/step - loss: 0.0926 - val_loss: 0.0897\n",
      "Epoch 28/500\n",
      "700/700 [==============================] - 0s 410us/step - loss: 0.0878 - val_loss: 0.0851\n",
      "Epoch 29/500\n",
      "700/700 [==============================] - 0s 450us/step - loss: 0.0831 - val_loss: 0.0809\n",
      "Epoch 30/500\n",
      "700/700 [==============================] - 0s 410us/step - loss: 0.0795 - val_loss: 0.0776\n",
      "Epoch 31/500\n",
      "700/700 [==============================] - 0s 530us/step - loss: 0.0761 - val_loss: 0.0744\n",
      "Epoch 32/500\n",
      "700/700 [==============================] - 0s 405us/step - loss: 0.0732 - val_loss: 0.0715\n",
      "Epoch 33/500\n",
      "700/700 [==============================] - 0s 473us/step - loss: 0.0703 - val_loss: 0.0686\n",
      "Epoch 34/500\n",
      "700/700 [==============================] - 0s 413us/step - loss: 0.0676 - val_loss: 0.0661\n",
      "Epoch 35/500\n",
      "700/700 [==============================] - 0s 484us/step - loss: 0.0649 - val_loss: 0.0634\n",
      "Epoch 36/500\n",
      "700/700 [==============================] - 0s 440us/step - loss: 0.0623 - val_loss: 0.0609\n",
      "Epoch 37/500\n",
      "700/700 [==============================] - 0s 467us/step - loss: 0.0601 - val_loss: 0.0591\n",
      "Epoch 38/500\n",
      "700/700 [==============================] - 0s 437us/step - loss: 0.0582 - val_loss: 0.0570\n",
      "Epoch 39/500\n",
      "700/700 [==============================] - 0s 466us/step - loss: 0.0571 - val_loss: 0.0565\n",
      "Epoch 40/500\n",
      "700/700 [==============================] - 0s 456us/step - loss: 0.0552 - val_loss: 0.0539\n",
      "Epoch 41/500\n",
      "700/700 [==============================] - 0s 412us/step - loss: 0.0539 - val_loss: 0.0532\n",
      "Epoch 42/500\n",
      "700/700 [==============================] - 0s 473us/step - loss: 0.0524 - val_loss: 0.0522\n",
      "Epoch 43/500\n",
      "700/700 [==============================] - 0s 407us/step - loss: 0.0514 - val_loss: 0.0499\n",
      "Epoch 44/500\n",
      "700/700 [==============================] - 0s 464us/step - loss: 0.0496 - val_loss: 0.0493\n",
      "Epoch 45/500\n",
      "700/700 [==============================] - 0s 472us/step - loss: 0.0488 - val_loss: 0.0487\n",
      "Epoch 46/500\n",
      "700/700 [==============================] - 0s 460us/step - loss: 0.0482 - val_loss: 0.0492\n",
      "Epoch 47/500\n",
      "700/700 [==============================] - 0s 454us/step - loss: 0.0485 - val_loss: 0.0487\n",
      "Epoch 48/500\n",
      "700/700 [==============================] - 0s 400us/step - loss: 0.0479 - val_loss: 0.0485\n",
      "Epoch 49/500\n",
      "700/700 [==============================] - 0s 482us/step - loss: 0.0470 - val_loss: 0.0459\n",
      "Epoch 50/500\n",
      "700/700 [==============================] - 0s 420us/step - loss: 0.0460 - val_loss: 0.0451\n",
      "Epoch 51/500\n",
      "700/700 [==============================] - 0s 406us/step - loss: 0.0450 - val_loss: 0.0450\n",
      "Epoch 52/500\n",
      "700/700 [==============================] - 0s 400us/step - loss: 0.0441 - val_loss: 0.0432\n",
      "Epoch 53/500\n",
      "700/700 [==============================] - 0s 417us/step - loss: 0.0431 - val_loss: 0.0427\n",
      "Epoch 54/500\n",
      "700/700 [==============================] - 0s 516us/step - loss: 0.0425 - val_loss: 0.0423\n",
      "Epoch 55/500\n",
      "700/700 [==============================] - 0s 463us/step - loss: 0.0420 - val_loss: 0.0417\n",
      "Epoch 56/500\n",
      "700/700 [==============================] - 0s 413us/step - loss: 0.0415 - val_loss: 0.0412\n",
      "Epoch 57/500\n",
      "700/700 [==============================] - 0s 419us/step - loss: 0.0410 - val_loss: 0.0408\n",
      "Epoch 58/500\n",
      "700/700 [==============================] - 0s 426us/step - loss: 0.0407 - val_loss: 0.0402\n",
      "Epoch 59/500\n",
      "700/700 [==============================] - 0s 473us/step - loss: 0.0400 - val_loss: 0.0398\n",
      "Epoch 60/500\n",
      "700/700 [==============================] - 0s 413us/step - loss: 0.0397 - val_loss: 0.0394\n",
      "Epoch 61/500\n",
      "700/700 [==============================] - 0s 413us/step - loss: 0.0396 - val_loss: 0.0396\n",
      "Epoch 62/500\n",
      "700/700 [==============================] - 0s 406us/step - loss: 0.0395 - val_loss: 0.0388\n",
      "Epoch 63/500\n",
      "700/700 [==============================] - 0s 466us/step - loss: 0.0396 - val_loss: 0.0399\n",
      "Epoch 64/500\n",
      "700/700 [==============================] - 0s 436us/step - loss: 0.0398 - val_loss: 0.0388\n",
      "Epoch 65/500\n",
      "700/700 [==============================] - 0s 398us/step - loss: 0.0385 - val_loss: 0.0387\n",
      "Epoch 66/500\n",
      "700/700 [==============================] - 0s 439us/step - loss: 0.0388 - val_loss: 0.0402\n",
      "Epoch 67/500\n",
      "700/700 [==============================] - 0s 420us/step - loss: 0.0386 - val_loss: 0.0377\n",
      "Epoch 68/500\n",
      "700/700 [==============================] - 0s 415us/step - loss: 0.0374 - val_loss: 0.0376\n",
      "Epoch 69/500\n",
      "700/700 [==============================] - 0s 439us/step - loss: 0.0370 - val_loss: 0.0368\n",
      "Epoch 70/500\n",
      "700/700 [==============================] - 0s 440us/step - loss: 0.0365 - val_loss: 0.0364\n",
      "Epoch 71/500\n",
      "700/700 [==============================] - 0s 410us/step - loss: 0.0363 - val_loss: 0.0364\n",
      "Epoch 72/500\n",
      "700/700 [==============================] - 0s 443us/step - loss: 0.0362 - val_loss: 0.0364\n",
      "Epoch 73/500\n",
      "700/700 [==============================] - 0s 403us/step - loss: 0.0360 - val_loss: 0.0357\n",
      "Epoch 74/500\n",
      "700/700 [==============================] - 0s 460us/step - loss: 0.0358 - val_loss: 0.0373\n",
      "Epoch 75/500\n",
      "700/700 [==============================] - 0s 453us/step - loss: 0.0365 - val_loss: 0.0351\n",
      "Epoch 76/500\n",
      "700/700 [==============================] - 0s 420us/step - loss: 0.0357 - val_loss: 0.0352\n",
      "Epoch 77/500\n",
      "700/700 [==============================] - 0s 470us/step - loss: 0.0353 - val_loss: 0.0348\n",
      "Epoch 78/500\n",
      "700/700 [==============================] - 0s 406us/step - loss: 0.0350 - val_loss: 0.0353\n",
      "Epoch 79/500\n"
     ]
    },
    {
     "name": "stdout",
     "output_type": "stream",
     "text": [
      "700/700 [==============================] - 0s 469us/step - loss: 0.0362 - val_loss: 0.0355\n",
      "Epoch 80/500\n",
      "700/700 [==============================] - 0s 442us/step - loss: 0.0369 - val_loss: 0.0346\n",
      "Epoch 81/500\n",
      "700/700 [==============================] - 0s 415us/step - loss: 0.0365 - val_loss: 0.0349\n",
      "Epoch 82/500\n",
      "700/700 [==============================] - 0s 578us/step - loss: 0.0344 - val_loss: 0.0341\n",
      "Epoch 83/500\n",
      "700/700 [==============================] - 0s 454us/step - loss: 0.0341 - val_loss: 0.0345\n",
      "Epoch 84/500\n",
      "700/700 [==============================] - 0s 506us/step - loss: 0.0345 - val_loss: 0.0348\n",
      "Epoch 85/500\n",
      "700/700 [==============================] - 0s 466us/step - loss: 0.0345 - val_loss: 0.0347\n",
      "Epoch 86/500\n",
      "700/700 [==============================] - 0s 477us/step - loss: 0.0346 - val_loss: 0.0338\n",
      "Epoch 87/500\n",
      "700/700 [==============================] - 0s 443us/step - loss: 0.0340 - val_loss: 0.0333\n",
      "Epoch 88/500\n",
      "700/700 [==============================] - 0s 463us/step - loss: 0.0335 - val_loss: 0.0331\n",
      "Epoch 89/500\n",
      "700/700 [==============================] - 0s 473us/step - loss: 0.0333 - val_loss: 0.0326\n",
      "Epoch 90/500\n",
      "700/700 [==============================] - 0s 477us/step - loss: 0.0330 - val_loss: 0.0325\n",
      "Epoch 91/500\n",
      "700/700 [==============================] - 0s 413us/step - loss: 0.0324 - val_loss: 0.0324\n",
      "Epoch 92/500\n",
      "700/700 [==============================] - 0s 409us/step - loss: 0.0320 - val_loss: 0.0315\n",
      "Epoch 93/500\n",
      "700/700 [==============================] - 0s 489us/step - loss: 0.0316 - val_loss: 0.0317\n",
      "Epoch 94/500\n",
      "700/700 [==============================] - 0s 426us/step - loss: 0.0314 - val_loss: 0.0313\n",
      "Epoch 95/500\n",
      "700/700 [==============================] - 0s 559us/step - loss: 0.0314 - val_loss: 0.0311\n",
      "Epoch 96/500\n",
      "700/700 [==============================] - 0s 502us/step - loss: 0.0312 - val_loss: 0.0310\n",
      "Epoch 97/500\n",
      "700/700 [==============================] - 0s 472us/step - loss: 0.0313 - val_loss: 0.0315\n",
      "Epoch 98/500\n",
      "700/700 [==============================] - 0s 459us/step - loss: 0.0319 - val_loss: 0.0357\n",
      "Epoch 99/500\n",
      "700/700 [==============================] - 0s 474us/step - loss: 0.0346 - val_loss: 0.0345\n",
      "Epoch 100/500\n",
      "700/700 [==============================] - 0s 406us/step - loss: 0.0332 - val_loss: 0.0324\n",
      "Epoch 101/500\n",
      "700/700 [==============================] - 0s 523us/step - loss: 0.0322 - val_loss: 0.0313\n",
      "Epoch 102/500\n",
      "700/700 [==============================] - 0s 420us/step - loss: 0.0310 - val_loss: 0.0304\n",
      "Epoch 103/500\n",
      "700/700 [==============================] - 0s 462us/step - loss: 0.0305 - val_loss: 0.0304\n",
      "Epoch 104/500\n",
      "700/700 [==============================] - 0s 409us/step - loss: 0.0300 - val_loss: 0.0301\n",
      "Epoch 105/500\n",
      "700/700 [==============================] - 0s 473us/step - loss: 0.0298 - val_loss: 0.0297\n",
      "Epoch 106/500\n",
      "700/700 [==============================] - 0s 417us/step - loss: 0.0299 - val_loss: 0.0310\n",
      "Epoch 107/500\n",
      "700/700 [==============================] - 0s 430us/step - loss: 0.0306 - val_loss: 0.0313\n",
      "Epoch 108/500\n",
      "700/700 [==============================] - 0s 484us/step - loss: 0.0310 - val_loss: 0.0303\n",
      "Epoch 109/500\n",
      "700/700 [==============================] - 0s 425us/step - loss: 0.0313 - val_loss: 0.0302\n",
      "Epoch 110/500\n",
      "700/700 [==============================] - 0s 462us/step - loss: 0.0314 - val_loss: 0.0301\n",
      "Epoch 111/500\n",
      "700/700 [==============================] - 0s 432us/step - loss: 0.0300 - val_loss: 0.0292\n",
      "Epoch 112/500\n",
      "700/700 [==============================] - 0s 470us/step - loss: 0.0295 - val_loss: 0.0289\n",
      "Epoch 113/500\n",
      "700/700 [==============================] - 0s 426us/step - loss: 0.0287 - val_loss: 0.0285\n",
      "Epoch 114/500\n",
      "700/700 [==============================] - 0s 412us/step - loss: 0.0285 - val_loss: 0.0293\n",
      "Epoch 115/500\n",
      "700/700 [==============================] - 0s 449us/step - loss: 0.0289 - val_loss: 0.0283\n",
      "Epoch 116/500\n",
      "700/700 [==============================] - 0s 435us/step - loss: 0.0288 - val_loss: 0.0298\n",
      "Epoch 117/500\n",
      "700/700 [==============================] - 0s 425us/step - loss: 0.0302 - val_loss: 0.0323\n",
      "Epoch 118/500\n",
      "700/700 [==============================] - 0s 437us/step - loss: 0.0304 - val_loss: 0.0299\n",
      "Epoch 119/500\n",
      "700/700 [==============================] - 0s 450us/step - loss: 0.0298 - val_loss: 0.0304\n",
      "Epoch 120/500\n",
      "700/700 [==============================] - 0s 420us/step - loss: 0.0290 - val_loss: 0.0293\n",
      "Epoch 121/500\n",
      "700/700 [==============================] - 0s 432us/step - loss: 0.0286 - val_loss: 0.0278\n",
      "Epoch 122/500\n",
      "700/700 [==============================] - 0s 462us/step - loss: 0.0282 - val_loss: 0.0277\n",
      "Epoch 123/500\n",
      "700/700 [==============================] - 0s 452us/step - loss: 0.0282 - val_loss: 0.0280\n",
      "Epoch 124/500\n",
      "700/700 [==============================] - 0s 472us/step - loss: 0.0280 - val_loss: 0.0278\n",
      "Epoch 125/500\n",
      "700/700 [==============================] - 0s 425us/step - loss: 0.0280 - val_loss: 0.0282\n",
      "Epoch 126/500\n",
      "700/700 [==============================] - 0s 453us/step - loss: 0.0277 - val_loss: 0.0276\n",
      "Epoch 127/500\n",
      "700/700 [==============================] - 0s 429us/step - loss: 0.0274 - val_loss: 0.0276\n",
      "Epoch 128/500\n",
      "700/700 [==============================] - 0s 462us/step - loss: 0.0277 - val_loss: 0.0283\n",
      "Epoch 129/500\n",
      "700/700 [==============================] - 0s 583us/step - loss: 0.0276 - val_loss: 0.0277\n",
      "Epoch 130/500\n",
      "700/700 [==============================] - 0s 450us/step - loss: 0.0276 - val_loss: 0.0277\n",
      "Epoch 131/500\n",
      "700/700 [==============================] - 0s 539us/step - loss: 0.0274 - val_loss: 0.0269\n",
      "Epoch 132/500\n",
      "700/700 [==============================] - 0s 521us/step - loss: 0.0270 - val_loss: 0.0275\n",
      "Epoch 133/500\n",
      "700/700 [==============================] - 0s 442us/step - loss: 0.0272 - val_loss: 0.0272\n",
      "Epoch 134/500\n",
      "700/700 [==============================] - 0s 476us/step - loss: 0.0271 - val_loss: 0.0265\n",
      "Epoch 135/500\n",
      "700/700 [==============================] - 0s 446us/step - loss: 0.0265 - val_loss: 0.0263\n",
      "Epoch 136/500\n",
      "700/700 [==============================] - 0s 419us/step - loss: 0.0264 - val_loss: 0.0261\n",
      "Epoch 137/500\n",
      "700/700 [==============================] - 0s 432us/step - loss: 0.0261 - val_loss: 0.0260\n",
      "Epoch 138/500\n",
      "700/700 [==============================] - 0s 433us/step - loss: 0.0262 - val_loss: 0.0261\n",
      "Epoch 139/500\n",
      "700/700 [==============================] - 0s 429us/step - loss: 0.0261 - val_loss: 0.0260\n",
      "Epoch 140/500\n",
      "700/700 [==============================] - 0s 509us/step - loss: 0.0263 - val_loss: 0.0263\n",
      "Epoch 141/500\n",
      "700/700 [==============================] - 0s 462us/step - loss: 0.0263 - val_loss: 0.0268\n",
      "Epoch 142/500\n",
      "700/700 [==============================] - 0s 483us/step - loss: 0.0263 - val_loss: 0.0265\n",
      "Epoch 143/500\n",
      "700/700 [==============================] - 0s 446us/step - loss: 0.0260 - val_loss: 0.0255\n",
      "Epoch 144/500\n",
      "700/700 [==============================] - 0s 476us/step - loss: 0.0263 - val_loss: 0.0266\n",
      "Epoch 145/500\n",
      "700/700 [==============================] - 0s 419us/step - loss: 0.0261 - val_loss: 0.0263\n",
      "Epoch 146/500\n",
      "700/700 [==============================] - 0s 524us/step - loss: 0.0257 - val_loss: 0.0256\n",
      "Epoch 147/500\n",
      "700/700 [==============================] - 0s 472us/step - loss: 0.0256 - val_loss: 0.0255\n",
      "Epoch 148/500\n",
      "700/700 [==============================] - 0s 474us/step - loss: 0.0263 - val_loss: 0.0281\n",
      "Epoch 149/500\n",
      "700/700 [==============================] - 0s 457us/step - loss: 0.0267 - val_loss: 0.0261\n",
      "Epoch 150/500\n",
      "700/700 [==============================] - 0s 497us/step - loss: 0.0271 - val_loss: 0.0254\n",
      "Epoch 151/500\n",
      "700/700 [==============================] - 0s 474us/step - loss: 0.0260 - val_loss: 0.0265\n",
      "Epoch 152/500\n",
      "700/700 [==============================] - 0s 425us/step - loss: 0.0260 - val_loss: 0.0253\n",
      "Epoch 153/500\n",
      "700/700 [==============================] - 0s 456us/step - loss: 0.0258 - val_loss: 0.0257\n",
      "Epoch 154/500\n",
      "700/700 [==============================] - 0s 466us/step - loss: 0.0264 - val_loss: 0.0282\n",
      "Epoch 155/500\n",
      "700/700 [==============================] - 0s 437us/step - loss: 0.0270 - val_loss: 0.0262\n",
      "Epoch 156/500\n",
      "700/700 [==============================] - 0s 514us/step - loss: 0.0258 - val_loss: 0.0270\n",
      "Epoch 157/500\n"
     ]
    },
    {
     "name": "stdout",
     "output_type": "stream",
     "text": [
      "700/700 [==============================] - 0s 496us/step - loss: 0.0259 - val_loss: 0.0264\n",
      "Epoch 158/500\n",
      "700/700 [==============================] - 0s 432us/step - loss: 0.0250 - val_loss: 0.0239\n",
      "Epoch 159/500\n",
      "700/700 [==============================] - 0s 432us/step - loss: 0.0243 - val_loss: 0.0242\n",
      "Epoch 160/500\n",
      "700/700 [==============================] - 0s 446us/step - loss: 0.0242 - val_loss: 0.0242\n",
      "Epoch 161/500\n",
      "700/700 [==============================] - 0s 473us/step - loss: 0.0238 - val_loss: 0.0235\n",
      "Epoch 162/500\n",
      "700/700 [==============================] - 0s 446us/step - loss: 0.0236 - val_loss: 0.0233\n",
      "Epoch 163/500\n",
      "700/700 [==============================] - 0s 504us/step - loss: 0.0233 - val_loss: 0.0236\n",
      "Epoch 164/500\n",
      "700/700 [==============================] - 0s 482us/step - loss: 0.0233 - val_loss: 0.0230\n",
      "Epoch 165/500\n",
      "700/700 [==============================] - 0s 503us/step - loss: 0.0232 - val_loss: 0.0229\n",
      "Epoch 166/500\n",
      "700/700 [==============================] - 0s 493us/step - loss: 0.0231 - val_loss: 0.0230\n",
      "Epoch 167/500\n",
      "700/700 [==============================] - 0s 517us/step - loss: 0.0229 - val_loss: 0.0227\n",
      "Epoch 168/500\n",
      "700/700 [==============================] - 0s 474us/step - loss: 0.0228 - val_loss: 0.0230\n",
      "Epoch 169/500\n",
      "700/700 [==============================] - 0s 559us/step - loss: 0.0231 - val_loss: 0.0227\n",
      "Epoch 170/500\n",
      "700/700 [==============================] - 0s 479us/step - loss: 0.0232 - val_loss: 0.0225\n",
      "Epoch 171/500\n",
      "700/700 [==============================] - 0s 486us/step - loss: 0.0245 - val_loss: 0.0241\n",
      "Epoch 172/500\n",
      "700/700 [==============================] - 0s 489us/step - loss: 0.0247 - val_loss: 0.0261\n",
      "Epoch 173/500\n",
      "700/700 [==============================] - 0s 463us/step - loss: 0.0247 - val_loss: 0.0253\n",
      "Epoch 174/500\n",
      "700/700 [==============================] - 0s 482us/step - loss: 0.0246 - val_loss: 0.0254\n",
      "Epoch 175/500\n",
      "700/700 [==============================] - 0s 473us/step - loss: 0.0247 - val_loss: 0.0247\n",
      "Epoch 176/500\n",
      "700/700 [==============================] - 0s 479us/step - loss: 0.0237 - val_loss: 0.0240\n",
      "Epoch 177/500\n",
      "700/700 [==============================] - 0s 433us/step - loss: 0.0234 - val_loss: 0.0244\n",
      "Epoch 178/500\n",
      "700/700 [==============================] - 0s 469us/step - loss: 0.0238 - val_loss: 0.0232\n",
      "Epoch 179/500\n",
      "700/700 [==============================] - 0s 467us/step - loss: 0.0225 - val_loss: 0.0222\n",
      "Epoch 180/500\n",
      "700/700 [==============================] - 0s 409us/step - loss: 0.0221 - val_loss: 0.0226\n",
      "Epoch 181/500\n",
      "700/700 [==============================] - 0s 447us/step - loss: 0.0219 - val_loss: 0.0216\n",
      "Epoch 182/500\n",
      "700/700 [==============================] - 0s 476us/step - loss: 0.0216 - val_loss: 0.0214\n",
      "Epoch 183/500\n",
      "700/700 [==============================] - 0s 452us/step - loss: 0.0214 - val_loss: 0.0213\n",
      "Epoch 184/500\n",
      "700/700 [==============================] - 0s 520us/step - loss: 0.0213 - val_loss: 0.0213\n",
      "Epoch 185/500\n",
      "700/700 [==============================] - 0s 442us/step - loss: 0.0213 - val_loss: 0.0212\n",
      "Epoch 186/500\n",
      "700/700 [==============================] - 0s 459us/step - loss: 0.0213 - val_loss: 0.0213\n",
      "Epoch 187/500\n",
      "700/700 [==============================] - 0s 496us/step - loss: 0.0212 - val_loss: 0.0211\n",
      "Epoch 188/500\n",
      "700/700 [==============================] - 0s 425us/step - loss: 0.0211 - val_loss: 0.0212\n",
      "Epoch 189/500\n",
      "700/700 [==============================] - 0s 459us/step - loss: 0.0212 - val_loss: 0.0216\n",
      "Epoch 190/500\n",
      "700/700 [==============================] - 0s 432us/step - loss: 0.0212 - val_loss: 0.0211\n",
      "Epoch 191/500\n",
      "700/700 [==============================] - 0s 445us/step - loss: 0.0210 - val_loss: 0.0213\n",
      "Epoch 192/500\n",
      "700/700 [==============================] - 0s 449us/step - loss: 0.0209 - val_loss: 0.0208\n",
      "Epoch 193/500\n",
      "700/700 [==============================] - 0s 476us/step - loss: 0.0207 - val_loss: 0.0210\n",
      "Epoch 194/500\n",
      "700/700 [==============================] - 0s 482us/step - loss: 0.0211 - val_loss: 0.0207\n",
      "Epoch 195/500\n",
      "700/700 [==============================] - 0s 489us/step - loss: 0.0211 - val_loss: 0.0212\n",
      "Epoch 196/500\n",
      "700/700 [==============================] - 0s 476us/step - loss: 0.0212 - val_loss: 0.0212\n",
      "Epoch 197/500\n",
      "700/700 [==============================] - 0s 479us/step - loss: 0.0210 - val_loss: 0.0207\n",
      "Epoch 198/500\n",
      "700/700 [==============================] - 0s 436us/step - loss: 0.0208 - val_loss: 0.0207\n",
      "Epoch 199/500\n",
      "700/700 [==============================] - 0s 445us/step - loss: 0.0206 - val_loss: 0.0207\n",
      "Epoch 200/500\n",
      "700/700 [==============================] - 0s 456us/step - loss: 0.0208 - val_loss: 0.0204\n",
      "Epoch 201/500\n",
      "700/700 [==============================] - 0s 540us/step - loss: 0.0205 - val_loss: 0.0207\n",
      "Epoch 202/500\n",
      "700/700 [==============================] - 0s 618us/step - loss: 0.0204 - val_loss: 0.0201\n",
      "Epoch 203/500\n",
      "700/700 [==============================] - 0s 526us/step - loss: 0.0205 - val_loss: 0.0207\n",
      "Epoch 204/500\n",
      "700/700 [==============================] - 0s 422us/step - loss: 0.0205 - val_loss: 0.0202\n",
      "Epoch 205/500\n",
      "700/700 [==============================] - 0s 437us/step - loss: 0.0203 - val_loss: 0.0201\n",
      "Epoch 206/500\n",
      "700/700 [==============================] - 0s 482us/step - loss: 0.0202 - val_loss: 0.0199\n",
      "Epoch 207/500\n",
      "700/700 [==============================] - 0s 413us/step - loss: 0.0207 - val_loss: 0.0203\n",
      "Epoch 208/500\n",
      "700/700 [==============================] - 0s 427us/step - loss: 0.0209 - val_loss: 0.0241\n",
      "Epoch 209/500\n",
      "700/700 [==============================] - 0s 446us/step - loss: 0.0225 - val_loss: 0.0226\n",
      "Epoch 210/500\n",
      "700/700 [==============================] - 0s 472us/step - loss: 0.0218 - val_loss: 0.0226\n",
      "Epoch 211/500\n",
      "700/700 [==============================] - 0s 487us/step - loss: 0.0218 - val_loss: 0.0213\n",
      "Epoch 212/500\n",
      "700/700 [==============================] - 0s 466us/step - loss: 0.0211 - val_loss: 0.0204\n",
      "Epoch 213/500\n",
      "700/700 [==============================] - 0s 537us/step - loss: 0.0201 - val_loss: 0.0202\n",
      "Epoch 214/500\n",
      "700/700 [==============================] - 0s 472us/step - loss: 0.0199 - val_loss: 0.0201\n",
      "Epoch 215/500\n",
      "700/700 [==============================] - 0s 608us/step - loss: 0.0200 - val_loss: 0.0196\n",
      "Epoch 216/500\n",
      "700/700 [==============================] - 0s 439us/step - loss: 0.0199 - val_loss: 0.0196\n",
      "Epoch 217/500\n",
      "700/700 [==============================] - 0s 566us/step - loss: 0.0199 - val_loss: 0.0196\n",
      "Epoch 218/500\n",
      "700/700 [==============================] - 0s 460us/step - loss: 0.0196 - val_loss: 0.0201\n",
      "Epoch 219/500\n",
      "700/700 [==============================] - 0s 450us/step - loss: 0.0199 - val_loss: 0.0206\n",
      "Epoch 220/500\n",
      "700/700 [==============================] - 0s 486us/step - loss: 0.0200 - val_loss: 0.0194\n",
      "Epoch 221/500\n",
      "700/700 [==============================] - 0s 435us/step - loss: 0.0196 - val_loss: 0.0202\n",
      "Epoch 222/500\n",
      "700/700 [==============================] - 0s 432us/step - loss: 0.0196 - val_loss: 0.0191\n",
      "Epoch 223/500\n",
      "700/700 [==============================] - 0s 464us/step - loss: 0.0191 - val_loss: 0.0191\n",
      "Epoch 224/500\n",
      "700/700 [==============================] - 0s 490us/step - loss: 0.0191 - val_loss: 0.0190\n",
      "Epoch 225/500\n",
      "700/700 [==============================] - 0s 419us/step - loss: 0.0190 - val_loss: 0.0190\n",
      "Epoch 226/500\n",
      "700/700 [==============================] - 0s 416us/step - loss: 0.0189 - val_loss: 0.0188\n",
      "Epoch 227/500\n",
      "700/700 [==============================] - 0s 439us/step - loss: 0.0190 - val_loss: 0.0192\n",
      "Epoch 228/500\n",
      "700/700 [==============================] - 0s 420us/step - loss: 0.0191 - val_loss: 0.0188\n",
      "Epoch 229/500\n",
      "700/700 [==============================] - 0s 410us/step - loss: 0.0189 - val_loss: 0.0188\n",
      "Epoch 230/500\n",
      "700/700 [==============================] - 0s 443us/step - loss: 0.0189 - val_loss: 0.0192\n",
      "Epoch 231/500\n",
      "700/700 [==============================] - 0s 436us/step - loss: 0.0191 - val_loss: 0.0194\n",
      "Epoch 232/500\n",
      "700/700 [==============================] - 0s 473us/step - loss: 0.0195 - val_loss: 0.0221\n",
      "Epoch 233/500\n",
      "700/700 [==============================] - 0s 427us/step - loss: 0.0210 - val_loss: 0.0208\n",
      "Epoch 234/500\n",
      "700/700 [==============================] - 0s 493us/step - loss: 0.0193 - val_loss: 0.0199\n",
      "Epoch 235/500\n"
     ]
    },
    {
     "name": "stdout",
     "output_type": "stream",
     "text": [
      "700/700 [==============================] - 0s 446us/step - loss: 0.0190 - val_loss: 0.0186\n",
      "Epoch 236/500\n",
      "700/700 [==============================] - 0s 447us/step - loss: 0.0192 - val_loss: 0.0186\n",
      "Epoch 237/500\n",
      "700/700 [==============================] - 0s 425us/step - loss: 0.0189 - val_loss: 0.0184\n",
      "Epoch 238/500\n",
      "700/700 [==============================] - 0s 440us/step - loss: 0.0185 - val_loss: 0.0185\n",
      "Epoch 239/500\n",
      "700/700 [==============================] - 0s 456us/step - loss: 0.0186 - val_loss: 0.0186\n",
      "Epoch 240/500\n",
      "700/700 [==============================] - 0s 443us/step - loss: 0.0184 - val_loss: 0.0183\n",
      "Epoch 241/500\n",
      "700/700 [==============================] - 0s 446us/step - loss: 0.0184 - val_loss: 0.0181\n",
      "Epoch 242/500\n",
      "700/700 [==============================] - 0s 453us/step - loss: 0.0182 - val_loss: 0.0181\n",
      "Epoch 243/500\n",
      "700/700 [==============================] - 0s 430us/step - loss: 0.0182 - val_loss: 0.0180\n",
      "Epoch 244/500\n",
      "700/700 [==============================] - 0s 509us/step - loss: 0.0188 - val_loss: 0.0187\n",
      "Epoch 245/500\n",
      "700/700 [==============================] - 0s 423us/step - loss: 0.0183 - val_loss: 0.0180\n",
      "Epoch 246/500\n",
      "700/700 [==============================] - 0s 477us/step - loss: 0.0181 - val_loss: 0.0181\n",
      "Epoch 247/500\n",
      "700/700 [==============================] - 0s 439us/step - loss: 0.0182 - val_loss: 0.0182\n",
      "Epoch 248/500\n",
      "700/700 [==============================] - 0s 476us/step - loss: 0.0181 - val_loss: 0.0181\n",
      "Epoch 249/500\n",
      "700/700 [==============================] - 0s 464us/step - loss: 0.0181 - val_loss: 0.0185\n",
      "Epoch 250/500\n",
      "700/700 [==============================] - 0s 445us/step - loss: 0.0181 - val_loss: 0.0179\n",
      "Epoch 251/500\n",
      "700/700 [==============================] - 0s 503us/step - loss: 0.0181 - val_loss: 0.0179\n",
      "Epoch 252/500\n",
      "700/700 [==============================] - 0s 427us/step - loss: 0.0179 - val_loss: 0.0177\n",
      "Epoch 253/500\n",
      "700/700 [==============================] - 0s 564us/step - loss: 0.0179 - val_loss: 0.0177\n",
      "Epoch 254/500\n",
      "700/700 [==============================] - 0s 420us/step - loss: 0.0178 - val_loss: 0.0176\n",
      "Epoch 255/500\n",
      "700/700 [==============================] - 0s 469us/step - loss: 0.0178 - val_loss: 0.0176\n",
      "Epoch 256/500\n",
      "700/700 [==============================] - 0s 439us/step - loss: 0.0175 - val_loss: 0.0175\n",
      "Epoch 257/500\n",
      "700/700 [==============================] - 0s 440us/step - loss: 0.0175 - val_loss: 0.0179\n",
      "Epoch 258/500\n",
      "700/700 [==============================] - 0s 415us/step - loss: 0.0175 - val_loss: 0.0175\n",
      "Epoch 259/500\n",
      "700/700 [==============================] - 0s 516us/step - loss: 0.0174 - val_loss: 0.0174\n",
      "Epoch 260/500\n",
      "700/700 [==============================] - 0s 457us/step - loss: 0.0176 - val_loss: 0.0174\n",
      "Epoch 261/500\n",
      "700/700 [==============================] - 0s 463us/step - loss: 0.0179 - val_loss: 0.0185\n",
      "Epoch 262/500\n",
      "700/700 [==============================] - 0s 419us/step - loss: 0.0178 - val_loss: 0.0179\n",
      "Epoch 263/500\n",
      "700/700 [==============================] - 0s 473us/step - loss: 0.0177 - val_loss: 0.0177\n",
      "Epoch 264/500\n",
      "700/700 [==============================] - 0s 467us/step - loss: 0.0177 - val_loss: 0.0173\n",
      "Epoch 265/500\n",
      "700/700 [==============================] - 0s 432us/step - loss: 0.0176 - val_loss: 0.0174\n",
      "Epoch 266/500\n",
      "700/700 [==============================] - 0s 603us/step - loss: 0.0173 - val_loss: 0.0177\n",
      "Epoch 267/500\n",
      "700/700 [==============================] - 0s 675us/step - loss: 0.0174 - val_loss: 0.0171\n",
      "Epoch 268/500\n",
      "700/700 [==============================] - 0s 588us/step - loss: 0.0180 - val_loss: 0.0178\n",
      "Epoch 269/500\n",
      "700/700 [==============================] - 0s 539us/step - loss: 0.0173 - val_loss: 0.0173\n",
      "Epoch 270/500\n",
      "700/700 [==============================] - 0s 432us/step - loss: 0.0171 - val_loss: 0.0173\n",
      "Epoch 271/500\n",
      "700/700 [==============================] - 0s 531us/step - loss: 0.0170 - val_loss: 0.0168\n",
      "Epoch 272/500\n",
      "700/700 [==============================] - 0s 420us/step - loss: 0.0170 - val_loss: 0.0169\n",
      "Epoch 273/500\n",
      "700/700 [==============================] - 0s 492us/step - loss: 0.0170 - val_loss: 0.0167\n",
      "Epoch 274/500\n",
      "700/700 [==============================] - 0s 440us/step - loss: 0.0168 - val_loss: 0.0166\n",
      "Epoch 275/500\n",
      "700/700 [==============================] - 0s 442us/step - loss: 0.0168 - val_loss: 0.0168\n",
      "Epoch 276/500\n",
      "700/700 [==============================] - 0s 457us/step - loss: 0.0169 - val_loss: 0.0166\n",
      "Epoch 277/500\n",
      "700/700 [==============================] - 0s 425us/step - loss: 0.0171 - val_loss: 0.0166\n",
      "Epoch 278/500\n",
      "700/700 [==============================] - 0s 473us/step - loss: 0.0167 - val_loss: 0.0168\n",
      "Epoch 279/500\n",
      "700/700 [==============================] - 0s 429us/step - loss: 0.0168 - val_loss: 0.0176\n",
      "Epoch 280/500\n",
      "700/700 [==============================] - 0s 476us/step - loss: 0.0172 - val_loss: 0.0177\n",
      "Epoch 281/500\n",
      "700/700 [==============================] - 0s 497us/step - loss: 0.0169 - val_loss: 0.0166\n",
      "Epoch 282/500\n",
      "700/700 [==============================] - 0s 514us/step - loss: 0.0165 - val_loss: 0.0165\n",
      "Epoch 283/500\n",
      "700/700 [==============================] - 0s 435us/step - loss: 0.0166 - val_loss: 0.0167\n",
      "Epoch 284/500\n",
      "700/700 [==============================] - 0s 460us/step - loss: 0.0167 - val_loss: 0.0170\n",
      "Epoch 285/500\n",
      "700/700 [==============================] - 0s 435us/step - loss: 0.0170 - val_loss: 0.0164\n",
      "Epoch 286/500\n",
      "700/700 [==============================] - 0s 464us/step - loss: 0.0167 - val_loss: 0.0164\n",
      "Epoch 287/500\n",
      "700/700 [==============================] - 0s 435us/step - loss: 0.0163 - val_loss: 0.0161\n",
      "Epoch 288/500\n",
      "700/700 [==============================] - 0s 459us/step - loss: 0.0163 - val_loss: 0.0162\n",
      "Epoch 289/500\n",
      "700/700 [==============================] - 0s 479us/step - loss: 0.0162 - val_loss: 0.0162\n",
      "Epoch 290/500\n",
      "700/700 [==============================] - 0s 463us/step - loss: 0.0162 - val_loss: 0.0161\n",
      "Epoch 291/500\n",
      "700/700 [==============================] - 0s 440us/step - loss: 0.0164 - val_loss: 0.0177\n",
      "Epoch 292/500\n",
      "700/700 [==============================] - 0s 445us/step - loss: 0.0170 - val_loss: 0.0176\n",
      "Epoch 293/500\n",
      "700/700 [==============================] - 0s 443us/step - loss: 0.0169 - val_loss: 0.0164\n",
      "Epoch 294/500\n",
      "700/700 [==============================] - 0s 460us/step - loss: 0.0166 - val_loss: 0.0162\n",
      "Epoch 295/500\n",
      "700/700 [==============================] - 0s 462us/step - loss: 0.0165 - val_loss: 0.0163\n",
      "Epoch 296/500\n",
      "700/700 [==============================] - 0s 470us/step - loss: 0.0162 - val_loss: 0.0167\n",
      "Epoch 297/500\n",
      "700/700 [==============================] - 0s 477us/step - loss: 0.0165 - val_loss: 0.0160\n",
      "Epoch 298/500\n",
      "700/700 [==============================] - 0s 472us/step - loss: 0.0160 - val_loss: 0.0160\n",
      "Epoch 299/500\n",
      "700/700 [==============================] - 0s 489us/step - loss: 0.0163 - val_loss: 0.0160\n",
      "Epoch 300/500\n",
      "700/700 [==============================] - 0s 509us/step - loss: 0.0177 - val_loss: 0.0191\n",
      "Epoch 301/500\n",
      "700/700 [==============================] - 0s 454us/step - loss: 0.0188 - val_loss: 0.0198\n",
      "Epoch 302/500\n",
      "700/700 [==============================] - 0s 419us/step - loss: 0.0176 - val_loss: 0.0188\n",
      "Epoch 303/500\n",
      "700/700 [==============================] - 0s 460us/step - loss: 0.0181 - val_loss: 0.0192\n",
      "Epoch 304/500\n",
      "700/700 [==============================] - 0s 427us/step - loss: 0.0173 - val_loss: 0.0183\n",
      "Epoch 305/500\n",
      "700/700 [==============================] - 0s 447us/step - loss: 0.0175 - val_loss: 0.0162\n",
      "Epoch 306/500\n",
      "700/700 [==============================] - 0s 449us/step - loss: 0.0182 - val_loss: 0.0176\n",
      "Epoch 307/500\n",
      "700/700 [==============================] - 0s 410us/step - loss: 0.0176 - val_loss: 0.0186\n",
      "Epoch 308/500\n",
      "700/700 [==============================] - 0s 483us/step - loss: 0.0178 - val_loss: 0.0169\n",
      "Epoch 309/500\n",
      "700/700 [==============================] - 0s 472us/step - loss: 0.0164 - val_loss: 0.0165\n",
      "Epoch 310/500\n",
      "700/700 [==============================] - 0s 453us/step - loss: 0.0161 - val_loss: 0.0156\n",
      "Epoch 311/500\n",
      "700/700 [==============================] - 0s 446us/step - loss: 0.0166 - val_loss: 0.0158\n",
      "Epoch 312/500\n",
      "700/700 [==============================] - 0s 433us/step - loss: 0.0168 - val_loss: 0.0197\n",
      "Epoch 313/500\n"
     ]
    },
    {
     "name": "stdout",
     "output_type": "stream",
     "text": [
      "700/700 [==============================] - 0s 470us/step - loss: 0.0182 - val_loss: 0.0180\n",
      "Epoch 314/500\n",
      "700/700 [==============================] - 0s 466us/step - loss: 0.0166 - val_loss: 0.0163\n",
      "Epoch 315/500\n",
      "700/700 [==============================] - 0s 446us/step - loss: 0.0168 - val_loss: 0.0180\n",
      "Epoch 316/500\n",
      "700/700 [==============================] - 0s 477us/step - loss: 0.0170 - val_loss: 0.0160\n",
      "Epoch 317/500\n",
      "700/700 [==============================] - 0s 417us/step - loss: 0.0159 - val_loss: 0.0153\n",
      "Epoch 318/500\n",
      "700/700 [==============================] - 0s 473us/step - loss: 0.0155 - val_loss: 0.0155\n",
      "Epoch 319/500\n",
      "700/700 [==============================] - 0s 449us/step - loss: 0.0153 - val_loss: 0.0151\n",
      "Epoch 320/500\n",
      "700/700 [==============================] - 0s 429us/step - loss: 0.0155 - val_loss: 0.0154\n",
      "Epoch 321/500\n",
      "700/700 [==============================] - 0s 419us/step - loss: 0.0155 - val_loss: 0.0158\n",
      "Epoch 322/500\n",
      "700/700 [==============================] - 0s 477us/step - loss: 0.0154 - val_loss: 0.0151\n",
      "Epoch 323/500\n",
      "700/700 [==============================] - 0s 445us/step - loss: 0.0151 - val_loss: 0.0151\n",
      "Epoch 324/500\n",
      "700/700 [==============================] - 0s 419us/step - loss: 0.0150 - val_loss: 0.0151\n",
      "Epoch 325/500\n",
      "700/700 [==============================] - 0s 500us/step - loss: 0.0152 - val_loss: 0.0149\n",
      "Epoch 326/500\n",
      "700/700 [==============================] - 0s 409us/step - loss: 0.0152 - val_loss: 0.0153\n",
      "Epoch 327/500\n",
      "700/700 [==============================] - 0s 437us/step - loss: 0.0151 - val_loss: 0.0150\n",
      "Epoch 328/500\n",
      "700/700 [==============================] - 0s 503us/step - loss: 0.0152 - val_loss: 0.0149\n",
      "Epoch 329/500\n",
      "700/700 [==============================] - 0s 464us/step - loss: 0.0153 - val_loss: 0.0153\n",
      "Epoch 330/500\n",
      "700/700 [==============================] - 0s 490us/step - loss: 0.0152 - val_loss: 0.0150\n",
      "Epoch 331/500\n",
      "700/700 [==============================] - 0s 457us/step - loss: 0.0150 - val_loss: 0.0148\n",
      "Epoch 332/500\n",
      "700/700 [==============================] - 0s 457us/step - loss: 0.0150 - val_loss: 0.0147\n",
      "Epoch 333/500\n",
      "700/700 [==============================] - 0s 442us/step - loss: 0.0147 - val_loss: 0.0148\n",
      "Epoch 334/500\n",
      "700/700 [==============================] - 0s 422us/step - loss: 0.0147 - val_loss: 0.0147\n",
      "Epoch 335/500\n",
      "700/700 [==============================] - 0s 486us/step - loss: 0.0147 - val_loss: 0.0146\n",
      "Epoch 336/500\n",
      "700/700 [==============================] - 0s 452us/step - loss: 0.0147 - val_loss: 0.0149\n",
      "Epoch 337/500\n",
      "700/700 [==============================] - 0s 467us/step - loss: 0.0150 - val_loss: 0.0150\n",
      "Epoch 338/500\n",
      "700/700 [==============================] - 0s 474us/step - loss: 0.0150 - val_loss: 0.0147\n",
      "Epoch 339/500\n",
      "700/700 [==============================] - 0s 473us/step - loss: 0.0150 - val_loss: 0.0150\n",
      "Epoch 340/500\n",
      "700/700 [==============================] - 0s 420us/step - loss: 0.0146 - val_loss: 0.0146\n",
      "Epoch 341/500\n",
      "700/700 [==============================] - 0s 494us/step - loss: 0.0146 - val_loss: 0.0144\n",
      "Epoch 342/500\n",
      "700/700 [==============================] - 0s 420us/step - loss: 0.0144 - val_loss: 0.0144\n",
      "Epoch 343/500\n",
      "700/700 [==============================] - 0s 489us/step - loss: 0.0146 - val_loss: 0.0145\n",
      "Epoch 344/500\n",
      "700/700 [==============================] - 0s 439us/step - loss: 0.0150 - val_loss: 0.0144\n",
      "Epoch 345/500\n",
      "700/700 [==============================] - 0s 423us/step - loss: 0.0150 - val_loss: 0.0152\n",
      "Epoch 346/500\n",
      "700/700 [==============================] - 0s 460us/step - loss: 0.0151 - val_loss: 0.0151\n",
      "Epoch 347/500\n",
      "700/700 [==============================] - 0s 437us/step - loss: 0.0146 - val_loss: 0.0143\n",
      "Epoch 348/500\n",
      "700/700 [==============================] - 0s 496us/step - loss: 0.0144 - val_loss: 0.0147\n",
      "Epoch 349/500\n",
      "700/700 [==============================] - 0s 433us/step - loss: 0.0146 - val_loss: 0.0144\n",
      "Epoch 350/500\n",
      "700/700 [==============================] - 0s 520us/step - loss: 0.0144 - val_loss: 0.0142\n",
      "Epoch 351/500\n",
      "700/700 [==============================] - 0s 440us/step - loss: 0.0144 - val_loss: 0.0144\n",
      "Epoch 352/500\n",
      "700/700 [==============================] - 0s 473us/step - loss: 0.0142 - val_loss: 0.0142\n",
      "Epoch 353/500\n",
      "700/700 [==============================] - 0s 429us/step - loss: 0.0140 - val_loss: 0.0140\n",
      "Epoch 354/500\n",
      "700/700 [==============================] - 0s 490us/step - loss: 0.0141 - val_loss: 0.0141\n",
      "Epoch 355/500\n",
      "700/700 [==============================] - 0s 453us/step - loss: 0.0140 - val_loss: 0.0145\n"
     ]
    },
    {
     "data": {
      "text/plain": [
       "<keras.callbacks.History at 0x203b90818d0>"
      ]
     },
     "execution_count": 95,
     "metadata": {},
     "output_type": "execute_result"
    }
   ],
   "source": [
    "epochs = 500\n",
    "verbose = 1\n",
    "simpleRNN3.fit(X_train, y_train, batch_size = 100, epochs = epochs, verbose = verbose, \n",
    "               callbacks = [stopper], validation_data=(X_val, y_val) )"
   ]
  },
  {
   "cell_type": "code",
   "execution_count": 96,
   "metadata": {},
   "outputs": [
    {
     "data": {
      "text/plain": [
       "(160, 50, 1)"
      ]
     },
     "execution_count": 96,
     "metadata": {},
     "output_type": "execute_result"
    }
   ],
   "source": [
    "y_test_pred = simpleRNN3.predict(X_test)\n",
    "y_test_pred.shape"
   ]
  },
  {
   "cell_type": "code",
   "execution_count": 97,
   "metadata": {},
   "outputs": [],
   "source": [
    "s_true = y_test.reshape(-1,1)\n",
    "s_pred = y_test_pred.reshape(-1,1)"
   ]
  },
  {
   "cell_type": "code",
   "execution_count": 99,
   "metadata": {},
   "outputs": [
    {
     "data": {
      "image/png": "[encoded data removed]",
      "text/plain": [
       "<Figure size 432x288 with 1 Axes>"
      ]
     },
     "metadata": {
      "needs_background": "light"
     },
     "output_type": "display_data"
    }
   ],
   "source": [
    "plt.plot(s_true, 'r', label = 'true values for test')\n",
    "plt.plot(s_pred, 'b', label = 'predicted values for test')\n",
    "plt.legend()\n",
    "plt.show()"
   ]
  },
  {
   "cell_type": "code",
   "execution_count": 101,
   "metadata": {},
   "outputs": [
    {
     "name": "stdout",
     "output_type": "stream",
     "text": [
      "test loss is: 0.0007568573827404457\n"
     ]
    }
   ],
   "source": [
    "test_loss = mse(s_true, s_pred)\n",
    "print('test loss is: {}'.format(test_loss))"
   ]
  },
  {
   "cell_type": "markdown",
   "metadata": {},
   "source": [
    "very nice!"
   ]
  },
  {
   "cell_type": "markdown",
   "metadata": {},
   "source": [
    "## Simple RNN with multiple units and Dense layer for output"
   ]
  },
  {
   "cell_type": "code",
   "execution_count": 115,
   "metadata": {},
   "outputs": [],
   "source": [
    "from keras.layers import Dense"
   ]
  },
  {
   "cell_type": "code",
   "execution_count": 116,
   "metadata": {},
   "outputs": [],
   "source": [
    "simpleRNN4 = Sequential([SimpleRNN(input_shape = [None, 1], units = 20, activation = 'relu', return_sequences = True), \n",
    "                        Dense(units = 1)])"
   ]
  },
  {
   "cell_type": "code",
   "execution_count": 117,
   "metadata": {},
   "outputs": [],
   "source": [
    "optimizer = 'adam'\n",
    "simpleRNN4.compile(optimizer = optimizer, loss = 'mae')"
   ]
  },
  {
   "cell_type": "code",
   "execution_count": 118,
   "metadata": {},
   "outputs": [],
   "source": [
    "patience = 300\n",
    "min_delta = 0.001\n",
    "stopper = EarlyStopping(monitor = 'val_loss', min_delta = min_delta, patience = patience , restore_best_weights = True)"
   ]
  },
  {
   "cell_type": "code",
   "execution_count": 120,
   "metadata": {},
   "outputs": [
    {
     "name": "stdout",
     "output_type": "stream",
     "text": [
      "Train on 700 samples, validate on 140 samples\n",
      "Epoch 1/300\n",
      "700/700 [==============================] - 1s 2ms/step - loss: 0.2150 - val_loss: 0.1669\n",
      "Epoch 2/300\n",
      "700/700 [==============================] - 0s 238us/step - loss: 0.1411 - val_loss: 0.1218\n",
      "Epoch 3/300\n",
      "700/700 [==============================] - 0s 249us/step - loss: 0.1072 - val_loss: 0.0855\n",
      "Epoch 4/300\n",
      "700/700 [==============================] - 0s 269us/step - loss: 0.0727 - val_loss: 0.0567\n",
      "Epoch 5/300\n",
      "700/700 [==============================] - 0s 225us/step - loss: 0.0441 - val_loss: 0.0344\n",
      "Epoch 6/300\n",
      "700/700 [==============================] - 0s 224us/step - loss: 0.0348 - val_loss: 0.0334\n",
      "Epoch 7/300\n",
      "700/700 [==============================] - 0s 224us/step - loss: 0.0298 - val_loss: 0.0273\n",
      "Epoch 8/300\n",
      "700/700 [==============================] - 0s 221us/step - loss: 0.0262 - val_loss: 0.0238\n",
      "Epoch 9/300\n",
      "700/700 [==============================] - 0s 215us/step - loss: 0.0219 - val_loss: 0.0203\n",
      "Epoch 10/300\n",
      "700/700 [==============================] - 0s 222us/step - loss: 0.0197 - val_loss: 0.0187\n",
      "Epoch 11/300\n",
      "700/700 [==============================] - 0s 242us/step - loss: 0.0182 - val_loss: 0.0175\n",
      "Epoch 12/300\n",
      "700/700 [==============================] - 0s 291us/step - loss: 0.0171 - val_loss: 0.0165\n",
      "Epoch 13/300\n",
      "700/700 [==============================] - 0s 209us/step - loss: 0.0163 - val_loss: 0.0157\n",
      "Epoch 14/300\n",
      "700/700 [==============================] - 0s 271us/step - loss: 0.0151 - val_loss: 0.0143\n",
      "Epoch 15/300\n",
      "700/700 [==============================] - 0s 218us/step - loss: 0.0142 - val_loss: 0.0136\n",
      "Epoch 16/300\n",
      "700/700 [==============================] - 0s 231us/step - loss: 0.0135 - val_loss: 0.0129\n",
      "Epoch 17/300\n",
      "700/700 [==============================] - 0s 229us/step - loss: 0.0132 - val_loss: 0.0125\n",
      "Epoch 18/300\n",
      "700/700 [==============================] - 0s 272us/step - loss: 0.0125 - val_loss: 0.0121\n",
      "Epoch 19/300\n",
      "700/700 [==============================] - 0s 271us/step - loss: 0.0119 - val_loss: 0.0117\n",
      "Epoch 20/300\n",
      "700/700 [==============================] - 0s 225us/step - loss: 0.0111 - val_loss: 0.0106\n",
      "Epoch 21/300\n",
      "700/700 [==============================] - 0s 235us/step - loss: 0.0107 - val_loss: 0.0111\n",
      "Epoch 22/300\n",
      "700/700 [==============================] - 0s 229us/step - loss: 0.0101 - val_loss: 0.0092\n",
      "Epoch 23/300\n",
      "700/700 [==============================] - 0s 228us/step - loss: 0.0090 - val_loss: 0.0091\n",
      "Epoch 24/300\n",
      "700/700 [==============================] - 0s 278us/step - loss: 0.0087 - val_loss: 0.0083\n",
      "Epoch 25/300\n",
      "700/700 [==============================] - 0s 293us/step - loss: 0.0083 - val_loss: 0.0079\n",
      "Epoch 26/300\n",
      "700/700 [==============================] - 0s 222us/step - loss: 0.0082 - val_loss: 0.0075\n",
      "Epoch 27/300\n",
      "700/700 [==============================] - 0s 211us/step - loss: 0.0078 - val_loss: 0.0080\n",
      "Epoch 28/300\n",
      "700/700 [==============================] - 0s 228us/step - loss: 0.0078 - val_loss: 0.0092\n",
      "Epoch 29/300\n",
      "700/700 [==============================] - 0s 218us/step - loss: 0.0082 - val_loss: 0.0069\n",
      "Epoch 30/300\n",
      "700/700 [==============================] - 0s 215us/step - loss: 0.0074 - val_loss: 0.0074\n",
      "Epoch 31/300\n",
      "700/700 [==============================] - 0s 232us/step - loss: 0.0069 - val_loss: 0.0062\n",
      "Epoch 32/300\n",
      "700/700 [==============================] - 0s 274us/step - loss: 0.0065 - val_loss: 0.0059\n",
      "Epoch 33/300\n",
      "700/700 [==============================] - 0s 302us/step - loss: 0.0065 - val_loss: 0.0063\n",
      "Epoch 34/300\n",
      "700/700 [==============================] - 0s 246us/step - loss: 0.0062 - val_loss: 0.0068\n",
      "Epoch 35/300\n",
      "700/700 [==============================] - 0s 225us/step - loss: 0.0063 - val_loss: 0.0052\n",
      "Epoch 36/300\n",
      "700/700 [==============================] - 0s 227us/step - loss: 0.0061 - val_loss: 0.0067\n",
      "Epoch 37/300\n",
      "700/700 [==============================] - 0s 251us/step - loss: 0.0061 - val_loss: 0.0048\n",
      "Epoch 38/300\n",
      "700/700 [==============================] - 0s 222us/step - loss: 0.0049 - val_loss: 0.0045\n",
      "Epoch 39/300\n",
      "700/700 [==============================] - 0s 222us/step - loss: 0.0045 - val_loss: 0.0046\n",
      "Epoch 40/300\n",
      "700/700 [==============================] - 0s 232us/step - loss: 0.0044 - val_loss: 0.0041\n",
      "Epoch 41/300\n",
      "700/700 [==============================] - 0s 245us/step - loss: 0.0041 - val_loss: 0.0040\n",
      "Epoch 42/300\n",
      "700/700 [==============================] - 0s 245us/step - loss: 0.0039 - val_loss: 0.0042\n",
      "Epoch 43/300\n",
      "700/700 [==============================] - 0s 246us/step - loss: 0.0040 - val_loss: 0.0043\n",
      "Epoch 44/300\n",
      "700/700 [==============================] - 0s 218us/step - loss: 0.0037 - val_loss: 0.0040\n",
      "Epoch 45/300\n",
      "700/700 [==============================] - 0s 222us/step - loss: 0.0040 - val_loss: 0.0034\n",
      "Epoch 46/300\n",
      "700/700 [==============================] - 0s 225us/step - loss: 0.0044 - val_loss: 0.0045\n",
      "Epoch 47/300\n",
      "700/700 [==============================] - 0s 219us/step - loss: 0.0045 - val_loss: 0.0047\n",
      "Epoch 48/300\n",
      "700/700 [==============================] - 0s 218us/step - loss: 0.0045 - val_loss: 0.0048\n",
      "Epoch 49/300\n",
      "700/700 [==============================] - 0s 228us/step - loss: 0.0054 - val_loss: 0.0057\n",
      "Epoch 50/300\n",
      "700/700 [==============================] - 0s 329us/step - loss: 0.0050 - val_loss: 0.0049\n",
      "Epoch 51/300\n",
      "700/700 [==============================] - 0s 246us/step - loss: 0.0049 - val_loss: 0.0056\n",
      "Epoch 52/300\n",
      "700/700 [==============================] - 0s 214us/step - loss: 0.0056 - val_loss: 0.0061\n",
      "Epoch 53/300\n",
      "700/700 [==============================] - 0s 232us/step - loss: 0.0071 - val_loss: 0.0111\n",
      "Epoch 54/300\n",
      "700/700 [==============================] - 0s 225us/step - loss: 0.0079 - val_loss: 0.0057\n",
      "Epoch 55/300\n",
      "700/700 [==============================] - 0s 217us/step - loss: 0.0066 - val_loss: 0.0037\n",
      "Epoch 56/300\n",
      "700/700 [==============================] - 0s 222us/step - loss: 0.0047 - val_loss: 0.0039\n",
      "Epoch 57/300\n",
      "700/700 [==============================] - 0s 232us/step - loss: 0.0042 - val_loss: 0.0035\n",
      "Epoch 58/300\n",
      "700/700 [==============================] - 0s 224us/step - loss: 0.0043 - val_loss: 0.0036\n",
      "Epoch 59/300\n",
      "700/700 [==============================] - 0s 231us/step - loss: 0.0049 - val_loss: 0.0054\n",
      "Epoch 60/300\n",
      "700/700 [==============================] - 0s 232us/step - loss: 0.0058 - val_loss: 0.0039\n",
      "Epoch 61/300\n",
      "700/700 [==============================] - 0s 248us/step - loss: 0.0055 - val_loss: 0.0074\n",
      "Epoch 62/300\n",
      "700/700 [==============================] - 0s 242us/step - loss: 0.0062 - val_loss: 0.0049\n",
      "Epoch 63/300\n",
      "700/700 [==============================] - 0s 234us/step - loss: 0.0044 - val_loss: 0.0047\n",
      "Epoch 64/300\n",
      "700/700 [==============================] - 0s 237us/step - loss: 0.0043 - val_loss: 0.0028\n",
      "Epoch 65/300\n",
      "700/700 [==============================] - 0s 294us/step - loss: 0.0046 - val_loss: 0.0039\n",
      "Epoch 66/300\n",
      "700/700 [==============================] - 0s 234us/step - loss: 0.0042 - val_loss: 0.0045\n",
      "Epoch 67/300\n",
      "700/700 [==============================] - 0s 229us/step - loss: 0.0036 - val_loss: 0.0034\n",
      "Epoch 68/300\n",
      "700/700 [==============================] - 0s 264us/step - loss: 0.0036 - val_loss: 0.0050\n",
      "Epoch 69/300\n",
      "700/700 [==============================] - 0s 299us/step - loss: 0.0045 - val_loss: 0.0053\n",
      "Epoch 70/300\n",
      "700/700 [==============================] - 0s 228us/step - loss: 0.0045 - val_loss: 0.0049\n",
      "Epoch 71/300\n",
      "700/700 [==============================] - 0s 279us/step - loss: 0.0045 - val_loss: 0.0022\n",
      "Epoch 72/300\n",
      "700/700 [==============================] - 0s 271us/step - loss: 0.0042 - val_loss: 0.0035\n",
      "Epoch 73/300\n",
      "700/700 [==============================] - 0s 228us/step - loss: 0.0030 - val_loss: 0.0025\n",
      "Epoch 74/300\n",
      "700/700 [==============================] - 0s 239us/step - loss: 0.0036 - val_loss: 0.0039\n",
      "Epoch 75/300\n",
      "700/700 [==============================] - 0s 245us/step - loss: 0.0033 - val_loss: 0.0027\n",
      "Epoch 76/300\n",
      "700/700 [==============================] - 0s 279us/step - loss: 0.0030 - val_loss: 0.0037\n",
      "Epoch 77/300\n",
      "700/700 [==============================] - 0s 227us/step - loss: 0.0042 - val_loss: 0.0025\n",
      "Epoch 78/300\n",
      "700/700 [==============================] - 0s 242us/step - loss: 0.0042 - val_loss: 0.0051\n",
      "Epoch 79/300\n"
     ]
    },
    {
     "name": "stdout",
     "output_type": "stream",
     "text": [
      "700/700 [==============================] - 0s 289us/step - loss: 0.0048 - val_loss: 0.0082\n",
      "Epoch 80/300\n",
      "700/700 [==============================] - 0s 237us/step - loss: 0.0064 - val_loss: 0.0054\n",
      "Epoch 81/300\n",
      "700/700 [==============================] - 0s 221us/step - loss: 0.0062 - val_loss: 0.0027\n",
      "Epoch 82/300\n",
      "700/700 [==============================] - 0s 275us/step - loss: 0.0059 - val_loss: 0.0072\n",
      "Epoch 83/300\n",
      "700/700 [==============================] - 0s 249us/step - loss: 0.0042 - val_loss: 0.0046\n",
      "Epoch 84/300\n",
      "700/700 [==============================] - 0s 221us/step - loss: 0.0051 - val_loss: 0.0047\n",
      "Epoch 85/300\n",
      "700/700 [==============================] - 0s 268us/step - loss: 0.0040 - val_loss: 0.0064\n",
      "Epoch 86/300\n",
      "700/700 [==============================] - 0s 303us/step - loss: 0.0054 - val_loss: 0.0045\n",
      "Epoch 87/300\n",
      "700/700 [==============================] - 0s 251us/step - loss: 0.0044 - val_loss: 0.0036\n",
      "Epoch 88/300\n",
      "700/700 [==============================] - 0s 269us/step - loss: 0.0029 - val_loss: 0.0023\n",
      "Epoch 89/300\n",
      "700/700 [==============================] - 0s 298us/step - loss: 0.0024 - val_loss: 0.0024\n",
      "Epoch 90/300\n",
      "700/700 [==============================] - 0s 219us/step - loss: 0.0027 - val_loss: 0.0027\n",
      "Epoch 91/300\n",
      "700/700 [==============================] - 0s 237us/step - loss: 0.0027 - val_loss: 0.0032\n",
      "Epoch 92/300\n",
      "700/700 [==============================] - 0s 231us/step - loss: 0.0029 - val_loss: 0.0030\n",
      "Epoch 93/300\n",
      "700/700 [==============================] - 0s 291us/step - loss: 0.0030 - val_loss: 0.0024\n",
      "Epoch 94/300\n",
      "700/700 [==============================] - 0s 219us/step - loss: 0.0028 - val_loss: 0.0032\n",
      "Epoch 95/300\n",
      "700/700 [==============================] - 0s 225us/step - loss: 0.0027 - val_loss: 0.0021\n",
      "Epoch 96/300\n",
      "700/700 [==============================] - 0s 308us/step - loss: 0.0028 - val_loss: 0.0023\n",
      "Epoch 97/300\n",
      "700/700 [==============================] - 0s 227us/step - loss: 0.0023 - val_loss: 0.0018\n",
      "Epoch 98/300\n",
      "700/700 [==============================] - 0s 225us/step - loss: 0.0025 - val_loss: 0.0033\n",
      "Epoch 99/300\n",
      "700/700 [==============================] - 0s 281us/step - loss: 0.0028 - val_loss: 0.0032\n",
      "Epoch 100/300\n",
      "700/700 [==============================] - 0s 224us/step - loss: 0.0026 - val_loss: 0.0028\n",
      "Epoch 101/300\n",
      "700/700 [==============================] - 0s 219us/step - loss: 0.0026 - val_loss: 0.0024\n",
      "Epoch 102/300\n",
      "700/700 [==============================] - 0s 222us/step - loss: 0.0028 - val_loss: 0.0048\n",
      "Epoch 103/300\n",
      "700/700 [==============================] - 0s 298us/step - loss: 0.0034 - val_loss: 0.0041\n",
      "Epoch 104/300\n",
      "700/700 [==============================] - 0s 234us/step - loss: 0.0030 - val_loss: 0.0028\n",
      "Epoch 105/300\n",
      "700/700 [==============================] - 0s 215us/step - loss: 0.0033 - val_loss: 0.0043\n",
      "Epoch 106/300\n",
      "700/700 [==============================] - 0s 237us/step - loss: 0.0047 - val_loss: 0.0050\n",
      "Epoch 107/300\n",
      "700/700 [==============================] - 0s 241us/step - loss: 0.0039 - val_loss: 0.0036\n",
      "Epoch 108/300\n",
      "700/700 [==============================] - 0s 282us/step - loss: 0.0028 - val_loss: 0.0019\n",
      "Epoch 109/300\n",
      "700/700 [==============================] - 0s 259us/step - loss: 0.0024 - val_loss: 0.0022\n",
      "Epoch 110/300\n",
      "700/700 [==============================] - 0s 235us/step - loss: 0.0025 - val_loss: 0.0023\n",
      "Epoch 111/300\n",
      "700/700 [==============================] - 0s 224us/step - loss: 0.0023 - val_loss: 0.0026\n",
      "Epoch 112/300\n",
      "700/700 [==============================] - 0s 224us/step - loss: 0.0024 - val_loss: 0.0022\n",
      "Epoch 113/300\n",
      "700/700 [==============================] - 0s 285us/step - loss: 0.0023 - val_loss: 0.0021\n",
      "Epoch 114/300\n",
      "700/700 [==============================] - 0s 232us/step - loss: 0.0020 - val_loss: 0.0020\n",
      "Epoch 115/300\n",
      "700/700 [==============================] - 0s 229us/step - loss: 0.0020 - val_loss: 0.0025\n",
      "Epoch 116/300\n",
      "700/700 [==============================] - 0s 215us/step - loss: 0.0026 - val_loss: 0.0022\n",
      "Epoch 117/300\n",
      "700/700 [==============================] - 0s 237us/step - loss: 0.0025 - val_loss: 0.0023\n",
      "Epoch 118/300\n",
      "700/700 [==============================] - 0s 225us/step - loss: 0.0028 - val_loss: 0.0028\n",
      "Epoch 119/300\n",
      "700/700 [==============================] - 0s 241us/step - loss: 0.0028 - val_loss: 0.0032\n",
      "Epoch 120/300\n",
      "700/700 [==============================] - 0s 261us/step - loss: 0.0031 - val_loss: 0.0033\n",
      "Epoch 121/300\n",
      "700/700 [==============================] - 0s 266us/step - loss: 0.0031 - val_loss: 0.0029\n",
      "Epoch 122/300\n",
      "700/700 [==============================] - 0s 242us/step - loss: 0.0035 - val_loss: 0.0045\n",
      "Epoch 123/300\n",
      "700/700 [==============================] - 0s 278us/step - loss: 0.0034 - val_loss: 0.0030\n",
      "Epoch 124/300\n",
      "700/700 [==============================] - 0s 217us/step - loss: 0.0029 - val_loss: 0.0018\n",
      "Epoch 125/300\n",
      "700/700 [==============================] - 0s 225us/step - loss: 0.0027 - val_loss: 0.0033\n",
      "Epoch 126/300\n",
      "700/700 [==============================] - 0s 214us/step - loss: 0.0026 - val_loss: 0.0033\n",
      "Epoch 127/300\n",
      "700/700 [==============================] - 0s 251us/step - loss: 0.0029 - val_loss: 0.0034\n",
      "Epoch 128/300\n",
      "700/700 [==============================] - 0s 254us/step - loss: 0.0032 - val_loss: 0.0024\n",
      "Epoch 129/300\n",
      "700/700 [==============================] - 0s 224us/step - loss: 0.0025 - val_loss: 0.0030\n",
      "Epoch 130/300\n",
      "700/700 [==============================] - 0s 268us/step - loss: 0.0033 - val_loss: 0.0059\n",
      "Epoch 131/300\n",
      "700/700 [==============================] - 0s 278us/step - loss: 0.0038 - val_loss: 0.0040\n",
      "Epoch 132/300\n",
      "700/700 [==============================] - 0s 231us/step - loss: 0.0042 - val_loss: 0.0027\n",
      "Epoch 133/300\n",
      "700/700 [==============================] - 0s 222us/step - loss: 0.0030 - val_loss: 0.0026\n",
      "Epoch 134/300\n",
      "700/700 [==============================] - 0s 255us/step - loss: 0.0027 - val_loss: 0.0023\n",
      "Epoch 135/300\n",
      "700/700 [==============================] - 0s 258us/step - loss: 0.0027 - val_loss: 0.0036\n",
      "Epoch 136/300\n",
      "700/700 [==============================] - 0s 232us/step - loss: 0.0031 - val_loss: 0.0033\n",
      "Epoch 137/300\n",
      "700/700 [==============================] - 0s 224us/step - loss: 0.0029 - val_loss: 0.0030\n",
      "Epoch 138/300\n",
      "700/700 [==============================] - 0s 255us/step - loss: 0.0027 - val_loss: 0.0023\n",
      "Epoch 139/300\n",
      "700/700 [==============================] - 0s 259us/step - loss: 0.0027 - val_loss: 0.0028\n",
      "Epoch 140/300\n",
      "700/700 [==============================] - 0s 225us/step - loss: 0.0038 - val_loss: 0.0054\n",
      "Epoch 141/300\n",
      "700/700 [==============================] - 0s 219us/step - loss: 0.0044 - val_loss: 0.0046\n",
      "Epoch 142/300\n",
      "700/700 [==============================] - 0s 217us/step - loss: 0.0038 - val_loss: 0.0025\n",
      "Epoch 143/300\n",
      "700/700 [==============================] - 0s 259us/step - loss: 0.0042 - val_loss: 0.0056\n",
      "Epoch 144/300\n",
      "700/700 [==============================] - 0s 239us/step - loss: 0.0035 - val_loss: 0.0042\n",
      "Epoch 145/300\n",
      "700/700 [==============================] - 0s 244us/step - loss: 0.0033 - val_loss: 0.0021\n",
      "Epoch 146/300\n",
      "700/700 [==============================] - 0s 229us/step - loss: 0.0023 - val_loss: 0.0021\n",
      "Epoch 147/300\n",
      "700/700 [==============================] - 0s 262us/step - loss: 0.0022 - val_loss: 0.0030\n",
      "Epoch 148/300\n",
      "700/700 [==============================] - 0s 252us/step - loss: 0.0030 - val_loss: 0.0019\n",
      "Epoch 149/300\n",
      "700/700 [==============================] - 0s 224us/step - loss: 0.0024 - val_loss: 0.0035\n",
      "Epoch 150/300\n",
      "700/700 [==============================] - 0s 231us/step - loss: 0.0027 - val_loss: 0.0022\n",
      "Epoch 151/300\n",
      "700/700 [==============================] - 0s 264us/step - loss: 0.0022 - val_loss: 0.0026\n",
      "Epoch 152/300\n",
      "700/700 [==============================] - 0s 222us/step - loss: 0.0023 - val_loss: 0.0021\n",
      "Epoch 153/300\n",
      "700/700 [==============================] - 0s 222us/step - loss: 0.0021 - val_loss: 0.0021\n",
      "Epoch 154/300\n",
      "700/700 [==============================] - 0s 241us/step - loss: 0.0021 - val_loss: 0.0021\n",
      "Epoch 155/300\n",
      "700/700 [==============================] - 0s 291us/step - loss: 0.0022 - val_loss: 0.0025\n",
      "Epoch 156/300\n",
      "700/700 [==============================] - 0s 258us/step - loss: 0.0023 - val_loss: 0.0027\n",
      "Epoch 157/300\n"
     ]
    },
    {
     "name": "stdout",
     "output_type": "stream",
     "text": [
      "700/700 [==============================] - 0s 237us/step - loss: 0.0029 - val_loss: 0.0030\n",
      "Epoch 158/300\n",
      "700/700 [==============================] - 0s 296us/step - loss: 0.0030 - val_loss: 0.0032\n",
      "Epoch 159/300\n",
      "700/700 [==============================] - 0s 256us/step - loss: 0.0029 - val_loss: 0.0018\n",
      "Epoch 160/300\n",
      "700/700 [==============================] - 0s 225us/step - loss: 0.0021 - val_loss: 0.0041\n",
      "Epoch 161/300\n",
      "700/700 [==============================] - 0s 231us/step - loss: 0.0039 - val_loss: 0.0052\n",
      "Epoch 162/300\n",
      "700/700 [==============================] - 0s 279us/step - loss: 0.0043 - val_loss: 0.0041\n",
      "Epoch 163/300\n",
      "700/700 [==============================] - 0s 225us/step - loss: 0.0038 - val_loss: 0.0045\n",
      "Epoch 164/300\n",
      "700/700 [==============================] - 0s 228us/step - loss: 0.0037 - val_loss: 0.0025\n",
      "Epoch 165/300\n",
      "700/700 [==============================] - 0s 219us/step - loss: 0.0029 - val_loss: 0.0030\n",
      "Epoch 166/300\n",
      "700/700 [==============================] - 0s 219us/step - loss: 0.0027 - val_loss: 0.0037\n",
      "Epoch 167/300\n",
      "700/700 [==============================] - 0s 265us/step - loss: 0.0038 - val_loss: 0.0057\n",
      "Epoch 168/300\n",
      "700/700 [==============================] - 0s 245us/step - loss: 0.0046 - val_loss: 0.0057\n",
      "Epoch 169/300\n",
      "700/700 [==============================] - 0s 239us/step - loss: 0.0041 - val_loss: 0.0052\n",
      "Epoch 170/300\n",
      "700/700 [==============================] - 0s 231us/step - loss: 0.0051 - val_loss: 0.0025\n",
      "Epoch 171/300\n",
      "700/700 [==============================] - 0s 265us/step - loss: 0.0042 - val_loss: 0.0034\n",
      "Epoch 172/300\n",
      "700/700 [==============================] - 0s 224us/step - loss: 0.0032 - val_loss: 0.0045\n",
      "Epoch 173/300\n",
      "700/700 [==============================] - 0s 224us/step - loss: 0.0035 - val_loss: 0.0027\n",
      "Epoch 174/300\n",
      "700/700 [==============================] - 0s 239us/step - loss: 0.0022 - val_loss: 0.0017\n",
      "Epoch 175/300\n",
      "700/700 [==============================] - 0s 238us/step - loss: 0.0027 - val_loss: 0.0026\n",
      "Epoch 176/300\n",
      "700/700 [==============================] - 0s 229us/step - loss: 0.0029 - val_loss: 0.0031\n",
      "Epoch 177/300\n",
      "700/700 [==============================] - 0s 234us/step - loss: 0.0025 - val_loss: 0.0025\n",
      "Epoch 178/300\n",
      "700/700 [==============================] - 0s 222us/step - loss: 0.0023 - val_loss: 0.0023\n",
      "Epoch 179/300\n",
      "700/700 [==============================] - 0s 224us/step - loss: 0.0025 - val_loss: 0.0022\n",
      "Epoch 180/300\n",
      "700/700 [==============================] - 0s 237us/step - loss: 0.0023 - val_loss: 0.0021\n",
      "Epoch 181/300\n",
      "700/700 [==============================] - 0s 264us/step - loss: 0.0024 - val_loss: 0.0022\n",
      "Epoch 182/300\n",
      "700/700 [==============================] - 0s 292us/step - loss: 0.0022 - val_loss: 0.0022\n",
      "Epoch 183/300\n",
      "700/700 [==============================] - 0s 237us/step - loss: 0.0023 - val_loss: 0.0015\n",
      "Epoch 184/300\n",
      "700/700 [==============================] - 0s 284us/step - loss: 0.0027 - val_loss: 0.0029\n",
      "Epoch 185/300\n",
      "700/700 [==============================] - 0s 255us/step - loss: 0.0024 - val_loss: 0.0034\n",
      "Epoch 186/300\n",
      "700/700 [==============================] - 0s 229us/step - loss: 0.0027 - val_loss: 0.0030\n",
      "Epoch 187/300\n",
      "700/700 [==============================] - 0s 241us/step - loss: 0.0027 - val_loss: 0.0030\n",
      "Epoch 188/300\n",
      "700/700 [==============================] - 0s 235us/step - loss: 0.0026 - val_loss: 0.0020\n",
      "Epoch 189/300\n",
      "700/700 [==============================] - 0s 225us/step - loss: 0.0027 - val_loss: 0.0022\n",
      "Epoch 190/300\n",
      "700/700 [==============================] - 0s 214us/step - loss: 0.0022 - val_loss: 0.0030\n",
      "Epoch 191/300\n",
      "700/700 [==============================] - 0s 218us/step - loss: 0.0028 - val_loss: 0.0032\n",
      "Epoch 192/300\n",
      "700/700 [==============================] - 0s 227us/step - loss: 0.0025 - val_loss: 0.0018\n",
      "Epoch 193/300\n",
      "700/700 [==============================] - ETA: 0s - loss: 0.002 - 0s 259us/step - loss: 0.0023 - val_loss: 0.0016\n",
      "Epoch 194/300\n",
      "700/700 [==============================] - 0s 224us/step - loss: 0.0021 - val_loss: 0.0035\n",
      "Epoch 195/300\n",
      "700/700 [==============================] - 0s 294us/step - loss: 0.0025 - val_loss: 0.0020\n",
      "Epoch 196/300\n",
      "700/700 [==============================] - 0s 272us/step - loss: 0.0019 - val_loss: 0.0018\n",
      "Epoch 197/300\n",
      "700/700 [==============================] - 0s 228us/step - loss: 0.0026 - val_loss: 0.0031\n",
      "Epoch 198/300\n",
      "700/700 [==============================] - 0s 288us/step - loss: 0.0030 - val_loss: 0.0036\n",
      "Epoch 199/300\n",
      "700/700 [==============================] - 0s 288us/step - loss: 0.0025 - val_loss: 0.0037\n",
      "Epoch 200/300\n",
      "700/700 [==============================] - 0s 228us/step - loss: 0.0036 - val_loss: 0.0054\n",
      "Epoch 201/300\n",
      "700/700 [==============================] - 0s 219us/step - loss: 0.0036 - val_loss: 0.0030\n",
      "Epoch 202/300\n",
      "700/700 [==============================] - 0s 224us/step - loss: 0.0024 - val_loss: 0.0017\n",
      "Epoch 203/300\n",
      "700/700 [==============================] - 0s 229us/step - loss: 0.0017 - val_loss: 0.0017\n",
      "Epoch 204/300\n",
      "700/700 [==============================] - 0s 232us/step - loss: 0.0021 - val_loss: 0.0025\n",
      "Epoch 205/300\n",
      "700/700 [==============================] - 0s 221us/step - loss: 0.0021 - val_loss: 0.0022\n",
      "Epoch 206/300\n",
      "700/700 [==============================] - 0s 229us/step - loss: 0.0034 - val_loss: 0.0019\n",
      "Epoch 207/300\n",
      "700/700 [==============================] - 0s 221us/step - loss: 0.0037 - val_loss: 0.0063\n",
      "Epoch 208/300\n",
      "700/700 [==============================] - 0s 262us/step - loss: 0.0053 - val_loss: 0.0075\n",
      "Epoch 209/300\n",
      "700/700 [==============================] - 0s 248us/step - loss: 0.0044 - val_loss: 0.0043\n",
      "Epoch 210/300\n",
      "700/700 [==============================] - 0s 245us/step - loss: 0.0032 - val_loss: 0.0015\n",
      "Epoch 211/300\n",
      "700/700 [==============================] - 0s 229us/step - loss: 0.0025 - val_loss: 0.0035\n",
      "Epoch 212/300\n",
      "700/700 [==============================] - 0s 261us/step - loss: 0.0026 - val_loss: 0.0032\n",
      "Epoch 213/300\n",
      "700/700 [==============================] - 0s 229us/step - loss: 0.0024 - val_loss: 0.0024\n",
      "Epoch 214/300\n",
      "700/700 [==============================] - 0s 227us/step - loss: 0.0025 - val_loss: 0.0035\n",
      "Epoch 215/300\n",
      "700/700 [==============================] - 0s 279us/step - loss: 0.0032 - val_loss: 0.0021\n",
      "Epoch 216/300\n",
      "700/700 [==============================] - 0s 292us/step - loss: 0.0019 - val_loss: 0.0018\n",
      "Epoch 217/300\n",
      "700/700 [==============================] - 0s 227us/step - loss: 0.0018 - val_loss: 0.0014\n",
      "Epoch 218/300\n",
      "700/700 [==============================] - 0s 291us/step - loss: 0.0018 - val_loss: 0.0023\n",
      "Epoch 219/300\n",
      "700/700 [==============================] - 0s 256us/step - loss: 0.0027 - val_loss: 0.0033\n",
      "Epoch 220/300\n",
      "700/700 [==============================] - 0s 215us/step - loss: 0.0025 - val_loss: 0.0022\n",
      "Epoch 221/300\n",
      "700/700 [==============================] - 0s 275us/step - loss: 0.0018 - val_loss: 0.0022\n",
      "Epoch 222/300\n",
      "700/700 [==============================] - 0s 251us/step - loss: 0.0021 - val_loss: 0.0022\n",
      "Epoch 223/300\n",
      "700/700 [==============================] - 0s 222us/step - loss: 0.0019 - val_loss: 0.0021\n",
      "Epoch 224/300\n",
      "700/700 [==============================] - 0s 228us/step - loss: 0.0022 - val_loss: 0.0022\n",
      "Epoch 225/300\n",
      "700/700 [==============================] - 0s 278us/step - loss: 0.0021 - val_loss: 0.0019\n",
      "Epoch 226/300\n",
      "700/700 [==============================] - 0s 238us/step - loss: 0.0021 - val_loss: 0.0024\n",
      "Epoch 227/300\n",
      "700/700 [==============================] - 0s 228us/step - loss: 0.0021 - val_loss: 0.0022\n",
      "Epoch 228/300\n",
      "700/700 [==============================] - 0s 294us/step - loss: 0.0021 - val_loss: 0.0016\n",
      "Epoch 229/300\n",
      "700/700 [==============================] - 0s 255us/step - loss: 0.0018 - val_loss: 0.0028\n",
      "Epoch 230/300\n",
      "700/700 [==============================] - 0s 222us/step - loss: 0.0021 - val_loss: 0.0022\n",
      "Epoch 231/300\n",
      "700/700 [==============================] - 0s 232us/step - loss: 0.0020 - val_loss: 0.0018\n",
      "Epoch 232/300\n",
      "700/700 [==============================] - 0s 282us/step - loss: 0.0017 - val_loss: 0.0015\n",
      "Epoch 233/300\n",
      "700/700 [==============================] - 0s 229us/step - loss: 0.0018 - val_loss: 0.0016\n",
      "Epoch 234/300\n",
      "700/700 [==============================] - 0s 244us/step - loss: 0.0016 - val_loss: 0.0019\n"
     ]
    },
    {
     "name": "stdout",
     "output_type": "stream",
     "text": [
      "Epoch 235/300\n",
      "700/700 [==============================] - 0s 285us/step - loss: 0.0021 - val_loss: 0.0021\n",
      "Epoch 236/300\n",
      "700/700 [==============================] - 0s 281us/step - loss: 0.0021 - val_loss: 0.0024\n",
      "Epoch 237/300\n",
      "700/700 [==============================] - 0s 221us/step - loss: 0.0024 - val_loss: 0.0027\n",
      "Epoch 238/300\n",
      "700/700 [==============================] - 0s 225us/step - loss: 0.0019 - val_loss: 0.0020\n",
      "Epoch 239/300\n",
      "700/700 [==============================] - 0s 302us/step - loss: 0.0021 - val_loss: 0.0021\n",
      "Epoch 240/300\n",
      "700/700 [==============================] - 0s 234us/step - loss: 0.0022 - val_loss: 0.0022\n",
      "Epoch 241/300\n",
      "700/700 [==============================] - 0s 222us/step - loss: 0.0026 - val_loss: 0.0031\n",
      "Epoch 242/300\n",
      "700/700 [==============================] - 0s 218us/step - loss: 0.0030 - val_loss: 0.0037\n",
      "Epoch 243/300\n",
      "700/700 [==============================] - 0s 264us/step - loss: 0.0028 - val_loss: 0.0025\n",
      "Epoch 244/300\n",
      "700/700 [==============================] - 0s 235us/step - loss: 0.0023 - val_loss: 0.0024\n",
      "Epoch 245/300\n",
      "700/700 [==============================] - 0s 262us/step - loss: 0.0024 - val_loss: 0.0016\n",
      "Epoch 246/300\n",
      "700/700 [==============================] - 0s 227us/step - loss: 0.0026 - val_loss: 0.0036\n",
      "Epoch 247/300\n",
      "700/700 [==============================] - 0s 265us/step - loss: 0.0029 - val_loss: 0.0019\n",
      "Epoch 248/300\n",
      "700/700 [==============================] - 0s 237us/step - loss: 0.0024 - val_loss: 0.0029\n",
      "Epoch 249/300\n",
      "700/700 [==============================] - 0s 232us/step - loss: 0.0026 - val_loss: 0.0021\n",
      "Epoch 250/300\n",
      "700/700 [==============================] - 0s 229us/step - loss: 0.0024 - val_loss: 0.0023\n",
      "Epoch 251/300\n",
      "700/700 [==============================] - 0s 259us/step - loss: 0.0022 - val_loss: 0.0012\n",
      "Epoch 252/300\n",
      "700/700 [==============================] - 0s 282us/step - loss: 0.0021 - val_loss: 0.0022\n",
      "Epoch 253/300\n",
      "700/700 [==============================] - 0s 275us/step - loss: 0.0023 - val_loss: 0.0022\n",
      "Epoch 254/300\n",
      "700/700 [==============================] - 0s 244us/step - loss: 0.0025 - val_loss: 0.0022\n",
      "Epoch 255/300\n",
      "700/700 [==============================] - 0s 242us/step - loss: 0.0021 - val_loss: 0.0017\n",
      "Epoch 256/300\n",
      "700/700 [==============================] - 0s 229us/step - loss: 0.0021 - val_loss: 0.0021\n",
      "Epoch 257/300\n",
      "700/700 [==============================] - 0s 286us/step - loss: 0.0023 - val_loss: 0.0027\n",
      "Epoch 258/300\n",
      "700/700 [==============================] - 0s 238us/step - loss: 0.0026 - val_loss: 0.0021\n",
      "Epoch 259/300\n",
      "700/700 [==============================] - 0s 241us/step - loss: 0.0026 - val_loss: 0.0032\n",
      "Epoch 260/300\n",
      "700/700 [==============================] - 0s 224us/step - loss: 0.0029 - val_loss: 0.0016\n",
      "Epoch 261/300\n",
      "700/700 [==============================] - 0s 246us/step - loss: 0.0028 - val_loss: 0.0028\n",
      "Epoch 262/300\n",
      "700/700 [==============================] - 0s 362us/step - loss: 0.0027 - val_loss: 0.0030\n",
      "Epoch 263/300\n",
      "700/700 [==============================] - 0s 390us/step - loss: 0.0019 - val_loss: 0.0021\n",
      "Epoch 264/300\n",
      "700/700 [==============================] - 0s 350us/step - loss: 0.0021 - val_loss: 0.0013\n",
      "Epoch 265/300\n",
      "700/700 [==============================] - 0s 318us/step - loss: 0.0021 - val_loss: 0.0024\n",
      "Epoch 266/300\n",
      "700/700 [==============================] - 0s 349us/step - loss: 0.0021 - val_loss: 0.0029\n",
      "Epoch 267/300\n",
      "700/700 [==============================] - 0s 301us/step - loss: 0.0023 - val_loss: 0.0013\n",
      "Epoch 268/300\n",
      "700/700 [==============================] - 0s 246us/step - loss: 0.0020 - val_loss: 0.0024\n",
      "Epoch 269/300\n",
      "700/700 [==============================] - 0s 237us/step - loss: 0.0020 - val_loss: 0.0016\n",
      "Epoch 270/300\n",
      "700/700 [==============================] - 0s 234us/step - loss: 0.0023 - val_loss: 0.0029\n",
      "Epoch 271/300\n",
      "700/700 [==============================] - 0s 228us/step - loss: 0.0030 - val_loss: 0.0043\n",
      "Epoch 272/300\n",
      "700/700 [==============================] - 0s 244us/step - loss: 0.0027 - val_loss: 0.0019\n",
      "Epoch 273/300\n",
      "700/700 [==============================] - 0s 276us/step - loss: 0.0017 - val_loss: 0.0024\n",
      "Epoch 274/300\n",
      "700/700 [==============================] - 0s 245us/step - loss: 0.0028 - val_loss: 0.0025\n",
      "Epoch 275/300\n",
      "700/700 [==============================] - 0s 256us/step - loss: 0.0028 - val_loss: 0.0031\n",
      "Epoch 276/300\n",
      "700/700 [==============================] - 0s 228us/step - loss: 0.0031 - val_loss: 0.0049\n",
      "Epoch 277/300\n",
      "700/700 [==============================] - 0s 228us/step - loss: 0.0037 - val_loss: 0.0040\n",
      "Epoch 278/300\n",
      "700/700 [==============================] - 0s 244us/step - loss: 0.0033 - val_loss: 0.0018\n",
      "Epoch 279/300\n",
      "700/700 [==============================] - 0s 269us/step - loss: 0.0018 - val_loss: 0.0025\n",
      "Epoch 280/300\n",
      "700/700 [==============================] - 0s 264us/step - loss: 0.0023 - val_loss: 0.0020\n",
      "Epoch 281/300\n",
      "700/700 [==============================] - 0s 237us/step - loss: 0.0028 - val_loss: 0.0035\n",
      "Epoch 282/300\n",
      "700/700 [==============================] - 0s 235us/step - loss: 0.0030 - val_loss: 0.0021\n",
      "Epoch 283/300\n",
      "700/700 [==============================] - 0s 271us/step - loss: 0.0030 - val_loss: 0.0026\n",
      "Epoch 284/300\n",
      "700/700 [==============================] - 0s 254us/step - loss: 0.0029 - val_loss: 0.0038\n",
      "Epoch 285/300\n",
      "700/700 [==============================] - 0s 295us/step - loss: 0.0031 - val_loss: 0.0027\n",
      "Epoch 286/300\n",
      "700/700 [==============================] - 0s 245us/step - loss: 0.0027 - val_loss: 0.0030\n",
      "Epoch 287/300\n",
      "700/700 [==============================] - 0s 245us/step - loss: 0.0031 - val_loss: 0.0032\n",
      "Epoch 288/300\n",
      "700/700 [==============================] - 0s 231us/step - loss: 0.0029 - val_loss: 0.0026\n",
      "Epoch 289/300\n",
      "700/700 [==============================] - 0s 274us/step - loss: 0.0028 - val_loss: 0.0033\n",
      "Epoch 290/300\n",
      "700/700 [==============================] - 0s 269us/step - loss: 0.0026 - val_loss: 0.0030\n",
      "Epoch 291/300\n",
      "700/700 [==============================] - 0s 228us/step - loss: 0.0034 - val_loss: 0.0018\n",
      "Epoch 292/300\n",
      "700/700 [==============================] - 0s 241us/step - loss: 0.0025 - val_loss: 0.0032\n",
      "Epoch 293/300\n",
      "700/700 [==============================] - 0s 237us/step - loss: 0.0031 - val_loss: 0.0040\n",
      "Epoch 294/300\n",
      "700/700 [==============================] - 0s 235us/step - loss: 0.0034 - val_loss: 0.0027\n",
      "Epoch 295/300\n",
      "700/700 [==============================] - 0s 305us/step - loss: 0.0028 - val_loss: 0.0030\n",
      "Epoch 296/300\n",
      "700/700 [==============================] - 0s 232us/step - loss: 0.0028 - val_loss: 0.0014\n",
      "Epoch 297/300\n",
      "700/700 [==============================] - 0s 229us/step - loss: 0.0023 - val_loss: 0.0015\n",
      "Epoch 298/300\n",
      "700/700 [==============================] - 0s 239us/step - loss: 0.0022 - val_loss: 0.0032\n",
      "Epoch 299/300\n",
      "700/700 [==============================] - 0s 292us/step - loss: 0.0031 - val_loss: 0.0030\n",
      "Epoch 300/300\n",
      "700/700 [==============================] - 0s 261us/step - loss: 0.0030 - val_loss: 0.0025\n"
     ]
    },
    {
     "data": {
      "text/plain": [
       "<keras.callbacks.History at 0x203bba1d550>"
      ]
     },
     "execution_count": 120,
     "metadata": {},
     "output_type": "execute_result"
    }
   ],
   "source": [
    "epochs = 300\n",
    "verbose = 1\n",
    "simpleRNN4.fit(X_train, y_train, batch_size = 100,  epochs = epochs, verbose = verbose, \n",
    "               callbacks = [stopper], validation_data = (X_val, y_val) )"
   ]
  },
  {
   "cell_type": "code",
   "execution_count": 122,
   "metadata": {},
   "outputs": [
    {
     "data": {
      "text/plain": [
       "(160, 50, 1)"
      ]
     },
     "execution_count": 122,
     "metadata": {},
     "output_type": "execute_result"
    }
   ],
   "source": [
    "y_test_pred = simpleRNN4.predict(X_test)\n",
    "y_test_pred.shape"
   ]
  },
  {
   "cell_type": "code",
   "execution_count": 123,
   "metadata": {},
   "outputs": [],
   "source": [
    "s_true = y_test.reshape(-1,1)\n",
    "s_pred = y_test_pred.reshape(-1,1)"
   ]
  },
  {
   "cell_type": "code",
   "execution_count": 124,
   "metadata": {},
   "outputs": [
    {
     "data": {
      "image/png": "[encoded data removed]",
      "text/plain": [
       "<Figure size 432x288 with 1 Axes>"
      ]
     },
     "metadata": {
      "needs_background": "light"
     },
     "output_type": "display_data"
    }
   ],
   "source": [
    "plt.plot(s_true, 'r', label = 'true values test')\n",
    "plt.plot(s_pred, 'b', label = 'predicted values test')\n",
    "plt.legend()\n",
    "plt.show()"
   ]
  },
  {
   "cell_type": "markdown",
   "metadata": {},
   "source": [
    "the predicted value seems to overlap with the true values perfectly!"
   ]
  },
  {
   "cell_type": "code",
   "execution_count": 125,
   "metadata": {},
   "outputs": [
    {
     "name": "stdout",
     "output_type": "stream",
     "text": [
      "test loss: 2.4166444636128296e-05\n"
     ]
    }
   ],
   "source": [
    "test_loss = mse(s_true, s_pred)\n",
    "print('test loss: {}'.format(test_loss))"
   ]
  },
  {
   "cell_type": "markdown",
   "metadata": {},
   "source": [
    "This is an extremely low error! Wow!"
   ]
  },
  {
   "cell_type": "code",
   "execution_count": null,
   "metadata": {},
   "outputs": [],
   "source": []
  }
 ],
 "metadata": {
  "kernelspec": {
   "display_name": "Python [conda env:tensorflow-gpu]",
   "language": "python",
   "name": "conda-env-tensorflow-gpu-py"
  },
  "language_info": {
   "codemirror_mode": {
    "name": "ipython",
    "version": 3
   },
   "file_extension": ".py",
   "mimetype": "text/x-python",
   "name": "python",
   "nbconvert_exporter": "python",
   "pygments_lexer": "ipython3",
   "version": "3.7.2"
  }
 },
 "nbformat": 4,
 "nbformat_minor": 2
}
