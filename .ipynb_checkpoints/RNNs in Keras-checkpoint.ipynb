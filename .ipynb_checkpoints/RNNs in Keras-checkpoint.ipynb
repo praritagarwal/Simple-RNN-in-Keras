{
 "cells": [
  {
   "cell_type": "markdown",
   "metadata": {},
   "source": [
    "## Introduction "
   ]
  },
  {
   "cell_type": "markdown",
   "metadata": {},
   "source": [
    "In this project we will try to learn how to work with RNNs in Keras. We will mostly follow Chapter 15 of Aurelion Geron's book on Machine Leraning (2nd Ed.). Note that we had already learnt how to use RNNs in pytorch through Udacity's course on  Introduction to Deep Learning with PyTorch. Our aim here will be to do the same in Keras. "
   ]
  },
  {
   "cell_type": "markdown",
   "metadata": {},
   "source": [
    "## Generating train and test sequences "
   ]
  },
  {
   "cell_type": "markdown",
   "metadata": {},
   "source": [
    "We will use a simple sine wave to produce our sequences"
   ]
  },
  {
   "cell_type": "code",
   "execution_count": 1,
   "metadata": {},
   "outputs": [],
   "source": [
    "import numpy as np"
   ]
  },
  {
   "cell_type": "code",
   "execution_count": 2,
   "metadata": {},
   "outputs": [],
   "source": [
    "import matplotlib.pyplot as plt"
   ]
  },
  {
   "cell_type": "code",
   "execution_count": 3,
   "metadata": {},
   "outputs": [
    {
     "data": {
      "text/plain": [
       "array([0.00000000e+00, 3.14159265e-02, 6.28318531e-02, ...,\n",
       "       1.57141522e+04, 1.57141836e+04, 1.57142150e+04])"
      ]
     },
     "execution_count": 3,
     "metadata": {},
     "output_type": "execute_result"
    }
   ],
   "source": [
    "time_steps=np.arange(0, 5002*np.pi, np.pi/100 )\n",
    "time_steps"
   ]
  },
  {
   "cell_type": "code",
   "execution_count": 4,
   "metadata": {},
   "outputs": [
    {
     "data": {
      "text/plain": [
       "array([[ 0.        ],\n",
       "       [ 0.03141076],\n",
       "       [ 0.06279052],\n",
       "       ...,\n",
       "       [-0.09410831],\n",
       "       [-0.06279052],\n",
       "       [-0.03141076]])"
      ]
     },
     "execution_count": 4,
     "metadata": {},
     "output_type": "execute_result"
    }
   ],
   "source": [
    "series = np.sin(time_steps).reshape(-1,1)\n",
    "series"
   ]
  },
  {
   "cell_type": "code",
   "execution_count": 5,
   "metadata": {},
   "outputs": [
    {
     "data": {
      "text/plain": [
       "(500200, 1)"
      ]
     },
     "execution_count": 5,
     "metadata": {},
     "output_type": "execute_result"
    }
   ],
   "source": [
    "series.shape"
   ]
  },
  {
   "cell_type": "code",
   "execution_count": 6,
   "metadata": {},
   "outputs": [
    {
     "data": {
      "image/png": "[encoded data removed]",
      "text/plain": [
       "<Figure size 432x288 with 1 Axes>"
      ]
     },
     "metadata": {
      "needs_background": "light"
     },
     "output_type": "display_data"
    }
   ],
   "source": [
    "plt.plot(series[:80])\n",
    "plt.show()"
   ]
  },
  {
   "cell_type": "markdown",
   "metadata": {},
   "source": [
    "We now wish to convert this into 50 batches. Each consisting of 20 sequences with each sequence consisting of 50 time steps. For this we will first reshape our data to be a 2d array with 20 rows, then we will use a sliding window of size 50 to divide the sequence into batches"
   ]
  },
  {
   "cell_type": "code",
   "execution_count": 7,
   "metadata": {},
   "outputs": [
    {
     "data": {
      "text/plain": [
       "500200"
      ]
     },
     "execution_count": 7,
     "metadata": {},
     "output_type": "execute_result"
    }
   ],
   "source": [
    "series.size"
   ]
  },
  {
   "cell_type": "code",
   "execution_count": 8,
   "metadata": {},
   "outputs": [
    {
     "data": {
      "text/plain": [
       "(20, 25010, 1)"
      ]
     },
     "execution_count": 8,
     "metadata": {},
     "output_type": "execute_result"
    }
   ],
   "source": [
    "series=series.reshape(20,-1,1)\n",
    "series.shape"
   ]
  },
  {
   "cell_type": "code",
   "execution_count": 9,
   "metadata": {},
   "outputs": [
    {
     "data": {
      "text/plain": [
       "array([   0,   50,  100,  150,  200,  250,  300,  350,  400,  450,  500,\n",
       "        550,  600,  650,  700,  750,  800,  850,  900,  950, 1000, 1050,\n",
       "       1100, 1150, 1200, 1250, 1300, 1350, 1400, 1450, 1500, 1550, 1600,\n",
       "       1650, 1700, 1750, 1800, 1850, 1900, 1950, 2000, 2050, 2100, 2150,\n",
       "       2200, 2250, 2300, 2350, 2400, 2450])"
      ]
     },
     "execution_count": 9,
     "metadata": {},
     "output_type": "execute_result"
    }
   ],
   "source": [
    "# the column index at which each new batch starts\n",
    "start_idx=np.arange(0,2500,50)\n",
    "start_idx"
   ]
  },
  {
   "cell_type": "code",
   "execution_count": 10,
   "metadata": {},
   "outputs": [
    {
     "data": {
      "text/plain": [
       "50"
      ]
     },
     "execution_count": 10,
     "metadata": {},
     "output_type": "execute_result"
    }
   ],
   "source": [
    "start_idx.size"
   ]
  },
  {
   "cell_type": "code",
   "execution_count": 11,
   "metadata": {},
   "outputs": [],
   "source": [
    "# extracting the input sequences\n",
    "x_batches=[]\n",
    "for idx in start_idx:\n",
    "    batch=series[:, idx: idx+50, :]\n",
    "    x_batches.append(batch)"
   ]
  },
  {
   "cell_type": "code",
   "execution_count": 12,
   "metadata": {},
   "outputs": [
    {
     "name": "stdout",
     "output_type": "stream",
     "text": [
      "batch: 1 shape: (20, 50, 1)\n",
      "batch: 2 shape: (20, 50, 1)\n",
      "batch: 3 shape: (20, 50, 1)\n",
      "batch: 4 shape: (20, 50, 1)\n",
      "batch: 5 shape: (20, 50, 1)\n",
      "batch: 6 shape: (20, 50, 1)\n",
      "batch: 7 shape: (20, 50, 1)\n",
      "batch: 8 shape: (20, 50, 1)\n",
      "batch: 9 shape: (20, 50, 1)\n",
      "batch: 10 shape: (20, 50, 1)\n",
      "batch: 11 shape: (20, 50, 1)\n",
      "batch: 12 shape: (20, 50, 1)\n",
      "batch: 13 shape: (20, 50, 1)\n",
      "batch: 14 shape: (20, 50, 1)\n",
      "batch: 15 shape: (20, 50, 1)\n",
      "batch: 16 shape: (20, 50, 1)\n",
      "batch: 17 shape: (20, 50, 1)\n",
      "batch: 18 shape: (20, 50, 1)\n",
      "batch: 19 shape: (20, 50, 1)\n",
      "batch: 20 shape: (20, 50, 1)\n",
      "batch: 21 shape: (20, 50, 1)\n",
      "batch: 22 shape: (20, 50, 1)\n",
      "batch: 23 shape: (20, 50, 1)\n",
      "batch: 24 shape: (20, 50, 1)\n",
      "batch: 25 shape: (20, 50, 1)\n",
      "batch: 26 shape: (20, 50, 1)\n",
      "batch: 27 shape: (20, 50, 1)\n",
      "batch: 28 shape: (20, 50, 1)\n",
      "batch: 29 shape: (20, 50, 1)\n",
      "batch: 30 shape: (20, 50, 1)\n",
      "batch: 31 shape: (20, 50, 1)\n",
      "batch: 32 shape: (20, 50, 1)\n",
      "batch: 33 shape: (20, 50, 1)\n",
      "batch: 34 shape: (20, 50, 1)\n",
      "batch: 35 shape: (20, 50, 1)\n",
      "batch: 36 shape: (20, 50, 1)\n",
      "batch: 37 shape: (20, 50, 1)\n",
      "batch: 38 shape: (20, 50, 1)\n",
      "batch: 39 shape: (20, 50, 1)\n",
      "batch: 40 shape: (20, 50, 1)\n",
      "batch: 41 shape: (20, 50, 1)\n",
      "batch: 42 shape: (20, 50, 1)\n",
      "batch: 43 shape: (20, 50, 1)\n",
      "batch: 44 shape: (20, 50, 1)\n",
      "batch: 45 shape: (20, 50, 1)\n",
      "batch: 46 shape: (20, 50, 1)\n",
      "batch: 47 shape: (20, 50, 1)\n",
      "batch: 48 shape: (20, 50, 1)\n",
      "batch: 49 shape: (20, 50, 1)\n",
      "batch: 50 shape: (20, 50, 1)\n"
     ]
    }
   ],
   "source": [
    "# checking that all the batches have the correct shape\n",
    "ctr=1\n",
    "for batch in x_batches:\n",
    "    print(\"batch: {} shape: {}\".format(ctr, batch.shape))\n",
    "    ctr+=1  "
   ]
  },
  {
   "cell_type": "code",
   "execution_count": 13,
   "metadata": {},
   "outputs": [],
   "source": [
    "# extracting the output sequences\n",
    "# these are same as input sequences shifted by 1 time_step\n",
    "y_batches=[]\n",
    "for idx in start_idx:\n",
    "    batch=series[:,idx+1:idx+51,:]\n",
    "    y_batches.append(batch)"
   ]
  },
  {
   "cell_type": "code",
   "execution_count": 14,
   "metadata": {},
   "outputs": [
    {
     "name": "stdout",
     "output_type": "stream",
     "text": [
      "batch: 1 shape: (20, 50, 1)\n",
      "batch: 2 shape: (20, 50, 1)\n",
      "batch: 3 shape: (20, 50, 1)\n",
      "batch: 4 shape: (20, 50, 1)\n",
      "batch: 5 shape: (20, 50, 1)\n",
      "batch: 6 shape: (20, 50, 1)\n",
      "batch: 7 shape: (20, 50, 1)\n",
      "batch: 8 shape: (20, 50, 1)\n",
      "batch: 9 shape: (20, 50, 1)\n",
      "batch: 10 shape: (20, 50, 1)\n",
      "batch: 11 shape: (20, 50, 1)\n",
      "batch: 12 shape: (20, 50, 1)\n",
      "batch: 13 shape: (20, 50, 1)\n",
      "batch: 14 shape: (20, 50, 1)\n",
      "batch: 15 shape: (20, 50, 1)\n",
      "batch: 16 shape: (20, 50, 1)\n",
      "batch: 17 shape: (20, 50, 1)\n",
      "batch: 18 shape: (20, 50, 1)\n",
      "batch: 19 shape: (20, 50, 1)\n",
      "batch: 20 shape: (20, 50, 1)\n",
      "batch: 21 shape: (20, 50, 1)\n",
      "batch: 22 shape: (20, 50, 1)\n",
      "batch: 23 shape: (20, 50, 1)\n",
      "batch: 24 shape: (20, 50, 1)\n",
      "batch: 25 shape: (20, 50, 1)\n",
      "batch: 26 shape: (20, 50, 1)\n",
      "batch: 27 shape: (20, 50, 1)\n",
      "batch: 28 shape: (20, 50, 1)\n",
      "batch: 29 shape: (20, 50, 1)\n",
      "batch: 30 shape: (20, 50, 1)\n",
      "batch: 31 shape: (20, 50, 1)\n",
      "batch: 32 shape: (20, 50, 1)\n",
      "batch: 33 shape: (20, 50, 1)\n",
      "batch: 34 shape: (20, 50, 1)\n",
      "batch: 35 shape: (20, 50, 1)\n",
      "batch: 36 shape: (20, 50, 1)\n",
      "batch: 37 shape: (20, 50, 1)\n",
      "batch: 38 shape: (20, 50, 1)\n",
      "batch: 39 shape: (20, 50, 1)\n",
      "batch: 40 shape: (20, 50, 1)\n",
      "batch: 41 shape: (20, 50, 1)\n",
      "batch: 42 shape: (20, 50, 1)\n",
      "batch: 43 shape: (20, 50, 1)\n",
      "batch: 44 shape: (20, 50, 1)\n",
      "batch: 45 shape: (20, 50, 1)\n",
      "batch: 46 shape: (20, 50, 1)\n",
      "batch: 47 shape: (20, 50, 1)\n",
      "batch: 48 shape: (20, 50, 1)\n",
      "batch: 49 shape: (20, 50, 1)\n",
      "batch: 50 shape: (20, 50, 1)\n"
     ]
    }
   ],
   "source": [
    "# making sure all the y_batches have the correct shape\n",
    "ctr=1\n",
    "for batch in y_batches:\n",
    "    print('batch: {} shape: {}'.format(ctr, batch.shape))\n",
    "    ctr+=1"
   ]
  },
  {
   "cell_type": "markdown",
   "metadata": {},
   "source": [
    "Next, we will compare the input and the output of a random sequence"
   ]
  },
  {
   "cell_type": "code",
   "execution_count": 15,
   "metadata": {},
   "outputs": [
    {
     "data": {
      "text/plain": [
       "array([[2.64669788e-13],\n",
       "       [3.14107591e-02],\n",
       "       [6.27905195e-02],\n",
       "       [9.41083133e-02],\n",
       "       [1.25333234e-01],\n",
       "       [1.56434465e-01]])"
      ]
     },
     "execution_count": 15,
     "metadata": {},
     "output_type": "execute_result"
    }
   ],
   "source": [
    "x=x_batches[23][5]\n",
    "x[:6]"
   ]
  },
  {
   "cell_type": "code",
   "execution_count": 16,
   "metadata": {},
   "outputs": [
    {
     "data": {
      "text/plain": [
       "array([[0.03141076],\n",
       "       [0.06279052],\n",
       "       [0.09410831],\n",
       "       [0.12533323],\n",
       "       [0.15643447]])"
      ]
     },
     "execution_count": 16,
     "metadata": {},
     "output_type": "execute_result"
    }
   ],
   "source": [
    "y=y_batches[23][5]\n",
    "y[:5]"
   ]
  },
  {
   "cell_type": "code",
   "execution_count": 17,
   "metadata": {
    "scrolled": true
   },
   "outputs": [
    {
     "data": {
      "image/png": "[encoded data removed]",
      "text/plain": [
       "<Figure size 432x288 with 1 Axes>"
      ]
     },
     "metadata": {
      "needs_background": "light"
     },
     "output_type": "display_data"
    }
   ],
   "source": [
    "plt.plot(x, 'r', label='input x')\n",
    "plt.plot(y, 'b', label='output y')\n",
    "plt.legend()\n",
    "plt.show()"
   ]
  },
  {
   "cell_type": "markdown",
   "metadata": {},
   "source": [
    "We see that indeed the sequence in y is shifted from that in x by a single time step. "
   ]
  },
  {
   "cell_type": "markdown",
   "metadata": {},
   "source": [
    "## Split into training and validation sets"
   ]
  },
  {
   "cell_type": "code",
   "execution_count": 18,
   "metadata": {},
   "outputs": [],
   "source": [
    "from sklearn.model_selection import train_test_split"
   ]
  },
  {
   "cell_type": "code",
   "execution_count": 19,
   "metadata": {},
   "outputs": [
    {
     "name": "stderr",
     "output_type": "stream",
     "text": [
      "C:\\Users\\agarw\\Anaconda3\\envs\\tensorflow-gpu\\lib\\site-packages\\sklearn\\model_selection\\_split.py:2179: FutureWarning: From version 0.21, test_size will always complement train_size unless both are specified.\n",
      "  FutureWarning)\n"
     ]
    }
   ],
   "source": [
    "# train_size = 70%\n",
    "seed = 42\n",
    "train_size = 0.7\n",
    "X_train, X_val, y_train, y_val = train_test_split(x_batches, y_batches, train_size=train_size, random_state=True )"
   ]
  },
  {
   "cell_type": "code",
   "execution_count": 20,
   "metadata": {},
   "outputs": [],
   "source": [
    "# validation size = 15% of the total data\n",
    "# this is equivalent to 50% of the remaining sequences after extracting the training data\n",
    "val_size = 0.5\n",
    "X_val, X_test, y_val, y_test = train_test_split(X_val, y_val, train_size=val_size, random_state=True )"
   ]
  },
  {
   "cell_type": "code",
   "execution_count": 21,
   "metadata": {},
   "outputs": [
    {
     "name": "stdout",
     "output_type": "stream",
     "text": [
      "num x_batches_train: 35\n",
      "num y_batches_train: 35\n",
      "num x_batches_val: 7\n",
      "num y_batches_val: 7\n",
      "num x_batches_test: 8\n",
      "num y_batches_test: 8\n"
     ]
    }
   ],
   "source": [
    "# number of batches in training and test sequences\n",
    "print('num x_batches_train: {}'.format(len(X_train)))\n",
    "print('num y_batches_train: {}'.format(len(y_train)))\n",
    "print('num x_batches_val: {}'.format(len(X_val)))\n",
    "print('num y_batches_val: {}'.format(len(y_val)))\n",
    "print('num x_batches_test: {}'.format(len(X_test)))\n",
    "print('num y_batches_test: {}'.format(len(y_test)))"
   ]
  },
  {
   "cell_type": "code",
   "execution_count": 22,
   "metadata": {},
   "outputs": [
    {
     "data": {
      "image/png": "[encoded data removed]",
      "text/plain": [
       "<Figure size 432x288 with 1 Axes>"
      ]
     },
     "metadata": {
      "needs_background": "light"
     },
     "output_type": "display_data"
    }
   ],
   "source": [
    "# compare the input and the output sequences of a random sequence in training batches\n",
    "x = X_train[17][14]\n",
    "y = y_train[17][14]\n",
    "plt.plot(x, 'r', label = 'input x')\n",
    "plt.plot(y, 'b', label = 'output y')\n",
    "plt.legend()\n",
    "plt.show()"
   ]
  },
  {
   "cell_type": "code",
   "execution_count": 23,
   "metadata": {},
   "outputs": [
    {
     "data": {
      "image/png": "[encoded data removed]",
      "text/plain": [
       "<Figure size 432x288 with 1 Axes>"
      ]
     },
     "metadata": {
      "needs_background": "light"
     },
     "output_type": "display_data"
    }
   ],
   "source": [
    "# compare the input and the output sequences of a random sequence in validation batches\n",
    "x = X_val[6][14]\n",
    "y = y_val[6][14]\n",
    "plt.plot(x, 'r', label = 'input x')\n",
    "plt.plot(y, 'b', label = 'output y')\n",
    "plt.legend()\n",
    "plt.show()"
   ]
  },
  {
   "cell_type": "code",
   "execution_count": 24,
   "metadata": {},
   "outputs": [
    {
     "data": {
      "image/png": "[encoded data removed]",
      "text/plain": [
       "<Figure size 432x288 with 1 Axes>"
      ]
     },
     "metadata": {
      "needs_background": "light"
     },
     "output_type": "display_data"
    }
   ],
   "source": [
    "# compare the input and the output sequences of a random sequence in test batches\n",
    "x = X_val[6][14]\n",
    "y = y_val[6][14]\n",
    "plt.plot(x, 'r', label = 'input x')\n",
    "plt.plot(y, 'b', label = 'output y')\n",
    "plt.legend()\n",
    "plt.show()"
   ]
  },
  {
   "cell_type": "markdown",
   "metadata": {},
   "source": [
    "## Building a simple RNN"
   ]
  },
  {
   "cell_type": "markdown",
   "metadata": {},
   "source": [
    "Having prepared our data, let us now import and train the Simple RNN provided by keras on these sequences. The relevant documentation for SimpleRNN can be found [here](https://keras.io/layers/recurrent/)."
   ]
  },
  {
   "cell_type": "code",
   "execution_count": 25,
   "metadata": {},
   "outputs": [
    {
     "name": "stderr",
     "output_type": "stream",
     "text": [
      "Using TensorFlow backend.\n"
     ]
    }
   ],
   "source": [
    "from keras.models import Sequential\n",
    "from keras.layers import SimpleRNN"
   ]
  },
  {
   "cell_type": "code",
   "execution_count": 26,
   "metadata": {},
   "outputs": [
    {
     "name": "stdout",
     "output_type": "stream",
     "text": [
      "WARNING:tensorflow:From C:\\Users\\agarw\\Anaconda3\\envs\\tensorflow-gpu\\lib\\site-packages\\tensorflow\\python\\framework\\op_def_library.py:263: colocate_with (from tensorflow.python.framework.ops) is deprecated and will be removed in a future version.\n",
      "Instructions for updating:\n",
      "Colocations handled automatically by placer.\n"
     ]
    }
   ],
   "source": [
    "# A 1 layer RNN with a single neuron\n",
    "# if we wish to get the output of each time_step, we must set\n",
    "# return_sequences=True \n",
    "# the sequence can be of any length => input shape is [None, 1]\n",
    "# since this is a simple RNN with just 1 neuron, it will be unfair to be able to learn to correctly predict the output for each time_step\n",
    "# therefore for now will only predict the expected value at the end of the sequence\n",
    "simpleRNN = Sequential([SimpleRNN(units = 1, input_shape= [None, 1], \n",
    "                                  return_sequences = False)] )"
   ]
  },
  {
   "cell_type": "markdown",
   "metadata": {},
   "source": [
    "## compile, fit and evaluate the model"
   ]
  },
  {
   "cell_type": "code",
   "execution_count": 27,
   "metadata": {},
   "outputs": [],
   "source": [
    "optimizer='adam'\n",
    "simpleRNN.compile(optimizer = optimizer, loss = 'mse')"
   ]
  },
  {
   "cell_type": "code",
   "execution_count": 28,
   "metadata": {},
   "outputs": [],
   "source": [
    "# let's check the output of the simpleRNN on a single sequence before training\n",
    "y_pred=simpleRNN.predict(X_train[17][14].reshape(1,50,1))"
   ]
  },
  {
   "cell_type": "code",
   "execution_count": 29,
   "metadata": {},
   "outputs": [
    {
     "data": {
      "text/plain": [
       "(1, 1)"
      ]
     },
     "execution_count": 29,
     "metadata": {},
     "output_type": "execute_result"
    }
   ],
   "source": [
    "y_pred.shape"
   ]
  },
  {
   "cell_type": "markdown",
   "metadata": {},
   "source": [
    "I just realized that I did not need to split my data into batches and can just pass the batch_size to model.fit() in keras"
   ]
  },
  {
   "cell_type": "code",
   "execution_count": 30,
   "metadata": {},
   "outputs": [
    {
     "data": {
      "text/plain": [
       "(700, 50, 1)"
      ]
     },
     "execution_count": 30,
     "metadata": {},
     "output_type": "execute_result"
    }
   ],
   "source": [
    "# joining all the batches in X_train\n",
    "X_train=np.array(X_train).reshape(-1,50,1)\n",
    "X_train.shape"
   ]
  },
  {
   "cell_type": "code",
   "execution_count": 31,
   "metadata": {},
   "outputs": [
    {
     "data": {
      "text/plain": [
       "(700, 50, 1)"
      ]
     },
     "execution_count": 31,
     "metadata": {},
     "output_type": "execute_result"
    }
   ],
   "source": [
    "# joining all the batches in y_train\n",
    "y_train = np.array(y_train).reshape(-1,50,1)\n",
    "y_train.shape"
   ]
  },
  {
   "cell_type": "code",
   "execution_count": 32,
   "metadata": {},
   "outputs": [
    {
     "data": {
      "text/plain": [
       "(700, 1)"
      ]
     },
     "execution_count": 32,
     "metadata": {},
     "output_type": "execute_result"
    }
   ],
   "source": [
    "# extracting the last value in the prediction sequence\n",
    "y_true_train=y_train[:,-1]\n",
    "y_true_train.shape"
   ]
  },
  {
   "cell_type": "code",
   "execution_count": 33,
   "metadata": {},
   "outputs": [
    {
     "name": "stdout",
     "output_type": "stream",
     "text": [
      "X_val shape: (140, 50, 1), y_val_shape: (140, 50, 1)\n"
     ]
    }
   ],
   "source": [
    "# joining all the validation batches\n",
    "X_val = np.array(X_val).reshape(-1,50,1)\n",
    "y_val = np.array(y_val).reshape(-1,50,1)\n",
    "print('X_val shape: {}, y_val_shape: {}'.format(X_val.shape, y_val.shape))"
   ]
  },
  {
   "cell_type": "code",
   "execution_count": 34,
   "metadata": {},
   "outputs": [
    {
     "data": {
      "text/plain": [
       "(140, 1)"
      ]
     },
     "execution_count": 34,
     "metadata": {},
     "output_type": "execute_result"
    }
   ],
   "source": [
    "# extracting the expected value at the end of each validation sequence\n",
    "y_true_val=y_val[:,-1]\n",
    "y_true_val.shape"
   ]
  },
  {
   "cell_type": "code",
   "execution_count": 35,
   "metadata": {},
   "outputs": [
    {
     "name": "stdout",
     "output_type": "stream",
     "text": [
      "X_test shape: (160, 50, 1), y_test shape: (160, 50, 1)\n"
     ]
    }
   ],
   "source": [
    "# joining all the test sequences\n",
    "X_test=np.array(X_test).reshape(-1, 50,1)\n",
    "y_test=np.array(y_test).reshape(-1,50,1)\n",
    "print('X_test shape: {}, y_test shape: {}'.format(X_test.shape, y_test.shape))"
   ]
  },
  {
   "cell_type": "code",
   "execution_count": 36,
   "metadata": {},
   "outputs": [
    {
     "data": {
      "text/plain": [
       "(160, 1)"
      ]
     },
     "execution_count": 36,
     "metadata": {},
     "output_type": "execute_result"
    }
   ],
   "source": [
    "# extracting the expected value at the end of each test sequence\n",
    "y_true_test=y_test[:,-1]\n",
    "y_true_test.shape"
   ]
  },
  {
   "cell_type": "code",
   "execution_count": 37,
   "metadata": {},
   "outputs": [],
   "source": [
    "from keras.callbacks import EarlyStopping"
   ]
  },
  {
   "cell_type": "code",
   "execution_count": 38,
   "metadata": {},
   "outputs": [],
   "source": [
    "# early stopper to stop training if val_loss does not improve over a certain period of training\n",
    "\n",
    "patience = 20 # training should stop if val_loss does not improve for this many epochs\n",
    "min_delta = 0.01 # val_loss should improve by atleast this much for training to not stop \n",
    "stopper = EarlyStopping(monitor = 'val_loss', min_delta = min_delta, patience = patience, restore_best_weights = True)\n"
   ]
  },
  {
   "cell_type": "code",
   "execution_count": 39,
   "metadata": {},
   "outputs": [
    {
     "name": "stdout",
     "output_type": "stream",
     "text": [
      "WARNING:tensorflow:From C:\\Users\\agarw\\Anaconda3\\envs\\tensorflow-gpu\\lib\\site-packages\\tensorflow\\python\\ops\\math_ops.py:3066: to_int32 (from tensorflow.python.ops.math_ops) is deprecated and will be removed in a future version.\n",
      "Instructions for updating:\n",
      "Use tf.cast instead.\n",
      "Train on 700 samples, validate on 140 samples\n",
      "Epoch 1/200\n",
      "700/700 [==============================] - 1s 1ms/step - loss: 0.4225 - val_loss: 0.4136\n",
      "Epoch 2/200\n",
      "700/700 [==============================] - 1s 1ms/step - loss: 0.4056 - val_loss: 0.3970\n",
      "Epoch 3/200\n",
      "700/700 [==============================] - 1s 1ms/step - loss: 0.3886 - val_loss: 0.3794\n",
      "Epoch 4/200\n",
      "700/700 [==============================] - 1s 1ms/step - loss: 0.3712 - val_loss: 0.3618\n",
      "Epoch 5/200\n",
      "700/700 [==============================] - 1s 1ms/step - loss: 0.3532 - val_loss: 0.3438\n",
      "Epoch 6/200\n",
      "700/700 [==============================] - 1s 1ms/step - loss: 0.3350 - val_loss: 0.3259\n",
      "Epoch 7/200\n",
      "700/700 [==============================] - 1s 1ms/step - loss: 0.3177 - val_loss: 0.3086\n",
      "Epoch 8/200\n",
      "700/700 [==============================] - 1s 1ms/step - loss: 0.3018 - val_loss: 0.2933\n",
      "Epoch 9/200\n",
      "700/700 [==============================] - 1s 1ms/step - loss: 0.2871 - val_loss: 0.2804\n",
      "Epoch 10/200\n",
      "700/700 [==============================] - 1s 1ms/step - loss: 0.2749 - val_loss: 0.2682\n",
      "Epoch 11/200\n",
      "700/700 [==============================] - 1s 1ms/step - loss: 0.2628 - val_loss: 0.2561\n",
      "Epoch 12/200\n",
      "700/700 [==============================] - 1s 1ms/step - loss: 0.2500 - val_loss: 0.2433\n",
      "Epoch 13/200\n",
      "700/700 [==============================] - 1s 1ms/step - loss: 0.2371 - val_loss: 0.2303\n",
      "Epoch 14/200\n",
      "700/700 [==============================] - 1s 1ms/step - loss: 0.2245 - val_loss: 0.2182\n",
      "Epoch 15/200\n",
      "700/700 [==============================] - 1s 1ms/step - loss: 0.2130 - val_loss: 0.2074\n",
      "Epoch 16/200\n",
      "700/700 [==============================] - 1s 1ms/step - loss: 0.2026 - val_loss: 0.1974\n",
      "Epoch 17/200\n",
      "700/700 [==============================] - 1s 1ms/step - loss: 0.1932 - val_loss: 0.1888\n",
      "Epoch 18/200\n",
      "700/700 [==============================] - 1s 1ms/step - loss: 0.1849 - val_loss: 0.1808\n",
      "Epoch 19/200\n",
      "700/700 [==============================] - 1s 1ms/step - loss: 0.1774 - val_loss: 0.1738\n",
      "Epoch 20/200\n",
      "700/700 [==============================] - 1s 1ms/step - loss: 0.1706 - val_loss: 0.1672\n",
      "Epoch 21/200\n",
      "700/700 [==============================] - 1s 1ms/step - loss: 0.1643 - val_loss: 0.1611\n",
      "Epoch 22/200\n",
      "700/700 [==============================] - 1s 1ms/step - loss: 0.1585 - val_loss: 0.1557\n",
      "Epoch 23/200\n",
      "700/700 [==============================] - 1s 1ms/step - loss: 0.1533 - val_loss: 0.1506\n",
      "Epoch 24/200\n",
      "700/700 [==============================] - 1s 1ms/step - loss: 0.1483 - val_loss: 0.1459\n",
      "Epoch 25/200\n",
      "700/700 [==============================] - 1s 1ms/step - loss: 0.1437 - val_loss: 0.1414\n",
      "Epoch 26/200\n",
      "700/700 [==============================] - 1s 1ms/step - loss: 0.1394 - val_loss: 0.1372\n",
      "Epoch 27/200\n",
      "700/700 [==============================] - 1s 1ms/step - loss: 0.1352 - val_loss: 0.1332\n",
      "Epoch 28/200\n",
      "700/700 [==============================] - 1s 1ms/step - loss: 0.1314 - val_loss: 0.1294\n",
      "Epoch 29/200\n",
      "700/700 [==============================] - 1s 1ms/step - loss: 0.1276 - val_loss: 0.1257\n",
      "Epoch 30/200\n",
      "700/700 [==============================] - 1s 1ms/step - loss: 0.1241 - val_loss: 0.1222\n",
      "Epoch 31/200\n",
      "700/700 [==============================] - 1s 1ms/step - loss: 0.1206 - val_loss: 0.1189\n",
      "Epoch 32/200\n",
      "700/700 [==============================] - 1s 1ms/step - loss: 0.1173 - val_loss: 0.1156\n",
      "Epoch 33/200\n",
      "700/700 [==============================] - 1s 1ms/step - loss: 0.1141 - val_loss: 0.1123\n",
      "Epoch 34/200\n",
      "700/700 [==============================] - 1s 1ms/step - loss: 0.1109 - val_loss: 0.1093\n",
      "Epoch 35/200\n",
      "700/700 [==============================] - 1s 1ms/step - loss: 0.1078 - val_loss: 0.1063\n",
      "Epoch 36/200\n",
      "700/700 [==============================] - 1s 1ms/step - loss: 0.1048 - val_loss: 0.1033\n",
      "Epoch 37/200\n",
      "700/700 [==============================] - 1s 1ms/step - loss: 0.1019 - val_loss: 0.1004\n",
      "Epoch 38/200\n",
      "700/700 [==============================] - 1s 1ms/step - loss: 0.0991 - val_loss: 0.0976\n",
      "Epoch 39/200\n",
      "700/700 [==============================] - 1s 1ms/step - loss: 0.0963 - val_loss: 0.0949\n",
      "Epoch 40/200\n",
      "700/700 [==============================] - 1s 1ms/step - loss: 0.0936 - val_loss: 0.0922\n",
      "Epoch 41/200\n",
      "700/700 [==============================] - 1s 1ms/step - loss: 0.0909 - val_loss: 0.0896\n",
      "Epoch 42/200\n",
      "700/700 [==============================] - 1s 1ms/step - loss: 0.0884 - val_loss: 0.0871\n",
      "Epoch 43/200\n",
      "700/700 [==============================] - 1s 1ms/step - loss: 0.0859 - val_loss: 0.0846\n",
      "Epoch 44/200\n",
      "700/700 [==============================] - 1s 1ms/step - loss: 0.0835 - val_loss: 0.0822\n",
      "Epoch 45/200\n",
      "700/700 [==============================] - 1s 1ms/step - loss: 0.0811 - val_loss: 0.0799\n",
      "Epoch 46/200\n",
      "700/700 [==============================] - 1s 1ms/step - loss: 0.0788 - val_loss: 0.0776\n",
      "Epoch 47/200\n",
      "700/700 [==============================] - 1s 1ms/step - loss: 0.0765 - val_loss: 0.0754\n",
      "Epoch 48/200\n",
      "700/700 [==============================] - 1s 1ms/step - loss: 0.0744 - val_loss: 0.0732\n",
      "Epoch 49/200\n",
      "700/700 [==============================] - 1s 1ms/step - loss: 0.0722 - val_loss: 0.0711\n",
      "Epoch 50/200\n",
      "700/700 [==============================] - 1s 1ms/step - loss: 0.0701 - val_loss: 0.0691\n",
      "Epoch 51/200\n",
      "700/700 [==============================] - 1s 1ms/step - loss: 0.0681 - val_loss: 0.0671\n",
      "Epoch 52/200\n",
      "700/700 [==============================] - 1s 1ms/step - loss: 0.0661 - val_loss: 0.0651\n",
      "Epoch 53/200\n",
      "700/700 [==============================] - 1s 1ms/step - loss: 0.0642 - val_loss: 0.0632\n",
      "Epoch 54/200\n",
      "700/700 [==============================] - 1s 1ms/step - loss: 0.0623 - val_loss: 0.0613\n",
      "Epoch 55/200\n",
      "700/700 [==============================] - 1s 1ms/step - loss: 0.0604 - val_loss: 0.0594\n",
      "Epoch 56/200\n",
      "700/700 [==============================] - 1s 1ms/step - loss: 0.0585 - val_loss: 0.0575\n",
      "Epoch 57/200\n",
      "700/700 [==============================] - 1s 1ms/step - loss: 0.0566 - val_loss: 0.0556\n",
      "Epoch 58/200\n",
      "700/700 [==============================] - 1s 1ms/step - loss: 0.0547 - val_loss: 0.0537\n",
      "Epoch 59/200\n",
      "700/700 [==============================] - 1s 1ms/step - loss: 0.0528 - val_loss: 0.0518\n",
      "Epoch 60/200\n",
      "700/700 [==============================] - 1s 1ms/step - loss: 0.0509 - val_loss: 0.0500\n",
      "Epoch 61/200\n",
      "700/700 [==============================] - 1s 1ms/step - loss: 0.0491 - val_loss: 0.0482\n",
      "Epoch 62/200\n",
      "700/700 [==============================] - 1s 1ms/step - loss: 0.0474 - val_loss: 0.0465\n",
      "Epoch 63/200\n",
      "700/700 [==============================] - 1s 1ms/step - loss: 0.0457 - val_loss: 0.0448\n",
      "Epoch 64/200\n",
      "700/700 [==============================] - 1s 1ms/step - loss: 0.0440 - val_loss: 0.0432\n",
      "Epoch 65/200\n",
      "700/700 [==============================] - 1s 1ms/step - loss: 0.0425 - val_loss: 0.0417\n",
      "Epoch 66/200\n",
      "700/700 [==============================] - 1s 1ms/step - loss: 0.0409 - val_loss: 0.0402\n",
      "Epoch 67/200\n",
      "700/700 [==============================] - 1s 1ms/step - loss: 0.0394 - val_loss: 0.0387\n",
      "Epoch 68/200\n",
      "700/700 [==============================] - 1s 1ms/step - loss: 0.0380 - val_loss: 0.0373\n",
      "Epoch 69/200\n",
      "700/700 [==============================] - 1s 1ms/step - loss: 0.0366 - val_loss: 0.0359\n",
      "Epoch 70/200\n",
      "700/700 [==============================] - 1s 1ms/step - loss: 0.0352 - val_loss: 0.0345\n",
      "Epoch 71/200\n",
      "700/700 [==============================] - 1s 1ms/step - loss: 0.0339 - val_loss: 0.0333\n",
      "Epoch 72/200\n",
      "700/700 [==============================] - 1s 1ms/step - loss: 0.0326 - val_loss: 0.0319\n",
      "Epoch 73/200\n",
      "700/700 [==============================] - 1s 1ms/step - loss: 0.0313 - val_loss: 0.0306\n",
      "Epoch 74/200\n",
      "700/700 [==============================] - 1s 1ms/step - loss: 0.0300 - val_loss: 0.0293\n",
      "Epoch 75/200\n",
      "700/700 [==============================] - 1s 1ms/step - loss: 0.0287 - val_loss: 0.0279\n",
      "Epoch 76/200\n",
      "700/700 [==============================] - 1s 1ms/step - loss: 0.0272 - val_loss: 0.0264\n",
      "Epoch 77/200\n",
      "700/700 [==============================] - 1s 1ms/step - loss: 0.0256 - val_loss: 0.0248\n",
      "Epoch 78/200\n"
     ]
    },
    {
     "name": "stdout",
     "output_type": "stream",
     "text": [
      "700/700 [==============================] - 1s 1ms/step - loss: 0.0240 - val_loss: 0.0232\n",
      "Epoch 79/200\n",
      "700/700 [==============================] - 1s 1ms/step - loss: 0.0223 - val_loss: 0.0215\n",
      "Epoch 80/200\n",
      "700/700 [==============================] - 1s 1ms/step - loss: 0.0207 - val_loss: 0.0199\n",
      "Epoch 81/200\n",
      "700/700 [==============================] - 1s 1ms/step - loss: 0.0192 - val_loss: 0.0184\n",
      "Epoch 82/200\n",
      "700/700 [==============================] - 1s 1ms/step - loss: 0.0177 - val_loss: 0.0170\n",
      "Epoch 83/200\n",
      "700/700 [==============================] - 1s 1ms/step - loss: 0.0164 - val_loss: 0.0157\n",
      "Epoch 84/200\n",
      "700/700 [==============================] - 1s 1ms/step - loss: 0.0152 - val_loss: 0.0146\n",
      "Epoch 85/200\n",
      "700/700 [==============================] - 1s 1ms/step - loss: 0.0140 - val_loss: 0.0135\n",
      "Epoch 86/200\n",
      "700/700 [==============================] - 1s 1ms/step - loss: 0.0130 - val_loss: 0.0125\n",
      "Epoch 87/200\n",
      "700/700 [==============================] - 1s 1ms/step - loss: 0.0121 - val_loss: 0.0116\n",
      "Epoch 88/200\n",
      "700/700 [==============================] - 1s 1ms/step - loss: 0.0112 - val_loss: 0.0108\n",
      "Epoch 89/200\n",
      "700/700 [==============================] - 1s 1ms/step - loss: 0.0104 - val_loss: 0.0101\n",
      "Epoch 90/200\n",
      "700/700 [==============================] - 1s 1ms/step - loss: 0.0097 - val_loss: 0.0094\n",
      "Epoch 91/200\n",
      "700/700 [==============================] - 1s 1ms/step - loss: 0.0091 - val_loss: 0.0088\n",
      "Epoch 92/200\n",
      "700/700 [==============================] - 1s 1ms/step - loss: 0.0085 - val_loss: 0.0083\n",
      "Epoch 93/200\n",
      "700/700 [==============================] - 1s 1ms/step - loss: 0.0080 - val_loss: 0.0077\n",
      "Epoch 94/200\n",
      "700/700 [==============================] - 1s 1ms/step - loss: 0.0075 - val_loss: 0.0073\n",
      "Epoch 95/200\n",
      "700/700 [==============================] - 1s 1ms/step - loss: 0.0071 - val_loss: 0.0069\n",
      "Epoch 96/200\n",
      "700/700 [==============================] - 1s 1ms/step - loss: 0.0067 - val_loss: 0.0065\n",
      "Epoch 97/200\n",
      "700/700 [==============================] - 1s 1ms/step - loss: 0.0064 - val_loss: 0.0062\n",
      "Epoch 98/200\n",
      "700/700 [==============================] - 1s 1ms/step - loss: 0.0061 - val_loss: 0.0059\n",
      "Epoch 99/200\n",
      "700/700 [==============================] - 1s 1ms/step - loss: 0.0058 - val_loss: 0.0056\n",
      "Epoch 100/200\n",
      "700/700 [==============================] - 1s 1ms/step - loss: 0.0055 - val_loss: 0.0054\n",
      "Epoch 101/200\n",
      "700/700 [==============================] - 1s 1ms/step - loss: 0.0053 - val_loss: 0.0052\n",
      "Epoch 102/200\n",
      "700/700 [==============================] - 1s 1ms/step - loss: 0.0051 - val_loss: 0.0050\n",
      "Epoch 103/200\n",
      "700/700 [==============================] - 1s 1ms/step - loss: 0.0049 - val_loss: 0.0048\n",
      "Epoch 104/200\n",
      "700/700 [==============================] - 1s 1ms/step - loss: 0.0048 - val_loss: 0.0047\n",
      "Epoch 105/200\n",
      "700/700 [==============================] - 1s 1ms/step - loss: 0.0046 - val_loss: 0.0045\n",
      "Epoch 106/200\n",
      "700/700 [==============================] - 1s 1ms/step - loss: 0.0045 - val_loss: 0.0044\n",
      "Epoch 107/200\n",
      "700/700 [==============================] - 1s 1ms/step - loss: 0.0044 - val_loss: 0.0043\n",
      "Epoch 108/200\n",
      "700/700 [==============================] - 1s 1ms/step - loss: 0.0043 - val_loss: 0.0042\n",
      "Epoch 109/200\n",
      "700/700 [==============================] - 1s 1ms/step - loss: 0.0042 - val_loss: 0.0042\n",
      "Epoch 110/200\n",
      "700/700 [==============================] - 1s 1ms/step - loss: 0.0041 - val_loss: 0.0041\n",
      "Epoch 111/200\n",
      "700/700 [==============================] - 1s 1ms/step - loss: 0.0040 - val_loss: 0.0040\n",
      "Epoch 112/200\n",
      "700/700 [==============================] - 1s 1ms/step - loss: 0.0040 - val_loss: 0.0040\n",
      "Epoch 113/200\n",
      "700/700 [==============================] - 1s 1ms/step - loss: 0.0039 - val_loss: 0.0039\n",
      "Epoch 114/200\n",
      "700/700 [==============================] - 1s 1ms/step - loss: 0.0039 - val_loss: 0.0039\n",
      "Epoch 115/200\n",
      "700/700 [==============================] - 1s 1ms/step - loss: 0.0039 - val_loss: 0.0038\n",
      "Epoch 116/200\n",
      "700/700 [==============================] - 1s 1ms/step - loss: 0.0038 - val_loss: 0.0038\n",
      "Epoch 117/200\n",
      "700/700 [==============================] - 1s 1ms/step - loss: 0.0038 - val_loss: 0.0038\n",
      "Epoch 118/200\n",
      "700/700 [==============================] - 1s 1ms/step - loss: 0.0038 - val_loss: 0.0037\n",
      "Epoch 119/200\n",
      "700/700 [==============================] - 1s 1ms/step - loss: 0.0037 - val_loss: 0.0037\n"
     ]
    },
    {
     "data": {
      "text/plain": [
       "<keras.callbacks.History at 0x1b727b45b00>"
      ]
     },
     "execution_count": 39,
     "metadata": {},
     "output_type": "execute_result"
    }
   ],
   "source": [
    "# training the model\n",
    "epochs=200\n",
    "verbose = 1\n",
    "\n",
    "simpleRNN.fit(X_train, y_true_train, epochs=epochs, batch_size=20, verbose = verbose,\n",
    "              callbacks = [stopper], validation_data = (X_val, y_true_val))"
   ]
  },
  {
   "cell_type": "code",
   "execution_count": 41,
   "metadata": {},
   "outputs": [
    {
     "data": {
      "text/plain": [
       "(160, 1)"
      ]
     },
     "execution_count": 41,
     "metadata": {},
     "output_type": "execute_result"
    }
   ],
   "source": [
    "# predictions on the test set\n",
    "y_test_pred = simpleRNN.predict(X_test)\n",
    "y_test_pred.shape"
   ]
  },
  {
   "cell_type": "code",
   "execution_count": 43,
   "metadata": {},
   "outputs": [
    {
     "data": {
      "image/png": "[encoded data removed]",
      "text/plain": [
       "<Figure size 432x288 with 1 Axes>"
      ]
     },
     "metadata": {
      "needs_background": "light"
     },
     "output_type": "display_data"
    }
   ],
   "source": [
    "# compare y_true_test and y_test_pred\n",
    "plt.plot(y_true_test, 'r', label = 'true value')\n",
    "plt.plot(y_test_pred, 'b', label = 'predicted value')\n",
    "plt.legend()\n",
    "plt.show()"
   ]
  },
  {
   "cell_type": "code",
   "execution_count": 53,
   "metadata": {},
   "outputs": [],
   "source": [
    "from sklearn.metrics import mean_squared_error as mse"
   ]
  },
  {
   "cell_type": "code",
   "execution_count": 56,
   "metadata": {},
   "outputs": [
    {
     "name": "stdout",
     "output_type": "stream",
     "text": [
      "test loss: 0.005642916819730969\n"
     ]
    }
   ],
   "source": [
    "# mse of the test prediction\n",
    "test_loss = mse(y_true_test, y_test_pred)\n",
    "print('test loss: {}'.format(test_loss))"
   ]
  },
  {
   "cell_type": "code",
   "execution_count": null,
   "metadata": {},
   "outputs": [],
   "source": []
  }
 ],
 "metadata": {
  "kernelspec": {
   "display_name": "Python [conda env:tensorflow-gpu]",
   "language": "python",
   "name": "conda-env-tensorflow-gpu-py"
  },
  "language_info": {
   "codemirror_mode": {
    "name": "ipython",
    "version": 3
   },
   "file_extension": ".py",
   "mimetype": "text/x-python",
   "name": "python",
   "nbconvert_exporter": "python",
   "pygments_lexer": "ipython3",
   "version": "3.7.2"
  }
 },
 "nbformat": 4,
 "nbformat_minor": 2
}
