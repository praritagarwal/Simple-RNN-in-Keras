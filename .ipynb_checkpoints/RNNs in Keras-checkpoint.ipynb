{
 "cells": [
  {
   "cell_type": "markdown",
   "metadata": {},
   "source": [
    "## Introduction "
   ]
  },
  {
   "cell_type": "markdown",
   "metadata": {},
   "source": [
    "In this project we will try to learn how to work with RNNs in Keras. We will mostly follow Chapter 15 of Aurelion Geron's book on Machine Leraning (2nd Ed.). Note that we had already learnt how to use RNNs in pytorch through Udacity's course on  Introduction to Deep Learning with PyTorch. Our aim here will be to do the same in Keras. "
   ]
  },
  {
   "cell_type": "markdown",
   "metadata": {},
   "source": [
    "## Generating train and test sequences "
   ]
  },
  {
   "cell_type": "markdown",
   "metadata": {},
   "source": [
    "We will use a simple sine wave to produce our sequences"
   ]
  },
  {
   "cell_type": "code",
   "execution_count": 1,
   "metadata": {},
   "outputs": [],
   "source": [
    "import numpy as np"
   ]
  },
  {
   "cell_type": "code",
   "execution_count": 2,
   "metadata": {},
   "outputs": [],
   "source": [
    "import matplotlib.pyplot as plt"
   ]
  },
  {
   "cell_type": "code",
   "execution_count": 3,
   "metadata": {},
   "outputs": [
    {
     "data": {
      "text/plain": [
       "array([0.00000000e+00, 1.57079633e-01, 3.14159265e-01, ...,\n",
       "       6.28271407e+03, 6.28287115e+03, 6.28302823e+03])"
      ]
     },
     "execution_count": 3,
     "metadata": {},
     "output_type": "execute_result"
    }
   ],
   "source": [
    "time_steps=np.arange(0, 2000*np.pi, np.pi/20 )\n",
    "time_steps"
   ]
  },
  {
   "cell_type": "code",
   "execution_count": 4,
   "metadata": {},
   "outputs": [
    {
     "data": {
      "text/plain": [
       "array([[ 0.        ],\n",
       "       [ 0.78217233],\n",
       "       [ 1.54508497],\n",
       "       ...,\n",
       "       [-2.2699525 ],\n",
       "       [-1.54508497],\n",
       "       [-0.78217233]])"
      ]
     },
     "execution_count": 4,
     "metadata": {},
     "output_type": "execute_result"
    }
   ],
   "source": [
    "series = 5*np.sin(time_steps).reshape(-1,1)\n",
    "series"
   ]
  },
  {
   "cell_type": "code",
   "execution_count": 5,
   "metadata": {},
   "outputs": [
    {
     "data": {
      "image/png": "[encoded data removed]",
      "text/plain": [
       "<Figure size 432x288 with 1 Axes>"
      ]
     },
     "metadata": {
      "needs_background": "light"
     },
     "output_type": "display_data"
    }
   ],
   "source": [
    "plt.plot(series[:80])\n",
    "plt.show()"
   ]
  },
  {
   "cell_type": "markdown",
   "metadata": {},
   "source": [
    "We now wish to convert this into 30 batches. Each consisting of 20 sequences with each sequence consisting of 50 time steps. For this we will first reshape our data to be a 2d array with 20 rows, then we will use a sliding window of size 50 to divide the sequence into batches"
   ]
  },
  {
   "cell_type": "code",
   "execution_count": 6,
   "metadata": {},
   "outputs": [
    {
     "data": {
      "text/plain": [
       "40000"
      ]
     },
     "execution_count": 6,
     "metadata": {},
     "output_type": "execute_result"
    }
   ],
   "source": [
    "series.size"
   ]
  },
  {
   "cell_type": "code",
   "execution_count": 7,
   "metadata": {},
   "outputs": [
    {
     "data": {
      "text/plain": [
       "(20, 2000, 1)"
      ]
     },
     "execution_count": 7,
     "metadata": {},
     "output_type": "execute_result"
    }
   ],
   "source": [
    "series=series.reshape(20,-1,1)\n",
    "series.shape"
   ]
  },
  {
   "cell_type": "code",
   "execution_count": 8,
   "metadata": {},
   "outputs": [
    {
     "data": {
      "text/plain": [
       "array([   0,   50,  100,  150,  200,  250,  300,  350,  400,  450,  500,\n",
       "        550,  600,  650,  700,  750,  800,  850,  900,  950, 1000, 1050,\n",
       "       1100, 1150, 1200, 1250, 1300, 1350, 1400, 1450])"
      ]
     },
     "execution_count": 8,
     "metadata": {},
     "output_type": "execute_result"
    }
   ],
   "source": [
    "# the column index at which each new batch starts\n",
    "start_idx=np.arange(0,1500,50)\n",
    "start_idx"
   ]
  },
  {
   "cell_type": "code",
   "execution_count": 9,
   "metadata": {},
   "outputs": [
    {
     "data": {
      "text/plain": [
       "30"
      ]
     },
     "execution_count": 9,
     "metadata": {},
     "output_type": "execute_result"
    }
   ],
   "source": [
    "start_idx.size"
   ]
  },
  {
   "cell_type": "code",
   "execution_count": 10,
   "metadata": {},
   "outputs": [],
   "source": [
    "# extracting the input sequences\n",
    "x_batches=[]\n",
    "for idx in start_idx:\n",
    "    batch=series[:, idx: idx+50, :]\n",
    "    x_batches.append(batch)"
   ]
  },
  {
   "cell_type": "code",
   "execution_count": 11,
   "metadata": {},
   "outputs": [
    {
     "name": "stdout",
     "output_type": "stream",
     "text": [
      "batch: 1 shape: (20, 50, 1)\n",
      "batch: 2 shape: (20, 50, 1)\n",
      "batch: 3 shape: (20, 50, 1)\n",
      "batch: 4 shape: (20, 50, 1)\n",
      "batch: 5 shape: (20, 50, 1)\n",
      "batch: 6 shape: (20, 50, 1)\n",
      "batch: 7 shape: (20, 50, 1)\n",
      "batch: 8 shape: (20, 50, 1)\n",
      "batch: 9 shape: (20, 50, 1)\n",
      "batch: 10 shape: (20, 50, 1)\n",
      "batch: 11 shape: (20, 50, 1)\n",
      "batch: 12 shape: (20, 50, 1)\n",
      "batch: 13 shape: (20, 50, 1)\n",
      "batch: 14 shape: (20, 50, 1)\n",
      "batch: 15 shape: (20, 50, 1)\n",
      "batch: 16 shape: (20, 50, 1)\n",
      "batch: 17 shape: (20, 50, 1)\n",
      "batch: 18 shape: (20, 50, 1)\n",
      "batch: 19 shape: (20, 50, 1)\n",
      "batch: 20 shape: (20, 50, 1)\n",
      "batch: 21 shape: (20, 50, 1)\n",
      "batch: 22 shape: (20, 50, 1)\n",
      "batch: 23 shape: (20, 50, 1)\n",
      "batch: 24 shape: (20, 50, 1)\n",
      "batch: 25 shape: (20, 50, 1)\n",
      "batch: 26 shape: (20, 50, 1)\n",
      "batch: 27 shape: (20, 50, 1)\n",
      "batch: 28 shape: (20, 50, 1)\n",
      "batch: 29 shape: (20, 50, 1)\n",
      "batch: 30 shape: (20, 50, 1)\n"
     ]
    }
   ],
   "source": [
    "# checking that all the batches have the correct shape\n",
    "ctr=1\n",
    "for batch in x_batches:\n",
    "    print(\"batch: {} shape: {}\".format(ctr, batch.shape))\n",
    "    ctr+=1  "
   ]
  },
  {
   "cell_type": "code",
   "execution_count": 12,
   "metadata": {},
   "outputs": [],
   "source": [
    "# extracting the output sequences\n",
    "# these are same as input sequences shifted by 1 time_step\n",
    "y_batches=[]\n",
    "for idx in start_idx:\n",
    "    batch=series[:,idx+1:idx+51,:]\n",
    "    y_batches.append(batch)"
   ]
  },
  {
   "cell_type": "code",
   "execution_count": 13,
   "metadata": {},
   "outputs": [
    {
     "name": "stdout",
     "output_type": "stream",
     "text": [
      "batch: 1 shape: (20, 50, 1)\n",
      "batch: 2 shape: (20, 50, 1)\n",
      "batch: 3 shape: (20, 50, 1)\n",
      "batch: 4 shape: (20, 50, 1)\n",
      "batch: 5 shape: (20, 50, 1)\n",
      "batch: 6 shape: (20, 50, 1)\n",
      "batch: 7 shape: (20, 50, 1)\n",
      "batch: 8 shape: (20, 50, 1)\n",
      "batch: 9 shape: (20, 50, 1)\n",
      "batch: 10 shape: (20, 50, 1)\n",
      "batch: 11 shape: (20, 50, 1)\n",
      "batch: 12 shape: (20, 50, 1)\n",
      "batch: 13 shape: (20, 50, 1)\n",
      "batch: 14 shape: (20, 50, 1)\n",
      "batch: 15 shape: (20, 50, 1)\n",
      "batch: 16 shape: (20, 50, 1)\n",
      "batch: 17 shape: (20, 50, 1)\n",
      "batch: 18 shape: (20, 50, 1)\n",
      "batch: 19 shape: (20, 50, 1)\n",
      "batch: 20 shape: (20, 50, 1)\n",
      "batch: 21 shape: (20, 50, 1)\n",
      "batch: 22 shape: (20, 50, 1)\n",
      "batch: 23 shape: (20, 50, 1)\n",
      "batch: 24 shape: (20, 50, 1)\n",
      "batch: 25 shape: (20, 50, 1)\n",
      "batch: 26 shape: (20, 50, 1)\n",
      "batch: 27 shape: (20, 50, 1)\n",
      "batch: 28 shape: (20, 50, 1)\n",
      "batch: 29 shape: (20, 50, 1)\n",
      "batch: 30 shape: (20, 50, 1)\n"
     ]
    }
   ],
   "source": [
    "# making sure all the y_batches have the correct shape\n",
    "ctr=1\n",
    "for batch in y_batches:\n",
    "    print('batch: {} shape: {}'.format(ctr, batch.shape))\n",
    "    ctr+=1"
   ]
  },
  {
   "cell_type": "markdown",
   "metadata": {},
   "source": [
    "Next, we will compare the input and the output of a random sequence"
   ]
  },
  {
   "cell_type": "code",
   "execution_count": 14,
   "metadata": {},
   "outputs": [
    {
     "data": {
      "text/plain": [
       "array([[-5.        ],\n",
       "       [-4.9384417 ],\n",
       "       [-4.75528258],\n",
       "       [-4.45503262],\n",
       "       [-4.04508497],\n",
       "       [-3.53553391]])"
      ]
     },
     "execution_count": 14,
     "metadata": {},
     "output_type": "execute_result"
    }
   ],
   "source": [
    "x=x_batches[23][5]\n",
    "x[:6]"
   ]
  },
  {
   "cell_type": "code",
   "execution_count": 15,
   "metadata": {},
   "outputs": [
    {
     "data": {
      "text/plain": [
       "array([[-4.9384417 ],\n",
       "       [-4.75528258],\n",
       "       [-4.45503262],\n",
       "       [-4.04508497],\n",
       "       [-3.53553391]])"
      ]
     },
     "execution_count": 15,
     "metadata": {},
     "output_type": "execute_result"
    }
   ],
   "source": [
    "y=y_batches[23][5]\n",
    "y[:5]"
   ]
  },
  {
   "cell_type": "code",
   "execution_count": 16,
   "metadata": {},
   "outputs": [
    {
     "data": {
      "image/png": "[encoded data removed]",
      "text/plain": [
       "<Figure size 432x288 with 1 Axes>"
      ]
     },
     "metadata": {
      "needs_background": "light"
     },
     "output_type": "display_data"
    }
   ],
   "source": [
    "plt.plot(x, 'r', label='input x')\n",
    "plt.plot(y, 'b', label='output y')\n",
    "plt.legend()\n",
    "plt.show()"
   ]
  },
  {
   "cell_type": "markdown",
   "metadata": {},
   "source": [
    "We see that indeed the sequence in y is shifted from that in x by a single time step. "
   ]
  },
  {
   "cell_type": "markdown",
   "metadata": {},
   "source": [
    "## Building a simple RNN"
   ]
  },
  {
   "cell_type": "markdown",
   "metadata": {},
   "source": [
    "Having prepared our data, let us now import and train the Simple RNN provided by keras on these sequences. The relevant documentation for SimpleRNN can be found [here](https://keras.io/layers/recurrent/)."
   ]
  },
  {
   "cell_type": "code",
   "execution_count": 18,
   "metadata": {},
   "outputs": [],
   "source": [
    "from keras.models import Sequential\n",
    "from keras.layers import SimpleRNN"
   ]
  },
  {
   "cell_type": "code",
   "execution_count": 19,
   "metadata": {},
   "outputs": [
    {
     "name": "stdout",
     "output_type": "stream",
     "text": [
      "WARNING:tensorflow:From C:\\Users\\agarw\\Anaconda3\\envs\\tensorflow-gpu\\lib\\site-packages\\tensorflow\\python\\framework\\op_def_library.py:263: colocate_with (from tensorflow.python.framework.ops) is deprecated and will be removed in a future version.\n",
      "Instructions for updating:\n",
      "Colocations handled automatically by placer.\n"
     ]
    }
   ],
   "source": [
    "# A 1 layer RNN with a single neuron\n",
    "# if we wish to get the output of each time_step, we must set\n",
    "# return_sequences=True \n",
    "simpleRNN = Sequential([SimpleRNN(units = 1, input_shape= [None, 1], \n",
    "                                  return_sequences = True)] )"
   ]
  },
  {
   "cell_type": "markdown",
   "metadata": {},
   "source": [
    "## compile, fit and evaluate the model"
   ]
  },
  {
   "cell_type": "code",
   "execution_count": null,
   "metadata": {},
   "outputs": [],
   "source": []
  }
 ],
 "metadata": {
  "kernelspec": {
   "display_name": "Python [conda env:tensorflow-gpu]",
   "language": "python",
   "name": "conda-env-tensorflow-gpu-py"
  },
  "language_info": {
   "codemirror_mode": {
    "name": "ipython",
    "version": 3
   },
   "file_extension": ".py",
   "mimetype": "text/x-python",
   "name": "python",
   "nbconvert_exporter": "python",
   "pygments_lexer": "ipython3",
   "version": "3.7.2"
  }
 },
 "nbformat": 4,
 "nbformat_minor": 2
}
